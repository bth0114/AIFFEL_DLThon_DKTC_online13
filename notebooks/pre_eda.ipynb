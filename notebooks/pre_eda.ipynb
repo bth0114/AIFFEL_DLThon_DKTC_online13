{
 "cells": [
  {
   "cell_type": "markdown",
   "id": "22a21c4d",
   "metadata": {},
   "source": [
    "## train 데이타와 일반대화 데이타를 merge하여 하나의 파일로 만든다."
   ]
  },
  {
   "cell_type": "markdown",
   "id": "f54b06d9",
   "metadata": {},
   "source": [
    "**original_train_data : train_csv**\n",
    "\n",
    "**일반대화 데이타 : conversation_normal.csv**"
   ]
  },
  {
   "cell_type": "code",
   "execution_count": 2,
   "id": "7d42e273",
   "metadata": {},
   "outputs": [],
   "source": [
    "import os\n",
    "import pandas as pd\n",
    "import tensorflow\n",
    "import numpy as np"
   ]
  },
  {
   "cell_type": "code",
   "execution_count": 3,
   "id": "192eaeeb",
   "metadata": {
    "scrolled": true
   },
   "outputs": [
    {
     "data": {
      "text/html": [
       "<div>\n",
       "<style scoped>\n",
       "    .dataframe tbody tr th:only-of-type {\n",
       "        vertical-align: middle;\n",
       "    }\n",
       "\n",
       "    .dataframe tbody tr th {\n",
       "        vertical-align: top;\n",
       "    }\n",
       "\n",
       "    .dataframe thead th {\n",
       "        text-align: right;\n",
       "    }\n",
       "</style>\n",
       "<table border=\"1\" class=\"dataframe\">\n",
       "  <thead>\n",
       "    <tr style=\"text-align: right;\">\n",
       "      <th></th>\n",
       "      <th>idx</th>\n",
       "      <th>class</th>\n",
       "      <th>conversation</th>\n",
       "    </tr>\n",
       "  </thead>\n",
       "  <tbody>\n",
       "    <tr>\n",
       "      <th>0</th>\n",
       "      <td>0</td>\n",
       "      <td>협박 대화</td>\n",
       "      <td>지금 너 스스로를 죽여달라고 애원하는 것인가?\\n 아닙니다. 죄송합니다.\\n 죽을 ...</td>\n",
       "    </tr>\n",
       "    <tr>\n",
       "      <th>1</th>\n",
       "      <td>1</td>\n",
       "      <td>협박 대화</td>\n",
       "      <td>길동경찰서입니다.\\n9시 40분 마트에 폭발물을 설치할거다.\\n네?\\n똑바로 들어 ...</td>\n",
       "    </tr>\n",
       "    <tr>\n",
       "      <th>2</th>\n",
       "      <td>2</td>\n",
       "      <td>기타 괴롭힘 대화</td>\n",
       "      <td>너 되게 귀여운거 알지? 나보다 작은 남자는 첨봤어.\\n그만해. 니들 놀리는거 재미...</td>\n",
       "    </tr>\n",
       "    <tr>\n",
       "      <th>3</th>\n",
       "      <td>3</td>\n",
       "      <td>갈취 대화</td>\n",
       "      <td>어이 거기\\n예??\\n너 말이야 너. 이리 오라고\\n무슨 일.\\n너 옷 좋아보인다?...</td>\n",
       "    </tr>\n",
       "    <tr>\n",
       "      <th>4</th>\n",
       "      <td>4</td>\n",
       "      <td>갈취 대화</td>\n",
       "      <td>저기요 혹시 날이 너무 뜨겁잖아요? 저희 회사에서 이 선크림 파는데 한 번 손등에 ...</td>\n",
       "    </tr>\n",
       "  </tbody>\n",
       "</table>\n",
       "</div>"
      ],
      "text/plain": [
       "   idx      class                                       conversation\n",
       "0    0      협박 대화  지금 너 스스로를 죽여달라고 애원하는 것인가?\\n 아닙니다. 죄송합니다.\\n 죽을 ...\n",
       "1    1      협박 대화  길동경찰서입니다.\\n9시 40분 마트에 폭발물을 설치할거다.\\n네?\\n똑바로 들어 ...\n",
       "2    2  기타 괴롭힘 대화  너 되게 귀여운거 알지? 나보다 작은 남자는 첨봤어.\\n그만해. 니들 놀리는거 재미...\n",
       "3    3      갈취 대화  어이 거기\\n예??\\n너 말이야 너. 이리 오라고\\n무슨 일.\\n너 옷 좋아보인다?...\n",
       "4    4      갈취 대화  저기요 혹시 날이 너무 뜨겁잖아요? 저희 회사에서 이 선크림 파는데 한 번 손등에 ..."
      ]
     },
     "execution_count": 3,
     "metadata": {},
     "output_type": "execute_result"
    }
   ],
   "source": [
    "orig_train_path =\"../data/raw_csv/train.csv\"\n",
    "orig_train = pd.read_csv(orig_train_path)\n",
    "orig_train.head()"
   ]
  },
  {
   "cell_type": "code",
   "execution_count": 4,
   "id": "8f92f293",
   "metadata": {},
   "outputs": [
    {
     "name": "stdout",
     "output_type": "stream",
     "text": [
      "기타 괴롭힘 대화      1094\n",
      "갈취 대화           981\n",
      "직장 내 괴롭힘 대화     979\n",
      "협박 대화           896\n",
      "Name: class, dtype: int64\n"
     ]
    },
    {
     "data": {
      "text/plain": [
       "(3950, 3)"
      ]
     },
     "execution_count": 4,
     "metadata": {},
     "output_type": "execute_result"
    }
   ],
   "source": [
    "class_counts = orig_train['class'].value_counts()\n",
    "\n",
    "print(class_counts)\n",
    "\n",
    "orig_train.shape"
   ]
  },
  {
   "cell_type": "code",
   "execution_count": 5,
   "id": "a20ea9e2",
   "metadata": {},
   "outputs": [
    {
     "data": {
      "text/html": [
       "<div>\n",
       "<style scoped>\n",
       "    .dataframe tbody tr th:only-of-type {\n",
       "        vertical-align: middle;\n",
       "    }\n",
       "\n",
       "    .dataframe tbody tr th {\n",
       "        vertical-align: top;\n",
       "    }\n",
       "\n",
       "    .dataframe thead th {\n",
       "        text-align: right;\n",
       "    }\n",
       "</style>\n",
       "<table border=\"1\" class=\"dataframe\">\n",
       "  <thead>\n",
       "    <tr style=\"text-align: right;\">\n",
       "      <th></th>\n",
       "      <th>idx</th>\n",
       "      <th>class</th>\n",
       "      <th>conversation</th>\n",
       "    </tr>\n",
       "  </thead>\n",
       "  <tbody>\n",
       "    <tr>\n",
       "      <th>0</th>\n",
       "      <td>0</td>\n",
       "      <td>협박 대화</td>\n",
       "      <td>지금 너 스스로를 죽여달라고 애원하는 것인가?\\n 아닙니다. 죄송합니다.\\n 죽을 ...</td>\n",
       "    </tr>\n",
       "    <tr>\n",
       "      <th>1</th>\n",
       "      <td>1</td>\n",
       "      <td>협박 대화</td>\n",
       "      <td>길동경찰서입니다.\\n9시 40분 마트에 폭발물을 설치할거다.\\n네?\\n똑바로 들어 ...</td>\n",
       "    </tr>\n",
       "    <tr>\n",
       "      <th>12</th>\n",
       "      <td>12</td>\n",
       "      <td>협박 대화</td>\n",
       "      <td>네네 무슨 일 때문에 전화주셨나요?\\n우리 애가 지우개 하나 훔친거 가지고 애들 앞...</td>\n",
       "    </tr>\n",
       "  </tbody>\n",
       "</table>\n",
       "</div>"
      ],
      "text/plain": [
       "    idx  class                                       conversation\n",
       "0     0  협박 대화  지금 너 스스로를 죽여달라고 애원하는 것인가?\\n 아닙니다. 죄송합니다.\\n 죽을 ...\n",
       "1     1  협박 대화  길동경찰서입니다.\\n9시 40분 마트에 폭발물을 설치할거다.\\n네?\\n똑바로 들어 ...\n",
       "12   12  협박 대화  네네 무슨 일 때문에 전화주셨나요?\\n우리 애가 지우개 하나 훔친거 가지고 애들 앞..."
      ]
     },
     "execution_count": 5,
     "metadata": {},
     "output_type": "execute_result"
    }
   ],
   "source": [
    "orig_train[orig_train['class']=='협박 대화'][:3]"
   ]
  },
  {
   "cell_type": "code",
   "execution_count": 6,
   "id": "2f45f6cb",
   "metadata": {},
   "outputs": [
    {
     "data": {
      "text/html": [
       "<div>\n",
       "<style scoped>\n",
       "    .dataframe tbody tr th:only-of-type {\n",
       "        vertical-align: middle;\n",
       "    }\n",
       "\n",
       "    .dataframe tbody tr th {\n",
       "        vertical-align: top;\n",
       "    }\n",
       "\n",
       "    .dataframe thead th {\n",
       "        text-align: right;\n",
       "    }\n",
       "</style>\n",
       "<table border=\"1\" class=\"dataframe\">\n",
       "  <thead>\n",
       "    <tr style=\"text-align: right;\">\n",
       "      <th></th>\n",
       "      <th>idx</th>\n",
       "      <th>class</th>\n",
       "      <th>conversation</th>\n",
       "    </tr>\n",
       "  </thead>\n",
       "  <tbody>\n",
       "    <tr>\n",
       "      <th>3</th>\n",
       "      <td>3</td>\n",
       "      <td>갈취 대화</td>\n",
       "      <td>어이 거기\\n예??\\n너 말이야 너. 이리 오라고\\n무슨 일.\\n너 옷 좋아보인다?...</td>\n",
       "    </tr>\n",
       "    <tr>\n",
       "      <th>4</th>\n",
       "      <td>4</td>\n",
       "      <td>갈취 대화</td>\n",
       "      <td>저기요 혹시 날이 너무 뜨겁잖아요? 저희 회사에서 이 선크림 파는데 한 번 손등에 ...</td>\n",
       "    </tr>\n",
       "    <tr>\n",
       "      <th>9</th>\n",
       "      <td>9</td>\n",
       "      <td>갈취 대화</td>\n",
       "      <td>자네 세금계산서 보내준 거 메일이랑 수치가 다르던데?\\n그게.\\n얼마나 해먹었어? ...</td>\n",
       "    </tr>\n",
       "  </tbody>\n",
       "</table>\n",
       "</div>"
      ],
      "text/plain": [
       "   idx  class                                       conversation\n",
       "3    3  갈취 대화  어이 거기\\n예??\\n너 말이야 너. 이리 오라고\\n무슨 일.\\n너 옷 좋아보인다?...\n",
       "4    4  갈취 대화  저기요 혹시 날이 너무 뜨겁잖아요? 저희 회사에서 이 선크림 파는데 한 번 손등에 ...\n",
       "9    9  갈취 대화  자네 세금계산서 보내준 거 메일이랑 수치가 다르던데?\\n그게.\\n얼마나 해먹었어? ..."
      ]
     },
     "execution_count": 6,
     "metadata": {},
     "output_type": "execute_result"
    }
   ],
   "source": [
    "orig_train[orig_train['class']=='갈취 대화'][:3]"
   ]
  },
  {
   "cell_type": "code",
   "execution_count": 7,
   "id": "78a076db",
   "metadata": {},
   "outputs": [
    {
     "data": {
      "text/html": [
       "<div>\n",
       "<style scoped>\n",
       "    .dataframe tbody tr th:only-of-type {\n",
       "        vertical-align: middle;\n",
       "    }\n",
       "\n",
       "    .dataframe tbody tr th {\n",
       "        vertical-align: top;\n",
       "    }\n",
       "\n",
       "    .dataframe thead th {\n",
       "        text-align: right;\n",
       "    }\n",
       "</style>\n",
       "<table border=\"1\" class=\"dataframe\">\n",
       "  <thead>\n",
       "    <tr style=\"text-align: right;\">\n",
       "      <th></th>\n",
       "      <th>idx</th>\n",
       "      <th>class</th>\n",
       "      <th>conversation</th>\n",
       "    </tr>\n",
       "  </thead>\n",
       "  <tbody>\n",
       "    <tr>\n",
       "      <th>5</th>\n",
       "      <td>5</td>\n",
       "      <td>직장 내 괴롭힘 대화</td>\n",
       "      <td>나 이틀뒤에 가나다 음식점 예약좀 해줘. 저녁7시로.\\n가나다 음식점이요.?\\n응....</td>\n",
       "    </tr>\n",
       "    <tr>\n",
       "      <th>11</th>\n",
       "      <td>11</td>\n",
       "      <td>직장 내 괴롭힘 대화</td>\n",
       "      <td>이대리 오늘 도대체 뭘한거야?\\n창고정리도 하고 바닥도 청소했습니다\\n이게 한거니?...</td>\n",
       "    </tr>\n",
       "    <tr>\n",
       "      <th>14</th>\n",
       "      <td>14</td>\n",
       "      <td>직장 내 괴롭힘 대화</td>\n",
       "      <td>김사원\\n대리님 왜 그러세요?\\n이거 오늘까지 제출해야 하는데 좀 해줄래?\\n네? ...</td>\n",
       "    </tr>\n",
       "  </tbody>\n",
       "</table>\n",
       "</div>"
      ],
      "text/plain": [
       "    idx        class                                       conversation\n",
       "5     5  직장 내 괴롭힘 대화  나 이틀뒤에 가나다 음식점 예약좀 해줘. 저녁7시로.\\n가나다 음식점이요.?\\n응....\n",
       "11   11  직장 내 괴롭힘 대화  이대리 오늘 도대체 뭘한거야?\\n창고정리도 하고 바닥도 청소했습니다\\n이게 한거니?...\n",
       "14   14  직장 내 괴롭힘 대화  김사원\\n대리님 왜 그러세요?\\n이거 오늘까지 제출해야 하는데 좀 해줄래?\\n네? ..."
      ]
     },
     "execution_count": 7,
     "metadata": {},
     "output_type": "execute_result"
    }
   ],
   "source": [
    "orig_train[orig_train['class']=='직장 내 괴롭힘 대화'][:3]"
   ]
  },
  {
   "cell_type": "code",
   "execution_count": 8,
   "id": "92d8d8be",
   "metadata": {},
   "outputs": [
    {
     "data": {
      "text/html": [
       "<div>\n",
       "<style scoped>\n",
       "    .dataframe tbody tr th:only-of-type {\n",
       "        vertical-align: middle;\n",
       "    }\n",
       "\n",
       "    .dataframe tbody tr th {\n",
       "        vertical-align: top;\n",
       "    }\n",
       "\n",
       "    .dataframe thead th {\n",
       "        text-align: right;\n",
       "    }\n",
       "</style>\n",
       "<table border=\"1\" class=\"dataframe\">\n",
       "  <thead>\n",
       "    <tr style=\"text-align: right;\">\n",
       "      <th></th>\n",
       "      <th>idx</th>\n",
       "      <th>class</th>\n",
       "      <th>conversation</th>\n",
       "    </tr>\n",
       "  </thead>\n",
       "  <tbody>\n",
       "    <tr>\n",
       "      <th>2</th>\n",
       "      <td>2</td>\n",
       "      <td>기타 괴롭힘 대화</td>\n",
       "      <td>너 되게 귀여운거 알지? 나보다 작은 남자는 첨봤어.\\n그만해. 니들 놀리는거 재미...</td>\n",
       "    </tr>\n",
       "    <tr>\n",
       "      <th>6</th>\n",
       "      <td>6</td>\n",
       "      <td>기타 괴롭힘 대화</td>\n",
       "      <td>35번 손님 아이스커피 두잔나왔습니다\\n아이스커피? \\n네 맛있게드세요\\n저기요 아...</td>\n",
       "    </tr>\n",
       "    <tr>\n",
       "      <th>7</th>\n",
       "      <td>7</td>\n",
       "      <td>기타 괴롭힘 대화</td>\n",
       "      <td>경비아저씨 내차에 경고장 붙였어요?\\n내가 여기 몇년째 사는데 아직도 내차인줄 모르...</td>\n",
       "    </tr>\n",
       "  </tbody>\n",
       "</table>\n",
       "</div>"
      ],
      "text/plain": [
       "   idx      class                                       conversation\n",
       "2    2  기타 괴롭힘 대화  너 되게 귀여운거 알지? 나보다 작은 남자는 첨봤어.\\n그만해. 니들 놀리는거 재미...\n",
       "6    6  기타 괴롭힘 대화  35번 손님 아이스커피 두잔나왔습니다\\n아이스커피? \\n네 맛있게드세요\\n저기요 아...\n",
       "7    7  기타 괴롭힘 대화  경비아저씨 내차에 경고장 붙였어요?\\n내가 여기 몇년째 사는데 아직도 내차인줄 모르..."
      ]
     },
     "execution_count": 8,
     "metadata": {},
     "output_type": "execute_result"
    }
   ],
   "source": [
    "orig_train[orig_train['class']=='기타 괴롭힘 대화'][:3]"
   ]
  },
  {
   "cell_type": "code",
   "execution_count": 9,
   "id": "d8970d8f",
   "metadata": {},
   "outputs": [
    {
     "data": {
      "text/html": [
       "<div>\n",
       "<style scoped>\n",
       "    .dataframe tbody tr th:only-of-type {\n",
       "        vertical-align: middle;\n",
       "    }\n",
       "\n",
       "    .dataframe tbody tr th {\n",
       "        vertical-align: top;\n",
       "    }\n",
       "\n",
       "    .dataframe thead th {\n",
       "        text-align: right;\n",
       "    }\n",
       "</style>\n",
       "<table border=\"1\" class=\"dataframe\">\n",
       "  <thead>\n",
       "    <tr style=\"text-align: right;\">\n",
       "      <th></th>\n",
       "      <th>idx</th>\n",
       "      <th>class</th>\n",
       "      <th>conversation</th>\n",
       "    </tr>\n",
       "  </thead>\n",
       "  <tbody>\n",
       "    <tr>\n",
       "      <th>0</th>\n",
       "      <td>4001</td>\n",
       "      <td>일반 대화</td>\n",
       "      <td>집에서 자주 만드는 음식 있어?\\n응, 김치찌개 자주 만들어.\\n오, 김치찌개! 어...</td>\n",
       "    </tr>\n",
       "    <tr>\n",
       "      <th>1</th>\n",
       "      <td>4002</td>\n",
       "      <td>일반 대화</td>\n",
       "      <td>너는 어떤 장르 좋아해?\\n나는 록 음악을 좋아해.\\n오, 록! 그럼 Queen 좋...</td>\n",
       "    </tr>\n",
       "    <tr>\n",
       "      <th>2</th>\n",
       "      <td>4003</td>\n",
       "      <td>일반 대화</td>\n",
       "      <td>오늘 점심 뭐 먹을까요?\\n저는 김밥 먹고 싶은데, 다른 사람들은 어떻게 생각해요?...</td>\n",
       "    </tr>\n",
       "    <tr>\n",
       "      <th>3</th>\n",
       "      <td>4004</td>\n",
       "      <td>일반 대화</td>\n",
       "      <td>과제 다 했어?\\n아직이야. 너무 많아.\\n나도 겨우 끝냈어.\\n우리 같이 도서관 갈래?</td>\n",
       "    </tr>\n",
       "    <tr>\n",
       "      <th>4</th>\n",
       "      <td>4005</td>\n",
       "      <td>일반 대화</td>\n",
       "      <td>이 장난감은 여러 가지 색상 중에서 선택할 수 있나요?\\n네, 다양한 색상이 있어서...</td>\n",
       "    </tr>\n",
       "  </tbody>\n",
       "</table>\n",
       "</div>"
      ],
      "text/plain": [
       "    idx  class                                       conversation\n",
       "0  4001  일반 대화  집에서 자주 만드는 음식 있어?\\n응, 김치찌개 자주 만들어.\\n오, 김치찌개! 어...\n",
       "1  4002  일반 대화  너는 어떤 장르 좋아해?\\n나는 록 음악을 좋아해.\\n오, 록! 그럼 Queen 좋...\n",
       "2  4003  일반 대화  오늘 점심 뭐 먹을까요?\\n저는 김밥 먹고 싶은데, 다른 사람들은 어떻게 생각해요?...\n",
       "3  4004  일반 대화  과제 다 했어?\\n아직이야. 너무 많아.\\n나도 겨우 끝냈어.\\n우리 같이 도서관 갈래?\n",
       "4  4005  일반 대화  이 장난감은 여러 가지 색상 중에서 선택할 수 있나요?\\n네, 다양한 색상이 있어서..."
      ]
     },
     "execution_count": 9,
     "metadata": {},
     "output_type": "execute_result"
    }
   ],
   "source": [
    "# 일반 대화\n",
    "normal_data_path =\"../data/raw_csv/conversation_normal.csv\"\n",
    "normal_data = pd.read_csv(normal_data_path)\n",
    "normal_data.head()"
   ]
  },
  {
   "cell_type": "code",
   "execution_count": 10,
   "id": "e4842e67",
   "metadata": {},
   "outputs": [
    {
     "name": "stdout",
     "output_type": "stream",
     "text": [
      "932\n"
     ]
    }
   ],
   "source": [
    "print(len(normal_data))"
   ]
  },
  {
   "cell_type": "markdown",
   "id": "671c2642",
   "metadata": {},
   "source": [
    "**중복 데이타와 null 데이타 확인**"
   ]
  },
  {
   "cell_type": "code",
   "execution_count": 26,
   "id": "0ae4410a",
   "metadata": {},
   "outputs": [
    {
     "name": "stdout",
     "output_type": "stream",
     "text": [
      "orig_train의 전체 샘플수 : 3950\n",
      "orig_train의 conversation 열에서 중복을 배제한 유일한 샘플의 수 : 3846\n",
      "orig_train의 중복제거 샘플수 : 104\n",
      "idx             0\n",
      "class           0\n",
      "conversation    0\n",
      "dtype: int64\n"
     ]
    }
   ],
   "source": [
    "print('orig_train의 전체 샘플수 :', (len(orig_train)))\n",
    "print('orig_train의 conversation 열에서 중복을 배제한 유일한 샘플의 수 :', orig_train['conversation'].nunique())\n",
    "print('orig_train의 중복제거 샘플수 :',(len(orig_train) - orig_train['conversation'].nunique()) )\n",
    "print(orig_train.isnull().sum())"
   ]
  },
  {
   "cell_type": "code",
   "execution_count": 27,
   "id": "836c7c6e",
   "metadata": {},
   "outputs": [
    {
     "name": "stdout",
     "output_type": "stream",
     "text": [
      "normal_data의 전체 샘플수 : 932\n",
      "normal_data의 conversation 열에서 중복을 배제한 유일한 샘플의 수 : 791\n",
      "normal_data의 중복제거 샘플수 : 141\n",
      "idx             0\n",
      "class           0\n",
      "conversation    0\n",
      "dtype: int64\n"
     ]
    }
   ],
   "source": [
    "print('normal_data의 전체 샘플수 :', (len(normal_data)))\n",
    "print('normal_data의 conversation 열에서 중복을 배제한 유일한 샘플의 수 :', normal_data['conversation'].nunique())\n",
    "print('normal_data의 중복제거 샘플수 :',(len(normal_data) - normal_data['conversation'].nunique()) )\n",
    "print(normal_data.isnull().sum())"
   ]
  },
  {
   "cell_type": "code",
   "execution_count": 28,
   "id": "cd8062aa",
   "metadata": {},
   "outputs": [
    {
     "name": "stdout",
     "output_type": "stream",
     "text": [
      "orig_train의 중복 제거한 전체 샘플수 : 3846\n",
      "normal_data의 중복 제거한 전체 샘플수 : 791\n"
     ]
    }
   ],
   "source": [
    "orig_train.drop_duplicates(subset = ['conversation'], inplace=True)\n",
    "print('orig_train의 중복 제거한 전체 샘플수 :', (len(orig_train)))\n",
    "\n",
    "normal_data.drop_duplicates(subset = ['conversation'], inplace=True)\n",
    "print('normal_data의 중복 제거한 전체 샘플수 :', (len(normal_data)))"
   ]
  },
  {
   "cell_type": "markdown",
   "id": "67cfe5a8",
   "metadata": {},
   "source": [
    "**Original Train과 일반대화 데이타 concat**"
   ]
  },
  {
   "cell_type": "code",
   "execution_count": 29,
   "id": "b95bc721",
   "metadata": {},
   "outputs": [],
   "source": [
    "train_data = pd.concat([orig_train, normal_data], ignore_index=True)\n"
   ]
  },
  {
   "cell_type": "code",
   "execution_count": 30,
   "id": "989a6260",
   "metadata": {},
   "outputs": [],
   "source": [
    "train_data = train_data.sample(frac=1).reset_index(drop=True)"
   ]
  },
  {
   "cell_type": "code",
   "execution_count": 31,
   "id": "2849d339",
   "metadata": {},
   "outputs": [
    {
     "name": "stdout",
     "output_type": "stream",
     "text": [
      "기타 괴롭힘 대화      1011\n",
      "갈취 대화           973\n",
      "직장 내 괴롭힘 대화     970\n",
      "협박 대화           892\n",
      "일반 대화           791\n",
      "Name: class, dtype: int64\n"
     ]
    }
   ],
   "source": [
    "class_counts = train_data['class'].value_counts()\n",
    "\n",
    "print(class_counts)"
   ]
  },
  {
   "cell_type": "code",
   "execution_count": 32,
   "id": "4988e744",
   "metadata": {},
   "outputs": [
    {
     "data": {
      "text/html": [
       "<div>\n",
       "<style scoped>\n",
       "    .dataframe tbody tr th:only-of-type {\n",
       "        vertical-align: middle;\n",
       "    }\n",
       "\n",
       "    .dataframe tbody tr th {\n",
       "        vertical-align: top;\n",
       "    }\n",
       "\n",
       "    .dataframe thead th {\n",
       "        text-align: right;\n",
       "    }\n",
       "</style>\n",
       "<table border=\"1\" class=\"dataframe\">\n",
       "  <thead>\n",
       "    <tr style=\"text-align: right;\">\n",
       "      <th></th>\n",
       "      <th>idx</th>\n",
       "      <th>class</th>\n",
       "      <th>conversation</th>\n",
       "    </tr>\n",
       "  </thead>\n",
       "  <tbody>\n",
       "    <tr>\n",
       "      <th>1</th>\n",
       "      <td>4677</td>\n",
       "      <td>일반 대화</td>\n",
       "      <td>오늘 점심 같이 먹을래?\\n좋아. 어디로 갈까?\\n회사 근처 새로 생긴 중국집 어때...</td>\n",
       "    </tr>\n",
       "    <tr>\n",
       "      <th>2</th>\n",
       "      <td>4668</td>\n",
       "      <td>일반 대화</td>\n",
       "      <td>최근에 본 영화가 너무 재밌었어. 어떤 영화야? 스포일러 없이 말해줘.\\n'어벤져스...</td>\n",
       "    </tr>\n",
       "    <tr>\n",
       "      <th>11</th>\n",
       "      <td>4991</td>\n",
       "      <td>일반 대화</td>\n",
       "      <td>요즘 읽고 있는 책 있어?\\n와, 대단하다!\\n다음에 같이 가자.\\n가족들은 잘 지...</td>\n",
       "    </tr>\n",
       "  </tbody>\n",
       "</table>\n",
       "</div>"
      ],
      "text/plain": [
       "     idx  class                                       conversation\n",
       "1   4677  일반 대화  오늘 점심 같이 먹을래?\\n좋아. 어디로 갈까?\\n회사 근처 새로 생긴 중국집 어때...\n",
       "2   4668  일반 대화  최근에 본 영화가 너무 재밌었어. 어떤 영화야? 스포일러 없이 말해줘.\\n'어벤져스...\n",
       "11  4991  일반 대화  요즘 읽고 있는 책 있어?\\n와, 대단하다!\\n다음에 같이 가자.\\n가족들은 잘 지..."
      ]
     },
     "execution_count": 32,
     "metadata": {},
     "output_type": "execute_result"
    }
   ],
   "source": [
    "train_data[train_data['class']=='일반 대화'][:3]"
   ]
  },
  {
   "cell_type": "code",
   "execution_count": 33,
   "id": "1f20a105",
   "metadata": {},
   "outputs": [
    {
     "name": "stdout",
     "output_type": "stream",
     "text": [
      "훈련 Max length: 874\n",
      "훈련 Average length: 227.74\n"
     ]
    }
   ],
   "source": [
    "X_train = orig_train['conversation']\n",
    "y_train = orig_train['class']\n",
    "\n",
    "# 각 문장의 문자 수 계산\n",
    "lengths = X_train.apply(len)\n",
    "\n",
    "# 최대 길이\n",
    "max_length = lengths.max()\n",
    "\n",
    "# 평균 길이\n",
    "avg_length = lengths.mean()\n",
    "\n",
    "print(f\"훈련 Max length: {max_length}\")\n",
    "print(f\"훈련 Average length: {avg_length:.2f}\")"
   ]
  },
  {
   "cell_type": "code",
   "execution_count": 34,
   "id": "b0856179",
   "metadata": {},
   "outputs": [
    {
     "name": "stdout",
     "output_type": "stream",
     "text": [
      "일반 대화 Max length: 478\n",
      "일반 대화 Average length: 184.94\n"
     ]
    }
   ],
   "source": [
    "X_train = normal_data['conversation']\n",
    "y_train = normal_data['class']\n",
    "\n",
    "# 각 문장의 문자 수 계산\n",
    "lengths = X_train.apply(len)\n",
    "\n",
    "# 최대 길이\n",
    "max_length = lengths.max()\n",
    "\n",
    "# 평균 길이\n",
    "avg_length = lengths.mean()\n",
    "\n",
    "print(f\"일반 대화 Max length: {max_length}\")\n",
    "print(f\"일반 대화 Average length: {avg_length:.2f}\")"
   ]
  },
  {
   "cell_type": "code",
   "execution_count": 35,
   "id": "c7631bf3",
   "metadata": {
    "scrolled": true
   },
   "outputs": [
    {
     "name": "stdout",
     "output_type": "stream",
     "text": [
      "X_train : (4637,)\n",
      "y_train : (4637,)\n"
     ]
    },
    {
     "data": {
      "image/png": "[encoded data removed]",
      "text/plain": [
       "<Figure size 1008x360 with 2 Axes>"
      ]
     },
     "metadata": {
      "needs_background": "light"
     },
     "output_type": "display_data"
    }
   ],
   "source": [
    "import matplotlib.pyplot as plt\n",
    "import seaborn as sns\n",
    "plt.rcParams['font.family'] = 'NanumBarunGothic'\n",
    "plt.rcParams['axes.unicode_minus'] = False  # 마이너스 기호 깨짐 방지\n",
    "\n",
    "X_train = train_data['conversation']\n",
    "y_train = train_data['class']\n",
    "lengths = train_data['conversation'].apply(len)\n",
    "\n",
    "print('X_train :',X_train.shape)\n",
    "print('y_train :',y_train.shape)\n",
    "#print('label 종류:', set(y_train))\n",
    "\n",
    "# 시각화\n",
    "plt.figure(figsize=(14, 5))\n",
    "\n",
    "# 1. 히스토그램: 대화 길이\n",
    "plt.subplot(1, 2, 1)\n",
    "plt.hist(lengths, bins=50, color='skyblue', edgecolor='black')\n",
    "plt.title(\"대화 길이 분포 (히스토그램)\")\n",
    "plt.xlabel(\"문자 수\")\n",
    "plt.ylabel(\"빈도\")\n",
    "\n",
    "# 2. Countplot: class 분포\n",
    "plt.subplot(1, 2, 2)\n",
    "sns.countplot(x=y_train)\n",
    "plt.title(\"Class 별 대화 수\")\n",
    "\n",
    "plt.tight_layout()\n",
    "plt.show()"
   ]
  },
  {
   "cell_type": "code",
   "execution_count": 36,
   "id": "1be79e1a",
   "metadata": {},
   "outputs": [
    {
     "name": "stdout",
     "output_type": "stream",
     "text": [
      "(892,)\n"
     ]
    }
   ],
   "source": [
    "lengths = train_data['conversation'][train_data['class']=='협박 대화'].apply(len)\n",
    "print(lengths.shape)"
   ]
  },
  {
   "cell_type": "code",
   "execution_count": 37,
   "id": "b6aabc7c",
   "metadata": {},
   "outputs": [
    {
     "data": {
      "image/png": "[encoded data removed]",
      "text/plain": [
       "<Figure size 1080x720 with 6 Axes>"
      ]
     },
     "metadata": {
      "needs_background": "light"
     },
     "output_type": "display_data"
    }
   ],
   "source": [
    "fig, axes = plt.subplots(nrows=3, ncols=2, figsize=(15, 10))\n",
    "axes = axes.flatten()  # 2차원 → 1차원 배열로 변환\n",
    "\n",
    "lengths1 = train_data['conversation'][train_data['class']=='협박 대화'].apply(len)\n",
    "lengths2 = train_data['conversation'][train_data['class']=='갈취 대화'].apply(len)\n",
    "lengths3 = train_data['conversation'][train_data['class']=='직장 내 괴롭힘 대화'].apply(len)\n",
    "lengths4 = train_data['conversation'][train_data['class']=='기타 괴롭힘 대화'].apply(len)\n",
    "lengths5 = train_data['conversation'][train_data['class']=='일반 대화'].apply(len)\n",
    "\n",
    "axes[0].hist(lengths1, bins=50)\n",
    "axes[0].set_xlabel('length ')\n",
    "axes[0].set_ylabel('number ')\n",
    "axes[0].set_title('협박 대화')\n",
    "\n",
    "axes[1].hist(lengths2, bins=50)\n",
    "axes[1].set_xlabel('length ')\n",
    "axes[1].set_ylabel('number ')\n",
    "axes[1].set_title('갈취 대화')\n",
    "\n",
    "axes[2].hist(lengths3, bins=50)\n",
    "axes[2].set_xlabel('length ')\n",
    "axes[2].set_ylabel('number')\n",
    "axes[2].set_title('직장 내 괴롭힘 대화')\n",
    "\n",
    "axes[3].hist(lengths4, bins=50)\n",
    "axes[3].set_xlabel('length ')\n",
    "axes[3].set_ylabel('number ')\n",
    "axes[3].set_title('기타 괴롭힘 대화')\n",
    "\n",
    "axes[4].hist(lengths5, bins=50)\n",
    "axes[4].set_xlabel('length ')\n",
    "axes[4].set_ylabel('number ')\n",
    "axes[4].set_title('일반 대화')\n",
    "\n",
    "plt.subplots_adjust(wspace=0.3, hspace=0.5)\n",
    "plt.show()"
   ]
  },
  {
   "cell_type": "markdown",
   "id": "07b2e64e",
   "metadata": {},
   "source": [
    "** train data와 일반대화 데이터를 csv 파일로 저장**\n",
    "- merged_train.csv"
   ]
  },
  {
   "cell_type": "code",
   "execution_count": 38,
   "id": "60f4638f",
   "metadata": {},
   "outputs": [],
   "source": [
    "train_data.to_csv('../data/raw_csv/merged_train.csv', index=False, encoding='utf-8-sig')  # index=False는 인덱스를 저장하지 않도록 함"
   ]
  },
  {
   "cell_type": "code",
   "execution_count": 39,
   "id": "37be0e53",
   "metadata": {},
   "outputs": [
    {
     "data": {
      "text/html": [
       "<div>\n",
       "<style scoped>\n",
       "    .dataframe tbody tr th:only-of-type {\n",
       "        vertical-align: middle;\n",
       "    }\n",
       "\n",
       "    .dataframe tbody tr th {\n",
       "        vertical-align: top;\n",
       "    }\n",
       "\n",
       "    .dataframe thead th {\n",
       "        text-align: right;\n",
       "    }\n",
       "</style>\n",
       "<table border=\"1\" class=\"dataframe\">\n",
       "  <thead>\n",
       "    <tr style=\"text-align: right;\">\n",
       "      <th></th>\n",
       "      <th>idx</th>\n",
       "      <th>class</th>\n",
       "      <th>conversation</th>\n",
       "    </tr>\n",
       "  </thead>\n",
       "  <tbody>\n",
       "    <tr>\n",
       "      <th>0</th>\n",
       "      <td>1957</td>\n",
       "      <td>기타 괴롭힘 대화</td>\n",
       "      <td>이번주에 집 좀 비워라?\\n응? 부모님 계시는데.\\n아니 내가 비우라잖아.\\n그렇지...</td>\n",
       "    </tr>\n",
       "    <tr>\n",
       "      <th>1</th>\n",
       "      <td>4677</td>\n",
       "      <td>일반 대화</td>\n",
       "      <td>오늘 점심 같이 먹을래?\\n좋아. 어디로 갈까?\\n회사 근처 새로 생긴 중국집 어때...</td>\n",
       "    </tr>\n",
       "    <tr>\n",
       "      <th>2</th>\n",
       "      <td>4668</td>\n",
       "      <td>일반 대화</td>\n",
       "      <td>최근에 본 영화가 너무 재밌었어. 어떤 영화야? 스포일러 없이 말해줘.\\n'어벤져스...</td>\n",
       "    </tr>\n",
       "    <tr>\n",
       "      <th>3</th>\n",
       "      <td>2559</td>\n",
       "      <td>직장 내 괴롭힘 대화</td>\n",
       "      <td>일을 못하면 말이라도 잘 하던지\\n죄송합니다\\n나 때는 이러면 바로 불려갔어 알아?...</td>\n",
       "    </tr>\n",
       "    <tr>\n",
       "      <th>4</th>\n",
       "      <td>338</td>\n",
       "      <td>갈취 대화</td>\n",
       "      <td>야 지나가는 너\\n저요?\\n그래. 키 쪼만한 너.\\n왜요?\\n왜요? 왜요? 쳐맞기 ...</td>\n",
       "    </tr>\n",
       "  </tbody>\n",
       "</table>\n",
       "</div>"
      ],
      "text/plain": [
       "    idx        class                                       conversation\n",
       "0  1957    기타 괴롭힘 대화  이번주에 집 좀 비워라?\\n응? 부모님 계시는데.\\n아니 내가 비우라잖아.\\n그렇지...\n",
       "1  4677        일반 대화  오늘 점심 같이 먹을래?\\n좋아. 어디로 갈까?\\n회사 근처 새로 생긴 중국집 어때...\n",
       "2  4668        일반 대화  최근에 본 영화가 너무 재밌었어. 어떤 영화야? 스포일러 없이 말해줘.\\n'어벤져스...\n",
       "3  2559  직장 내 괴롭힘 대화  일을 못하면 말이라도 잘 하던지\\n죄송합니다\\n나 때는 이러면 바로 불려갔어 알아?...\n",
       "4   338        갈취 대화  야 지나가는 너\\n저요?\\n그래. 키 쪼만한 너.\\n왜요?\\n왜요? 왜요? 쳐맞기 ..."
      ]
     },
     "execution_count": 39,
     "metadata": {},
     "output_type": "execute_result"
    }
   ],
   "source": [
    "train_data_path =\"../data/raw_csv/merged_train.csv\"\n",
    "train_data = pd.read_csv(train_data_path)\n",
    "train_data.head()"
   ]
  },
  {
   "cell_type": "code",
   "execution_count": 40,
   "id": "783864e7",
   "metadata": {},
   "outputs": [
    {
     "data": {
      "text/plain": [
       "(4637, 3)"
      ]
     },
     "execution_count": 40,
     "metadata": {},
     "output_type": "execute_result"
    }
   ],
   "source": [
    "train_data.shape"
   ]
  }
 ],
 "metadata": {
  "kernelspec": {
   "display_name": "Python 3 (ipykernel)",
   "language": "python",
   "name": "python3"
  },
  "language_info": {
   "codemirror_mode": {
    "name": "ipython",
    "version": 3
   },
   "file_extension": ".py",
   "mimetype": "text/x-python",
   "name": "python",
   "nbconvert_exporter": "python",
   "pygments_lexer": "ipython3",
   "version": "3.9.7"
  }
 },
 "nbformat": 4,
 "nbformat_minor": 5
}
