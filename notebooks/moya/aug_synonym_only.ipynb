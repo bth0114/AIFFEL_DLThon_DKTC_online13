{
 "cells": [
  {
   "cell_type": "markdown",
   "id": "c2bf3e0f",
   "metadata": {},
   "source": [
    "## 데이타 증강 - 일반대화는 증강하지 않는다."
   ]
  },
  {
   "cell_type": "code",
   "execution_count": 1,
   "id": "15ec325f",
   "metadata": {},
   "outputs": [],
   "source": [
    "import os\n",
    "import pandas as pd\n",
    "import tensorflow\n",
    "import numpy as np"
   ]
  },
  {
   "cell_type": "code",
   "execution_count": 2,
   "id": "f779986d",
   "metadata": {},
   "outputs": [
    {
     "data": {
      "text/html": [
       "<div>\n",
       "<style scoped>\n",
       "    .dataframe tbody tr th:only-of-type {\n",
       "        vertical-align: middle;\n",
       "    }\n",
       "\n",
       "    .dataframe tbody tr th {\n",
       "        vertical-align: top;\n",
       "    }\n",
       "\n",
       "    .dataframe thead th {\n",
       "        text-align: right;\n",
       "    }\n",
       "</style>\n",
       "<table border=\"1\" class=\"dataframe\">\n",
       "  <thead>\n",
       "    <tr style=\"text-align: right;\">\n",
       "      <th></th>\n",
       "      <th>idx</th>\n",
       "      <th>class</th>\n",
       "      <th>conversation</th>\n",
       "    </tr>\n",
       "  </thead>\n",
       "  <tbody>\n",
       "    <tr>\n",
       "      <th>0</th>\n",
       "      <td>673</td>\n",
       "      <td>직장 내 괴롭힘 대화</td>\n",
       "      <td>김과장 라인 잘 타. 누가 회사 이끄는 건데.\\n 아무래도 이건 부당한 것 같습니다...</td>\n",
       "    </tr>\n",
       "    <tr>\n",
       "      <th>1</th>\n",
       "      <td>243</td>\n",
       "      <td>협박 대화</td>\n",
       "      <td>이게 어떻게 된거야.? 엄마 수술은 어떻게 된거냐고\\n 엄마가 이제 괜찮다고 해서 ...</td>\n",
       "    </tr>\n",
       "    <tr>\n",
       "      <th>2</th>\n",
       "      <td>2006</td>\n",
       "      <td>갈취 대화</td>\n",
       "      <td>이사님 이 사진. 모르지 않으실텐데요?\\n이. 이건. \\n이사님이 여기까지 오신거 ...</td>\n",
       "    </tr>\n",
       "    <tr>\n",
       "      <th>3</th>\n",
       "      <td>1073</td>\n",
       "      <td>협박 대화</td>\n",
       "      <td>너 지금 나랑 헤어지자고 한거야? 죽고싶어?\\n 그만하자\\n 너 내가 헤어지자고 말...</td>\n",
       "    </tr>\n",
       "    <tr>\n",
       "      <th>4</th>\n",
       "      <td>893</td>\n",
       "      <td>기타 괴롭힘 대화</td>\n",
       "      <td>철수 씨는 그 학교 나와서 그 연봉 받고 살만해요?\\n그게 무슨 말씀이시죠?\\n아니...</td>\n",
       "    </tr>\n",
       "  </tbody>\n",
       "</table>\n",
       "</div>"
      ],
      "text/plain": [
       "    idx        class                                       conversation\n",
       "0   673  직장 내 괴롭힘 대화  김과장 라인 잘 타. 누가 회사 이끄는 건데.\\n 아무래도 이건 부당한 것 같습니다...\n",
       "1   243        협박 대화  이게 어떻게 된거야.? 엄마 수술은 어떻게 된거냐고\\n 엄마가 이제 괜찮다고 해서 ...\n",
       "2  2006        갈취 대화  이사님 이 사진. 모르지 않으실텐데요?\\n이. 이건. \\n이사님이 여기까지 오신거 ...\n",
       "3  1073        협박 대화  너 지금 나랑 헤어지자고 한거야? 죽고싶어?\\n 그만하자\\n 너 내가 헤어지자고 말...\n",
       "4   893    기타 괴롭힘 대화  철수 씨는 그 학교 나와서 그 연봉 받고 살만해요?\\n그게 무슨 말씀이시죠?\\n아니..."
      ]
     },
     "execution_count": 2,
     "metadata": {},
     "output_type": "execute_result"
    }
   ],
   "source": [
    "current_dir = os.getcwd()\n",
    "data_dir = os.path.join(current_dir, '../../data', 'raw_csv')\n",
    "train_data_path = os.path.join(data_dir, 'merged_train_train.csv')\n",
    "\n",
    "train_data = pd.read_csv(train_data_path)\n",
    "train_data.head()"
   ]
  },
  {
   "cell_type": "code",
   "execution_count": 3,
   "id": "ea3da80d",
   "metadata": {},
   "outputs": [
    {
     "name": "stdout",
     "output_type": "stream",
     "text": [
      "전체 샘플수 : 3709\n",
      "<class 'pandas.core.frame.DataFrame'>\n",
      "RangeIndex: 3709 entries, 0 to 3708\n",
      "Data columns (total 3 columns):\n",
      " #   Column        Non-Null Count  Dtype \n",
      "---  ------        --------------  ----- \n",
      " 0   idx           3709 non-null   int64 \n",
      " 1   class         3709 non-null   object\n",
      " 2   conversation  3709 non-null   object\n",
      "dtypes: int64(1), object(2)\n",
      "memory usage: 87.1+ KB\n"
     ]
    }
   ],
   "source": [
    "print('전체 샘플수 :', (len(train_data)))\n",
    "train_data.info()"
   ]
  },
  {
   "cell_type": "markdown",
   "id": "a24726a1",
   "metadata": {},
   "source": [
    "**한국어 불용어 사전**"
   ]
  },
  {
   "cell_type": "code",
   "execution_count": 4,
   "id": "7579ad93",
   "metadata": {},
   "outputs": [],
   "source": [
    "# 불용어 제거\n",
    "import re\n",
    "\n",
    "def preprocess_sentence(sentence):\n",
    "    sentence = sentence.lower().strip()\n",
    "\n",
    "    sentence = re.sub(r\"([?.!,])\", r\" \\1 \", sentence)\n",
    "    sentence = re.sub(r'[\" \"]+', \" \", sentence)\n",
    "    sentence = re.sub(r\"[^a-zA-Zㄱ-ㅎ가-힣ㅏ-ㅣ?.!,]+\", \" \", sentence)\n",
    "    \n",
    "    sentence = sentence.strip()\n",
    "\n",
    "    return sentence"
   ]
  },
  {
   "cell_type": "code",
   "execution_count": 5,
   "id": "80a023b8",
   "metadata": {},
   "outputs": [],
   "source": [
    "import re\n",
    "\n",
    "def preprocess_korean(sentence):\n",
    "    # 한글 외 모든 문자 제거\n",
    "    sentence = re.sub(r'[^ㄱ-ㅎㅏ-ㅣ가-힣\\s]', '', sentence)\n",
    "    # 연속된 공백 제거\n",
    "    sentence = re.sub(r'\\s+', ' ', sentence).strip()\n",
    "    return sentence\n"
   ]
  },
  {
   "cell_type": "markdown",
   "id": "b0c55bff",
   "metadata": {},
   "source": [
    "**동의어**"
   ]
  },
  {
   "cell_type": "code",
   "execution_count": 6,
   "id": "36767d2f",
   "metadata": {},
   "outputs": [],
   "source": [
    "import random\n",
    "import pickle\n",
    "import re\n",
    "\n",
    "wordnet = {}\n",
    "with open(\"wordnet.pickle\", \"rb\") as f:\n",
    "    wordnet = pickle.load(f)\n",
    "\n",
    "# 전체': ['전체', '전적', '전부', '총체', '전반']\n",
    "# '인': ['인', '인간', '인물', '사람', '인류']\n",
    "#print(wordnet)"
   ]
  },
  {
   "cell_type": "code",
   "execution_count": 7,
   "id": "7c0c2f68",
   "metadata": {},
   "outputs": [],
   "source": [
    "# wordnet에서 동의어 리스트를 가져온다. \n",
    "# 동의어가 없을 수도 있다\n",
    "def synonyms_from_wordnet(word):\n",
    "    synonyms = []\n",
    "    try:\n",
    "        for list in wordnet[word] :\n",
    "             synonyms.append(list)\n",
    "    except KeyError:\n",
    "        pass\n",
    "    \n",
    "    return synonyms"
   ]
  },
  {
   "cell_type": "code",
   "execution_count": 8,
   "id": "6dc6cf39",
   "metadata": {},
   "outputs": [
    {
     "name": "stdout",
     "output_type": "stream",
     "text": [
      "전체\n",
      "전적\n",
      "전부\n",
      "총체\n",
      "전반\n"
     ]
    }
   ],
   "source": [
    "#'전체': ['전체', '전적', '전부', '총체', '전반']\n",
    "synonyms = synonyms_from_wordnet( \"전체\" )\n",
    "for word in synonyms : \n",
    "    print(word)"
   ]
  },
  {
   "cell_type": "code",
   "execution_count": 9,
   "id": "733298a3",
   "metadata": {},
   "outputs": [],
   "source": [
    "# word list로 구성된 sentense를 동의어로 바꿔준다\n",
    "def replace_to_synonyms(input_words, count): \n",
    "     \n",
    "    # new_words\n",
    "    new_words = []\n",
    "    \n",
    "    #\n",
    "    word_list = list(set([word for word in input_words]))\n",
    "    random.shuffle(word_list)\n",
    "    \n",
    "    replace_count = 0\n",
    "    for word in word_list : \n",
    "        # 동의어 리스트를 가져온다. \n",
    "        synonyms = synonyms_from_wordnet( word )\n",
    "        \n",
    "        if len(synonyms) == 0 : continue\n",
    "        \n",
    "        synonym = random.choice(list(synonyms))\n",
    "        if( word == synonym) : continue\n",
    "            \n",
    "        new_words = [synonym if wd == word else wd for wd in input_words]\n",
    "        \n",
    "        replace_count +=1\n",
    "        \n",
    "        if replace_count >= count : break\n",
    "    \n",
    "    # \n",
    "    #if len(new_words) > 0 : \n",
    "    #    sentence = ' '.join(new_words)\n",
    "    #   new_words = sentence.split(\" \")\n",
    "    \n",
    "       \n",
    "    return new_words\n",
    "               "
   ]
  },
  {
   "cell_type": "code",
   "execution_count": 10,
   "id": "4066f1fd",
   "metadata": {},
   "outputs": [],
   "source": [
    "def gen_sentence_by_swap_word(inputs_words, count):\n",
    "    \n",
    "    # new_words\n",
    "    new_words = []\n",
    "    \n",
    "    #\n",
    "#    word_list = list(set([word for word in input_words]))\n",
    "#    random.shuffle(word_list)\n",
    "    \n",
    "    return new_words"
   ]
  },
  {
   "cell_type": "code",
   "execution_count": 11,
   "id": "8c42dd3f",
   "metadata": {},
   "outputs": [],
   "source": [
    "def DataAugmentation(sentense, alpha_sr=0.2, aug_count=1):\n",
    "    \n",
    "    augmented_sentences = []\n",
    "    \n",
    "    # 한글만 처리\n",
    "    sentense = preprocess_korean(sentense)\n",
    "    sentense = sentense.split(' ')\n",
    "    words = [word for word in sentense if word != \"\"]\n",
    "    num_words = len(words)\n",
    "       \n",
    "    # 동의어로 단어 바꿔 문장 생성하기\n",
    "    n_sr = max(1, int(alpha_sr*num_words))\n",
    "    \n",
    "    for _ in range(aug_count):\n",
    "        a_words = replace_to_synonyms( words, n_sr )\n",
    "          \n",
    "        if( len(a_words) > 0 ):\n",
    "            augmented_sentences.append(\" \".join(a_words))\n",
    "     \n",
    "    \n",
    "    \n",
    "    # 생성된 문장들 shuffle\n",
    "    random.shuffle(augmented_sentences)\n",
    "    return augmented_sentences"
   ]
  },
  {
   "cell_type": "code",
   "execution_count": 13,
   "id": "c2e9513c",
   "metadata": {},
   "outputs": [
    {
     "name": "stdout",
     "output_type": "stream",
     "text": [
      "6357\n",
      "6357\n"
     ]
    }
   ],
   "source": [
    "new_class_list = []\n",
    "new_conversation_list = []\n",
    "new_idx_list = []\n",
    "\n",
    "idx = len(train_data['conversation']);\n",
    "\n",
    "filtered_data = train_data[train_data['class'] != '일반 대화']\n",
    "filtered_data = filtered_data.reset_index(drop=True)\n",
    "\n",
    "         \n",
    "for i in range(len(filtered_data['conversation'])):\n",
    "\n",
    "    class_ = filtered_data['class'][i]\n",
    "    \n",
    "    num_aug = 3\n",
    "    \n",
    "    augmented_sentences = DataAugmentation(train_data['conversation'][i], aug_count=num_aug)\n",
    "    \n",
    "    if not augmented_sentences : # 리스트가 비어 있으면 True\n",
    "        continue\n",
    "        \n",
    "    for j in range(min(num_aug, len(augmented_sentences))):\n",
    "        #if not augmented_sentences[j] : continue;\n",
    "        new_class_list.append( class_ )\n",
    "        new_conversation_list.append(augmented_sentences[j])\n",
    "        idx =idx+1\n",
    "        new_idx_list.append(int(idx))\n",
    "\n",
    "print(len(new_class_list))    \n",
    "print(len(new_conversation_list)) \n",
    "        "
   ]
  },
  {
   "cell_type": "code",
   "execution_count": 14,
   "id": "3c060d9c",
   "metadata": {},
   "outputs": [
    {
     "data": {
      "text/plain": [
       "0    김과장 라인 잘 타. 누가 회사 이끄는 건데.\\n 아무래도 이건 부당한 것 같습니다...\n",
       "Name: conversation, dtype: object"
      ]
     },
     "execution_count": 14,
     "metadata": {},
     "output_type": "execute_result"
    }
   ],
   "source": [
    "filtered_data['conversation'][0:1]"
   ]
  },
  {
   "cell_type": "code",
   "execution_count": 15,
   "id": "1271ff79",
   "metadata": {
    "scrolled": true
   },
   "outputs": [
    {
     "data": {
      "text/plain": [
       "['김과장 라인 잘 타 누가 회사 이끄는 건데 아무래도 이건 부당한 것 같습니다 김과장이 그렇다하면 어쩔 건데 그러니까 네가 아직도 과장인 거야 저는 하늘 부끄럼 없습니다 요즘 같은 시대에 아직도 이런 사람이 있네 네 알아서 해라 너같은 답답이는 오히려 방해돼 부장님이 그러시면 저는 사나이 신고 센터에 갈 수밖에 없습니다 자네 지금 나 협박하는 거야 자신 있어 두고봐 아니에요 부장님 제가 뭘 하면 되나요 잘 좀 하자 이번 건 안 따오면 아니면 다음 승진도 물 건너 간거다 물론 넌 못할 가능성 높겠지만 네 알겠습니다',\n",
       " '김과장 라인 잘 타 누가 회사 이끄는 건데 아무래도 이건 부당한 것 같습니다 김과장이 그렇다하면 어쩔 건데 그러니까 네가 아직도 과장인 거야 저는 하늘 부끄럼 없습니다 요즘 같은 시대에 아직도 이런 사람이 있네 네 알아서 해라 너같은 답답이는 오히려 방해돼 부장님이 그러시면 저는 사내 신고 센터에 갤런 수밖에 없습니다 자네 지금 나 협박하는 거야 자신 있어 두고봐 아니에요 부장님 제가 뭘 하면 되나요 잘 좀 하자 이번 건 안 따오면 아니면 다음 승진도 물 건너 간거다 물론 넌 못할 가능성 높겠지만 네 알겠습니다',\n",
       " '김과장 라인 잘 타 누가 회사 이끄는 건데 아무래도 이건 부당한 것 같습니다 김과장이 그렇다하면 어쩔 건데 그러니까 네가 아직도 과장인 거야 저는 하늘 부끄럼 없습니다 요즘 같은 시대에 아직도 이런 사람이 있네 네 알아서 해라 너같은 답답이는 오히려 방해돼 부장님이 그러시면 저는 사내 신고 센터에 갈 수밖에 없습니다 자네 지금 나 협박하는 거야 자신 있어 두고봐 아니에요 부장님 제가 뭘 하면 되나요 잘 좀 하자 이번 건 안쪽 따오면 아니면 다음 승진도 물 건너 간거다 물론 넌 못할 가능성 높겠지만 네 알겠습니다']"
      ]
     },
     "execution_count": 15,
     "metadata": {},
     "output_type": "execute_result"
    }
   ],
   "source": [
    "new_conversation_list[0:3]"
   ]
  },
  {
   "cell_type": "code",
   "execution_count": 16,
   "id": "eecba6b8",
   "metadata": {},
   "outputs": [],
   "source": [
    "aug_data = pd.DataFrame([new_idx_list, new_class_list, new_conversation_list],\n",
    "                  index=['idx','class','conversation'],\n",
    "                 columns=[x for x in range(len(new_class_list))])\n",
    "aug_data  = aug_data .transpose()"
   ]
  },
  {
   "cell_type": "code",
   "execution_count": 17,
   "id": "d11ab02a",
   "metadata": {
    "scrolled": true
   },
   "outputs": [
    {
     "data": {
      "text/html": [
       "<div>\n",
       "<style scoped>\n",
       "    .dataframe tbody tr th:only-of-type {\n",
       "        vertical-align: middle;\n",
       "    }\n",
       "\n",
       "    .dataframe tbody tr th {\n",
       "        vertical-align: top;\n",
       "    }\n",
       "\n",
       "    .dataframe thead th {\n",
       "        text-align: right;\n",
       "    }\n",
       "</style>\n",
       "<table border=\"1\" class=\"dataframe\">\n",
       "  <thead>\n",
       "    <tr style=\"text-align: right;\">\n",
       "      <th></th>\n",
       "      <th>idx</th>\n",
       "      <th>class</th>\n",
       "      <th>conversation</th>\n",
       "    </tr>\n",
       "  </thead>\n",
       "  <tbody>\n",
       "    <tr>\n",
       "      <th>0</th>\n",
       "      <td>3711</td>\n",
       "      <td>직장 내 괴롭힘 대화</td>\n",
       "      <td>김과장 라인 잘 타 누가 회사 이끄는 건데 아무래도 이건 부당한 것 같습니다 김과장...</td>\n",
       "    </tr>\n",
       "    <tr>\n",
       "      <th>1</th>\n",
       "      <td>3712</td>\n",
       "      <td>직장 내 괴롭힘 대화</td>\n",
       "      <td>김과장 라인 잘 타 누가 회사 이끄는 건데 아무래도 이건 부당한 것 같습니다 김과장...</td>\n",
       "    </tr>\n",
       "    <tr>\n",
       "      <th>2</th>\n",
       "      <td>3713</td>\n",
       "      <td>직장 내 괴롭힘 대화</td>\n",
       "      <td>김과장 라인 잘 타 누가 회사 이끄는 건데 아무래도 이건 부당한 것 같습니다 김과장...</td>\n",
       "    </tr>\n",
       "    <tr>\n",
       "      <th>3</th>\n",
       "      <td>3714</td>\n",
       "      <td>협박 대화</td>\n",
       "      <td>이게 어떻게 된거야 엄마 수술은 어떻게 된거냐고 엄마가 이제 괜찮다고 해서 딱 봐도...</td>\n",
       "    </tr>\n",
       "    <tr>\n",
       "      <th>4</th>\n",
       "      <td>3715</td>\n",
       "      <td>협박 대화</td>\n",
       "      <td>이게 어떻게 된거야 엄마 수술은 어떻게 된거냐고 엄마가 이제 괜찮다고 해서 딱 봐도...</td>\n",
       "    </tr>\n",
       "  </tbody>\n",
       "</table>\n",
       "</div>"
      ],
      "text/plain": [
       "    idx        class                                       conversation\n",
       "0  3711  직장 내 괴롭힘 대화  김과장 라인 잘 타 누가 회사 이끄는 건데 아무래도 이건 부당한 것 같습니다 김과장...\n",
       "1  3712  직장 내 괴롭힘 대화  김과장 라인 잘 타 누가 회사 이끄는 건데 아무래도 이건 부당한 것 같습니다 김과장...\n",
       "2  3713  직장 내 괴롭힘 대화  김과장 라인 잘 타 누가 회사 이끄는 건데 아무래도 이건 부당한 것 같습니다 김과장...\n",
       "3  3714        협박 대화  이게 어떻게 된거야 엄마 수술은 어떻게 된거냐고 엄마가 이제 괜찮다고 해서 딱 봐도...\n",
       "4  3715        협박 대화  이게 어떻게 된거야 엄마 수술은 어떻게 된거냐고 엄마가 이제 괜찮다고 해서 딱 봐도..."
      ]
     },
     "execution_count": 17,
     "metadata": {},
     "output_type": "execute_result"
    }
   ],
   "source": [
    "aug_data.head()"
   ]
  },
  {
   "cell_type": "code",
   "execution_count": 18,
   "id": "8931695a",
   "metadata": {},
   "outputs": [],
   "source": [
    "aug_train_data = aug_data.sample(frac=1).reset_index(drop=True)\n",
    "\n",
    "aug_train_data['idx'] = [(len(train_data['conversation'])+x+1)for x in range(len(aug_train_data))]\n",
    "aug_train_data = aug_train_data.reset_index(drop=True)"
   ]
  },
  {
   "cell_type": "code",
   "execution_count": 19,
   "id": "e14293c5",
   "metadata": {},
   "outputs": [
    {
     "data": {
      "text/html": [
       "<div>\n",
       "<style scoped>\n",
       "    .dataframe tbody tr th:only-of-type {\n",
       "        vertical-align: middle;\n",
       "    }\n",
       "\n",
       "    .dataframe tbody tr th {\n",
       "        vertical-align: top;\n",
       "    }\n",
       "\n",
       "    .dataframe thead th {\n",
       "        text-align: right;\n",
       "    }\n",
       "</style>\n",
       "<table border=\"1\" class=\"dataframe\">\n",
       "  <thead>\n",
       "    <tr style=\"text-align: right;\">\n",
       "      <th></th>\n",
       "      <th>idx</th>\n",
       "      <th>class</th>\n",
       "      <th>conversation</th>\n",
       "    </tr>\n",
       "  </thead>\n",
       "  <tbody>\n",
       "    <tr>\n",
       "      <th>0</th>\n",
       "      <td>3710</td>\n",
       "      <td>기타 괴롭힘 대화</td>\n",
       "      <td>돈 있는 것좀 다 줘봐 이게 다에요 오천원 거짓말하지마 거짓말아니에요 이게 다에요 ...</td>\n",
       "    </tr>\n",
       "    <tr>\n",
       "      <th>1</th>\n",
       "      <td>3711</td>\n",
       "      <td>협박 대화</td>\n",
       "      <td>저기요 이거 영상으로 왜 올리셨어요 사전에 동의하에 목소리 나간다고 말씀드렸습니다 ...</td>\n",
       "    </tr>\n",
       "    <tr>\n",
       "      <th>2</th>\n",
       "      <td>3712</td>\n",
       "      <td>직장 내 괴롭힘 대화</td>\n",
       "      <td>야 너 선배를 봤으면 인사를 해야지 뭐해 앗 선배 안녕하세요 됐고 폰 좀 줘봐 네 ...</td>\n",
       "    </tr>\n",
       "    <tr>\n",
       "      <th>3</th>\n",
       "      <td>3713</td>\n",
       "      <td>협박 대화</td>\n",
       "      <td>담배 좀 빌립시다 학생들같은데 그냥 가라 거 같이 좀 핍시다 학생이 무슨 담배야 거...</td>\n",
       "    </tr>\n",
       "    <tr>\n",
       "      <th>4</th>\n",
       "      <td>3714</td>\n",
       "      <td>협박 대화</td>\n",
       "      <td>자위 영상 보내 빨리 아 그리고 궁금한게 있는데 학교 어디 다녀 응 여기있어 그건 ...</td>\n",
       "    </tr>\n",
       "  </tbody>\n",
       "</table>\n",
       "</div>"
      ],
      "text/plain": [
       "    idx        class                                       conversation\n",
       "0  3710    기타 괴롭힘 대화  돈 있는 것좀 다 줘봐 이게 다에요 오천원 거짓말하지마 거짓말아니에요 이게 다에요 ...\n",
       "1  3711        협박 대화  저기요 이거 영상으로 왜 올리셨어요 사전에 동의하에 목소리 나간다고 말씀드렸습니다 ...\n",
       "2  3712  직장 내 괴롭힘 대화  야 너 선배를 봤으면 인사를 해야지 뭐해 앗 선배 안녕하세요 됐고 폰 좀 줘봐 네 ...\n",
       "3  3713        협박 대화  담배 좀 빌립시다 학생들같은데 그냥 가라 거 같이 좀 핍시다 학생이 무슨 담배야 거...\n",
       "4  3714        협박 대화  자위 영상 보내 빨리 아 그리고 궁금한게 있는데 학교 어디 다녀 응 여기있어 그건 ..."
      ]
     },
     "execution_count": 19,
     "metadata": {},
     "output_type": "execute_result"
    }
   ],
   "source": [
    "aug_train_data.head()"
   ]
  },
  {
   "cell_type": "code",
   "execution_count": 20,
   "id": "f7d697b5",
   "metadata": {},
   "outputs": [
    {
     "data": {
      "text/html": [
       "<div>\n",
       "<style scoped>\n",
       "    .dataframe tbody tr th:only-of-type {\n",
       "        vertical-align: middle;\n",
       "    }\n",
       "\n",
       "    .dataframe tbody tr th {\n",
       "        vertical-align: top;\n",
       "    }\n",
       "\n",
       "    .dataframe thead th {\n",
       "        text-align: right;\n",
       "    }\n",
       "</style>\n",
       "<table border=\"1\" class=\"dataframe\">\n",
       "  <thead>\n",
       "    <tr style=\"text-align: right;\">\n",
       "      <th></th>\n",
       "      <th>idx</th>\n",
       "      <th>class</th>\n",
       "      <th>conversation</th>\n",
       "    </tr>\n",
       "  </thead>\n",
       "  <tbody>\n",
       "    <tr>\n",
       "      <th>6352</th>\n",
       "      <td>10062</td>\n",
       "      <td>기타 괴롭힘 대화</td>\n",
       "      <td>야 이 책 내가 좀 빌려간다 응 너 저번에 빌려간 내 수학책도 안줬잖아 아 맞다 이...</td>\n",
       "    </tr>\n",
       "    <tr>\n",
       "      <th>6353</th>\n",
       "      <td>10063</td>\n",
       "      <td>직장 내 괴롭힘 대화</td>\n",
       "      <td>이번 방학 과정 있어 친구들이랑 제주도 여행 가려고 몇 박 몇 일로 과정 중이야 박...</td>\n",
       "    </tr>\n",
       "    <tr>\n",
       "      <th>6354</th>\n",
       "      <td>10064</td>\n",
       "      <td>협박 대화</td>\n",
       "      <td>감독님 저 더 이상 시나리오 못짜겠습니다 대신 그동안 작업해놨는 것을 이어서 다른 ...</td>\n",
       "    </tr>\n",
       "    <tr>\n",
       "      <th>6355</th>\n",
       "      <td>10065</td>\n",
       "      <td>협박 대화</td>\n",
       "      <td>실례합니다 이 자리 맥주 있나요 네 저한테 물으시는 건가요 네 이 좌석이 맥주 있는...</td>\n",
       "    </tr>\n",
       "    <tr>\n",
       "      <th>6356</th>\n",
       "      <td>10066</td>\n",
       "      <td>기타 괴롭힘 대화</td>\n",
       "      <td>어이 부딪혔으면 정중하게 사과를 해야할 거 아이가 죄송합니다 임마 말하는 거 보니깐...</td>\n",
       "    </tr>\n",
       "  </tbody>\n",
       "</table>\n",
       "</div>"
      ],
      "text/plain": [
       "        idx        class                                       conversation\n",
       "6352  10062    기타 괴롭힘 대화  야 이 책 내가 좀 빌려간다 응 너 저번에 빌려간 내 수학책도 안줬잖아 아 맞다 이...\n",
       "6353  10063  직장 내 괴롭힘 대화  이번 방학 과정 있어 친구들이랑 제주도 여행 가려고 몇 박 몇 일로 과정 중이야 박...\n",
       "6354  10064        협박 대화  감독님 저 더 이상 시나리오 못짜겠습니다 대신 그동안 작업해놨는 것을 이어서 다른 ...\n",
       "6355  10065        협박 대화  실례합니다 이 자리 맥주 있나요 네 저한테 물으시는 건가요 네 이 좌석이 맥주 있는...\n",
       "6356  10066    기타 괴롭힘 대화  어이 부딪혔으면 정중하게 사과를 해야할 거 아이가 죄송합니다 임마 말하는 거 보니깐..."
      ]
     },
     "execution_count": 20,
     "metadata": {},
     "output_type": "execute_result"
    }
   ],
   "source": [
    "aug_train_data.tail()"
   ]
  },
  {
   "cell_type": "code",
   "execution_count": 21,
   "id": "119b58da",
   "metadata": {
    "scrolled": true
   },
   "outputs": [
    {
     "name": "stdout",
     "output_type": "stream",
     "text": [
      "6357\n"
     ]
    }
   ],
   "source": [
    "print(len(aug_train_data))"
   ]
  },
  {
   "cell_type": "code",
   "execution_count": 22,
   "id": "a1aff2a1",
   "metadata": {},
   "outputs": [
    {
     "name": "stdout",
     "output_type": "stream",
     "text": [
      "기타 괴롭힘 대화      1659\n",
      "갈취 대화          1616\n",
      "직장 내 괴롭힘 대화    1561\n",
      "협박 대화          1521\n",
      "Name: class, dtype: int64\n"
     ]
    }
   ],
   "source": [
    "class_counts = aug_train_data['class'].value_counts()\n",
    "\n",
    "print(class_counts)"
   ]
  },
  {
   "cell_type": "code",
   "execution_count": 23,
   "id": "03118f96",
   "metadata": {},
   "outputs": [],
   "source": [
    "aug_train_data.to_csv('../../data/aug_csv/aug_synonym_train_only.csv', index=False, encoding='utf-8-sig')  # index=False는 인덱스를 저장하지 않도록 함"
   ]
  },
  {
   "cell_type": "code",
   "execution_count": 26,
   "id": "8ebc4a1f",
   "metadata": {},
   "outputs": [
    {
     "data": {
      "text/html": [
       "<div>\n",
       "<style scoped>\n",
       "    .dataframe tbody tr th:only-of-type {\n",
       "        vertical-align: middle;\n",
       "    }\n",
       "\n",
       "    .dataframe tbody tr th {\n",
       "        vertical-align: top;\n",
       "    }\n",
       "\n",
       "    .dataframe thead th {\n",
       "        text-align: right;\n",
       "    }\n",
       "</style>\n",
       "<table border=\"1\" class=\"dataframe\">\n",
       "  <thead>\n",
       "    <tr style=\"text-align: right;\">\n",
       "      <th></th>\n",
       "      <th>idx</th>\n",
       "      <th>class</th>\n",
       "      <th>conversation</th>\n",
       "    </tr>\n",
       "  </thead>\n",
       "  <tbody>\n",
       "    <tr>\n",
       "      <th>0</th>\n",
       "      <td>3710</td>\n",
       "      <td>기타 괴롭힘 대화</td>\n",
       "      <td>돈 있는 것좀 다 줘봐 이게 다에요 오천원 거짓말하지마 거짓말아니에요 이게 다에요 ...</td>\n",
       "    </tr>\n",
       "    <tr>\n",
       "      <th>1</th>\n",
       "      <td>3711</td>\n",
       "      <td>협박 대화</td>\n",
       "      <td>저기요 이거 영상으로 왜 올리셨어요 사전에 동의하에 목소리 나간다고 말씀드렸습니다 ...</td>\n",
       "    </tr>\n",
       "    <tr>\n",
       "      <th>2</th>\n",
       "      <td>3712</td>\n",
       "      <td>직장 내 괴롭힘 대화</td>\n",
       "      <td>야 너 선배를 봤으면 인사를 해야지 뭐해 앗 선배 안녕하세요 됐고 폰 좀 줘봐 네 ...</td>\n",
       "    </tr>\n",
       "    <tr>\n",
       "      <th>3</th>\n",
       "      <td>3713</td>\n",
       "      <td>협박 대화</td>\n",
       "      <td>담배 좀 빌립시다 학생들같은데 그냥 가라 거 같이 좀 핍시다 학생이 무슨 담배야 거...</td>\n",
       "    </tr>\n",
       "    <tr>\n",
       "      <th>4</th>\n",
       "      <td>3714</td>\n",
       "      <td>협박 대화</td>\n",
       "      <td>자위 영상 보내 빨리 아 그리고 궁금한게 있는데 학교 어디 다녀 응 여기있어 그건 ...</td>\n",
       "    </tr>\n",
       "  </tbody>\n",
       "</table>\n",
       "</div>"
      ],
      "text/plain": [
       "    idx        class                                       conversation\n",
       "0  3710    기타 괴롭힘 대화  돈 있는 것좀 다 줘봐 이게 다에요 오천원 거짓말하지마 거짓말아니에요 이게 다에요 ...\n",
       "1  3711        협박 대화  저기요 이거 영상으로 왜 올리셨어요 사전에 동의하에 목소리 나간다고 말씀드렸습니다 ...\n",
       "2  3712  직장 내 괴롭힘 대화  야 너 선배를 봤으면 인사를 해야지 뭐해 앗 선배 안녕하세요 됐고 폰 좀 줘봐 네 ...\n",
       "3  3713        협박 대화  담배 좀 빌립시다 학생들같은데 그냥 가라 거 같이 좀 핍시다 학생이 무슨 담배야 거...\n",
       "4  3714        협박 대화  자위 영상 보내 빨리 아 그리고 궁금한게 있는데 학교 어디 다녀 응 여기있어 그건 ..."
      ]
     },
     "execution_count": 26,
     "metadata": {},
     "output_type": "execute_result"
    }
   ],
   "source": [
    "aug_data_path =\"../../data/aug_csv/aug_synonym_train_only.csv\"\n",
    "aug_data = pd.read_csv(aug_data_path)\n",
    "aug_data.head()"
   ]
  },
  {
   "cell_type": "code",
   "execution_count": null,
   "id": "12ca313b",
   "metadata": {},
   "outputs": [],
   "source": []
  }
 ],
 "metadata": {
  "kernelspec": {
   "display_name": "Python 3 (ipykernel)",
   "language": "python",
   "name": "python3"
  },
  "language_info": {
   "codemirror_mode": {
    "name": "ipython",
    "version": 3
   },
   "file_extension": ".py",
   "mimetype": "text/x-python",
   "name": "python",
   "nbconvert_exporter": "python",
   "pygments_lexer": "ipython3",
   "version": "3.9.7"
  }
 },
 "nbformat": 4,
 "nbformat_minor": 5
}
