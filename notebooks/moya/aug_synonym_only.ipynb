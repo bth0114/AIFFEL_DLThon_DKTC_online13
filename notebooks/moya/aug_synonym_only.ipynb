{
 "cells": [
  {
   "cell_type": "markdown",
   "id": "c2fd82f4",
   "metadata": {},
   "source": [
    "## 데이타 증강 - 일반대화는 증강하지 않는다."
   ]
  },
  {
   "cell_type": "code",
   "execution_count": 1,
   "id": "cae91786",
   "metadata": {},
   "outputs": [],
   "source": [
    "import os\n",
    "import pandas as pd\n",
    "import tensorflow\n",
    "import numpy as np"
   ]
  },
  {
   "cell_type": "code",
   "execution_count": 2,
   "id": "e6dd78c5",
   "metadata": {},
   "outputs": [
    {
     "data": {
      "text/html": [
       "<div>\n",
       "<style scoped>\n",
       "    .dataframe tbody tr th:only-of-type {\n",
       "        vertical-align: middle;\n",
       "    }\n",
       "\n",
       "    .dataframe tbody tr th {\n",
       "        vertical-align: top;\n",
       "    }\n",
       "\n",
       "    .dataframe thead th {\n",
       "        text-align: right;\n",
       "    }\n",
       "</style>\n",
       "<table border=\"1\" class=\"dataframe\">\n",
       "  <thead>\n",
       "    <tr style=\"text-align: right;\">\n",
       "      <th></th>\n",
       "      <th>idx</th>\n",
       "      <th>class</th>\n",
       "      <th>conversation</th>\n",
       "    </tr>\n",
       "  </thead>\n",
       "  <tbody>\n",
       "    <tr>\n",
       "      <th>0</th>\n",
       "      <td>3748</td>\n",
       "      <td>직장 내 괴롭힘 대화</td>\n",
       "      <td>지은씨 커피 좀 사와요.\\n그건 싫어요.\\n사오라면 사와야지 인턴주제.\\n그러니까요...</td>\n",
       "    </tr>\n",
       "    <tr>\n",
       "      <th>1</th>\n",
       "      <td>3149</td>\n",
       "      <td>직장 내 괴롭힘 대화</td>\n",
       "      <td>자 점심식사들 합시다\\n 와 점심시간이다. 과장님 밥 어디서 먹죠 오늘은?\\n 대리...</td>\n",
       "    </tr>\n",
       "    <tr>\n",
       "      <th>2</th>\n",
       "      <td>1866</td>\n",
       "      <td>협박 대화</td>\n",
       "      <td>어이 이쁜이 시간이 지났는데 약속을 안지키네\\n네.엄마가 아프셔서.\\n그래 엄마가 ...</td>\n",
       "    </tr>\n",
       "    <tr>\n",
       "      <th>3</th>\n",
       "      <td>1493</td>\n",
       "      <td>기타 괴롭힘 대화</td>\n",
       "      <td>우리 귀여운 철수야 여기 돈 줄테니까 핫도그랑 콜라좀 사다줄래? 남은 돈은 너 가져...</td>\n",
       "    </tr>\n",
       "    <tr>\n",
       "      <th>4</th>\n",
       "      <td>366</td>\n",
       "      <td>직장 내 괴롭힘 대화</td>\n",
       "      <td>어이 김대리\\n예 이부장님\\n오늘 하라고 했던 서류 정리 다 끝냈어?\\n아.그게 아...</td>\n",
       "    </tr>\n",
       "  </tbody>\n",
       "</table>\n",
       "</div>"
      ],
      "text/plain": [
       "    idx        class                                       conversation\n",
       "0  3748  직장 내 괴롭힘 대화  지은씨 커피 좀 사와요.\\n그건 싫어요.\\n사오라면 사와야지 인턴주제.\\n그러니까요...\n",
       "1  3149  직장 내 괴롭힘 대화  자 점심식사들 합시다\\n 와 점심시간이다. 과장님 밥 어디서 먹죠 오늘은?\\n 대리...\n",
       "2  1866        협박 대화  어이 이쁜이 시간이 지났는데 약속을 안지키네\\n네.엄마가 아프셔서.\\n그래 엄마가 ...\n",
       "3  1493    기타 괴롭힘 대화  우리 귀여운 철수야 여기 돈 줄테니까 핫도그랑 콜라좀 사다줄래? 남은 돈은 너 가져...\n",
       "4   366  직장 내 괴롭힘 대화  어이 김대리\\n예 이부장님\\n오늘 하라고 했던 서류 정리 다 끝냈어?\\n아.그게 아..."
      ]
     },
     "execution_count": 2,
     "metadata": {},
     "output_type": "execute_result"
    }
   ],
   "source": [
    "current_dir = os.getcwd()\n",
    "data_dir = os.path.join(current_dir, '../../data', 'raw_csv')\n",
    "train_data_path = os.path.join(data_dir, 'train_no_dup.csv')\n",
    "\n",
    "train_data = pd.read_csv(train_data_path)\n",
    "train_data.head()"
   ]
  },
  {
   "cell_type": "code",
   "execution_count": 3,
   "id": "53728ec9",
   "metadata": {},
   "outputs": [
    {
     "name": "stdout",
     "output_type": "stream",
     "text": [
      "전체 샘플수 : 3846\n",
      "<class 'pandas.core.frame.DataFrame'>\n",
      "RangeIndex: 3846 entries, 0 to 3845\n",
      "Data columns (total 3 columns):\n",
      " #   Column        Non-Null Count  Dtype \n",
      "---  ------        --------------  ----- \n",
      " 0   idx           3846 non-null   int64 \n",
      " 1   class         3846 non-null   object\n",
      " 2   conversation  3846 non-null   object\n",
      "dtypes: int64(1), object(2)\n",
      "memory usage: 90.3+ KB\n"
     ]
    }
   ],
   "source": [
    "print('전체 샘플수 :', (len(train_data)))\n",
    "train_data.info()"
   ]
  },
  {
   "cell_type": "markdown",
   "id": "0e7599b7",
   "metadata": {},
   "source": [
    "**한국어 불용어 사전**"
   ]
  },
  {
   "cell_type": "code",
   "execution_count": 4,
   "id": "8d7c920e",
   "metadata": {},
   "outputs": [],
   "source": [
    "# 불용어 제거\n",
    "import re\n",
    "\n",
    "def preprocess_sentence(sentence):\n",
    "    sentence = sentence.lower().strip()\n",
    "\n",
    "    sentence = re.sub(r\"([?.!,])\", r\" \\1 \", sentence)\n",
    "    sentence = re.sub(r'[\" \"]+', \" \", sentence)\n",
    "    sentence = re.sub(r\"[^a-zA-Zㄱ-ㅎ가-힣ㅏ-ㅣ?.!,]+\", \" \", sentence)\n",
    "    \n",
    "    sentence = sentence.strip()\n",
    "\n",
    "    return sentence"
   ]
  },
  {
   "cell_type": "code",
   "execution_count": 5,
   "id": "b82db5d2",
   "metadata": {},
   "outputs": [],
   "source": [
    "import re\n",
    "\n",
    "def preprocess_korean(sentence):\n",
    "    # 한글 외 모든 문자 제거\n",
    "    sentence = re.sub(r'[^ㄱ-ㅎㅏ-ㅣ가-힣\\s]', '', sentence)\n",
    "    # 연속된 공백 제거\n",
    "    sentence = re.sub(r'\\s+', ' ', sentence).strip()\n",
    "    return sentence\n"
   ]
  },
  {
   "cell_type": "markdown",
   "id": "f5ba1fd8",
   "metadata": {},
   "source": [
    "**동의어**"
   ]
  },
  {
   "cell_type": "code",
   "execution_count": 6,
   "id": "da8b58ae",
   "metadata": {},
   "outputs": [],
   "source": [
    "import random\n",
    "import pickle\n",
    "import re\n",
    "\n",
    "wordnet = {}\n",
    "with open(\"wordnet.pickle\", \"rb\") as f:\n",
    "    wordnet = pickle.load(f)\n",
    "\n",
    "# 전체': ['전체', '전적', '전부', '총체', '전반']\n",
    "# '인': ['인', '인간', '인물', '사람', '인류']\n",
    "#print(wordnet)"
   ]
  },
  {
   "cell_type": "code",
   "execution_count": 7,
   "id": "d28534cc",
   "metadata": {},
   "outputs": [],
   "source": [
    "# wordnet에서 동의어 리스트를 가져온다. \n",
    "# 동의어가 없을 수도 있다\n",
    "def synonyms_from_wordnet(word):\n",
    "    synonyms = []\n",
    "    try:\n",
    "        for list in wordnet[word] :\n",
    "             synonyms.append(list)\n",
    "    except KeyError:\n",
    "        pass\n",
    "    \n",
    "    return synonyms"
   ]
  },
  {
   "cell_type": "code",
   "execution_count": 8,
   "id": "dc927628",
   "metadata": {},
   "outputs": [
    {
     "name": "stdout",
     "output_type": "stream",
     "text": [
      "전체\n",
      "전적\n",
      "전부\n",
      "총체\n",
      "전반\n"
     ]
    }
   ],
   "source": [
    "#'전체': ['전체', '전적', '전부', '총체', '전반']\n",
    "synonyms = synonyms_from_wordnet( \"전체\" )\n",
    "for word in synonyms : \n",
    "    print(word)"
   ]
  },
  {
   "cell_type": "code",
   "execution_count": 9,
   "id": "f91227c7",
   "metadata": {},
   "outputs": [],
   "source": [
    "# word list로 구성된 sentense를 동의어로 바꿔준다\n",
    "def replace_to_synonyms(input_words, count): \n",
    "     \n",
    "    # new_words\n",
    "    new_words = []\n",
    "    \n",
    "    #\n",
    "    word_list = list(set([word for word in input_words]))\n",
    "    random.shuffle(word_list)\n",
    "    \n",
    "    replace_count = 0\n",
    "    for word in word_list : \n",
    "        # 동의어 리스트를 가져온다. \n",
    "        synonyms = synonyms_from_wordnet( word )\n",
    "        \n",
    "        if len(synonyms) == 0 : continue\n",
    "        \n",
    "        synonym = random.choice(list(synonyms))\n",
    "        if( word == synonym) : continue\n",
    "            \n",
    "        new_words = [synonym if wd == word else wd for wd in input_words]\n",
    "        \n",
    "        replace_count +=1\n",
    "        \n",
    "        if replace_count >= count : break\n",
    "    \n",
    "    # \n",
    "    #if len(new_words) > 0 : \n",
    "    #    sentence = ' '.join(new_words)\n",
    "    #   new_words = sentence.split(\" \")\n",
    "    \n",
    "       \n",
    "    return new_words\n",
    "               "
   ]
  },
  {
   "cell_type": "code",
   "execution_count": 10,
   "id": "46f3fd5e",
   "metadata": {},
   "outputs": [],
   "source": [
    "def gen_sentence_by_swap_word(inputs_words, count):\n",
    "    \n",
    "    # new_words\n",
    "    new_words = []\n",
    "    \n",
    "    #\n",
    "#    word_list = list(set([word for word in input_words]))\n",
    "#    random.shuffle(word_list)\n",
    "    \n",
    "    return new_words"
   ]
  },
  {
   "cell_type": "code",
   "execution_count": 11,
   "id": "1ab99e4f",
   "metadata": {},
   "outputs": [],
   "source": [
    "def DataAugmentation(sentense, alpha_sr=0.2, aug_count=1):\n",
    "    \n",
    "    augmented_sentences = []\n",
    "    \n",
    "    # 한글만 처리\n",
    "    sentense = preprocess_korean(sentense)\n",
    "    sentense = sentense.split(' ')\n",
    "    words = [word for word in sentense if word != \"\"]\n",
    "    num_words = len(words)\n",
    "       \n",
    "    # 동의어로 단어 바꿔 문장 생성하기\n",
    "    n_sr = max(1, int(alpha_sr*num_words))\n",
    "    \n",
    "    for _ in range(aug_count):\n",
    "        a_words = replace_to_synonyms( words, n_sr )\n",
    "          \n",
    "        if( len(a_words) > 0 ):\n",
    "            augmented_sentences.append(\" \".join(a_words))\n",
    "     \n",
    "    \n",
    "    \n",
    "    # 생성된 문장들 shuffle\n",
    "    random.shuffle(augmented_sentences)\n",
    "    return augmented_sentences"
   ]
  },
  {
   "cell_type": "code",
   "execution_count": 12,
   "id": "9659863a",
   "metadata": {},
   "outputs": [
    {
     "name": "stdout",
     "output_type": "stream",
     "text": [
      "8005\n",
      "8005\n"
     ]
    }
   ],
   "source": [
    "new_class_list = []\n",
    "new_conversation_list = []\n",
    "new_idx_list = []\n",
    "\n",
    "idx = len(train_data['conversation'])+1;\n",
    "          \n",
    "for i in range(len(train_data['conversation'])):\n",
    "#for i in range(2):\n",
    "    class_ = train_data['class'][i]\n",
    "    \n",
    "    num_aug = 3\n",
    "    \n",
    "    augmented_sentences = DataAugmentation(train_data['conversation'][i], aug_count=num_aug)\n",
    "    \n",
    "    if not augmented_sentences : # 리스트가 비어 있으면 True\n",
    "        continue\n",
    "        \n",
    "    for j in range(min(num_aug, len(augmented_sentences))):\n",
    "        #if not augmented_sentences[j] : continue;\n",
    "        new_class_list.append( class_ )\n",
    "        new_conversation_list.append(augmented_sentences[j])\n",
    "        idx =idx+1\n",
    "        new_idx_list.append(int(idx))\n",
    "\n",
    "print(len(new_class_list))    \n",
    "print(len(new_conversation_list)) \n",
    "        "
   ]
  },
  {
   "cell_type": "code",
   "execution_count": 13,
   "id": "886f4bce",
   "metadata": {},
   "outputs": [
    {
     "data": {
      "text/plain": [
       "0    지은씨 커피 좀 사와요.\\n그건 싫어요.\\n사오라면 사와야지 인턴주제.\\n그러니까요...\n",
       "Name: conversation, dtype: object"
      ]
     },
     "execution_count": 13,
     "metadata": {},
     "output_type": "execute_result"
    }
   ],
   "source": [
    "train_data['conversation'][0:1]"
   ]
  },
  {
   "cell_type": "code",
   "execution_count": 14,
   "id": "4698f64d",
   "metadata": {
    "scrolled": true
   },
   "outputs": [
    {
     "data": {
      "text/plain": [
       "['지은씨 커피 좀 사와요 그건 싫어요 사오라면 사와야지 인턴주제 그러니까요 부장님 이거 권력 남용인 거 아세요 뭐 권력 남용 지은씨 회사 짤리고 싶어 제가 더러운 회사 나가고 만다 그 말에 원죄 질 수 있나 네 수고하세요',\n",
       " '지은씨 커피 좀 사와요 그건 싫어요 사오라면 사와야지 인턴주제 그러니까요 부장님 이거 권력 남용인 거 아세요 뭐 권력 남용 지은씨 회사 짤리고 싶어 제가 더러운 회사 나가고 만다 그 말에 악행 질 수 있나 네 수고하세요',\n",
       " '지은씨 커피 좀 사와요 그건 싫어요 사오라면 사와야지 인턴주제 그러니까요 부장님 이거 권력 남용인 거 아세요 뭐 권력 남용 지은씨 회사 짤리고 싶어 제가 더러운 회사 나가고 만다 그 말에 책임 명사 수 있나 네 수고하세요']"
      ]
     },
     "execution_count": 14,
     "metadata": {},
     "output_type": "execute_result"
    }
   ],
   "source": [
    "new_conversation_list[0:3]"
   ]
  },
  {
   "cell_type": "code",
   "execution_count": 15,
   "id": "861fd23d",
   "metadata": {},
   "outputs": [],
   "source": [
    "aug_data = pd.DataFrame([new_idx_list, new_class_list, new_conversation_list],\n",
    "                  index=['idx','class','conversation'],\n",
    "                 columns=[x for x in range(len(new_class_list))])\n",
    "aug_data  = aug_data .transpose()"
   ]
  },
  {
   "cell_type": "code",
   "execution_count": 24,
   "id": "5b82a322",
   "metadata": {
    "scrolled": true
   },
   "outputs": [
    {
     "data": {
      "text/html": [
       "<div>\n",
       "<style scoped>\n",
       "    .dataframe tbody tr th:only-of-type {\n",
       "        vertical-align: middle;\n",
       "    }\n",
       "\n",
       "    .dataframe tbody tr th {\n",
       "        vertical-align: top;\n",
       "    }\n",
       "\n",
       "    .dataframe thead th {\n",
       "        text-align: right;\n",
       "    }\n",
       "</style>\n",
       "<table border=\"1\" class=\"dataframe\">\n",
       "  <thead>\n",
       "    <tr style=\"text-align: right;\">\n",
       "      <th></th>\n",
       "      <th>idx</th>\n",
       "      <th>class</th>\n",
       "      <th>conversation</th>\n",
       "    </tr>\n",
       "  </thead>\n",
       "  <tbody>\n",
       "    <tr>\n",
       "      <th>0</th>\n",
       "      <td>3848</td>\n",
       "      <td>직장 내 괴롭힘 대화</td>\n",
       "      <td>지은씨 커피 좀 사와요 그건 싫어요 사오라면 사와야지 인턴주제 그러니까요 부장님 이...</td>\n",
       "    </tr>\n",
       "    <tr>\n",
       "      <th>1</th>\n",
       "      <td>3849</td>\n",
       "      <td>직장 내 괴롭힘 대화</td>\n",
       "      <td>지은씨 커피 좀 사와요 그건 싫어요 사오라면 사와야지 인턴주제 그러니까요 부장님 이...</td>\n",
       "    </tr>\n",
       "    <tr>\n",
       "      <th>2</th>\n",
       "      <td>3850</td>\n",
       "      <td>직장 내 괴롭힘 대화</td>\n",
       "      <td>지은씨 커피 좀 사와요 그건 싫어요 사오라면 사와야지 인턴주제 그러니까요 부장님 이...</td>\n",
       "    </tr>\n",
       "    <tr>\n",
       "      <th>3</th>\n",
       "      <td>3851</td>\n",
       "      <td>기타 괴롭힘 대화</td>\n",
       "      <td>우리 귀여운 철수야 여기 돈 줄테니까 핫도그랑 콜라좀 사다줄래 남은 돈은 너 가져 ...</td>\n",
       "    </tr>\n",
       "    <tr>\n",
       "      <th>4</th>\n",
       "      <td>3852</td>\n",
       "      <td>기타 괴롭힘 대화</td>\n",
       "      <td>우리 귀여운 철수야 여기 시가 줄테니까 핫도그랑 콜라좀 사다줄래 남은 돈은 너 가져...</td>\n",
       "    </tr>\n",
       "  </tbody>\n",
       "</table>\n",
       "</div>"
      ],
      "text/plain": [
       "    idx        class                                       conversation\n",
       "0  3848  직장 내 괴롭힘 대화  지은씨 커피 좀 사와요 그건 싫어요 사오라면 사와야지 인턴주제 그러니까요 부장님 이...\n",
       "1  3849  직장 내 괴롭힘 대화  지은씨 커피 좀 사와요 그건 싫어요 사오라면 사와야지 인턴주제 그러니까요 부장님 이...\n",
       "2  3850  직장 내 괴롭힘 대화  지은씨 커피 좀 사와요 그건 싫어요 사오라면 사와야지 인턴주제 그러니까요 부장님 이...\n",
       "3  3851    기타 괴롭힘 대화  우리 귀여운 철수야 여기 돈 줄테니까 핫도그랑 콜라좀 사다줄래 남은 돈은 너 가져 ...\n",
       "4  3852    기타 괴롭힘 대화  우리 귀여운 철수야 여기 시가 줄테니까 핫도그랑 콜라좀 사다줄래 남은 돈은 너 가져..."
      ]
     },
     "execution_count": 24,
     "metadata": {},
     "output_type": "execute_result"
    }
   ],
   "source": [
    "aug_data.head()"
   ]
  },
  {
   "cell_type": "code",
   "execution_count": 25,
   "id": "bc4e479c",
   "metadata": {},
   "outputs": [],
   "source": [
    "aug_train_data = aug_data.sample(frac=1).reset_index(drop=True)\n",
    "\n",
    "aug_train_data['idx'] = [x for x in range(len(aug_train_data))]\n",
    "aug_train_data = aug_train_data.reset_index(drop=True)"
   ]
  },
  {
   "cell_type": "code",
   "execution_count": 27,
   "id": "496f260a",
   "metadata": {},
   "outputs": [
    {
     "data": {
      "text/html": [
       "<div>\n",
       "<style scoped>\n",
       "    .dataframe tbody tr th:only-of-type {\n",
       "        vertical-align: middle;\n",
       "    }\n",
       "\n",
       "    .dataframe tbody tr th {\n",
       "        vertical-align: top;\n",
       "    }\n",
       "\n",
       "    .dataframe thead th {\n",
       "        text-align: right;\n",
       "    }\n",
       "</style>\n",
       "<table border=\"1\" class=\"dataframe\">\n",
       "  <thead>\n",
       "    <tr style=\"text-align: right;\">\n",
       "      <th></th>\n",
       "      <th>idx</th>\n",
       "      <th>class</th>\n",
       "      <th>conversation</th>\n",
       "    </tr>\n",
       "  </thead>\n",
       "  <tbody>\n",
       "    <tr>\n",
       "      <th>0</th>\n",
       "      <td>0</td>\n",
       "      <td>협박 대화</td>\n",
       "      <td>그게 사실이야 죄송합니다 그게 솔직히 너가 그랬을 거라고 생각하지 않아 아닙니다 한...</td>\n",
       "    </tr>\n",
       "    <tr>\n",
       "      <th>1</th>\n",
       "      <td>1</td>\n",
       "      <td>직장 내 괴롭힘 대화</td>\n",
       "      <td>박사원 몇살이에요 예 몇살이길래 이거 하나 제대로 못해와 혹시 학벌 속였어요 아닙니...</td>\n",
       "    </tr>\n",
       "    <tr>\n",
       "      <th>2</th>\n",
       "      <td>2</td>\n",
       "      <td>기타 괴롭힘 대화</td>\n",
       "      <td>아 너 진짜 싫다 왜 몰라서 물어 너희 부모님이 부탁해서 너 챙겨주긴하는데 솔직히 ...</td>\n",
       "    </tr>\n",
       "    <tr>\n",
       "      <th>3</th>\n",
       "      <td>3</td>\n",
       "      <td>기타 괴롭힘 대화</td>\n",
       "      <td>님 그 호텔 좋아요 신고했어요 신고 안 될텐데 나 아이피추적도 안 돼요 왜 이러세요...</td>\n",
       "    </tr>\n",
       "    <tr>\n",
       "      <th>4</th>\n",
       "      <td>4</td>\n",
       "      <td>직장 내 괴롭힘 대화</td>\n",
       "      <td>저기 과장님 회식 자리에서 그때 죄송합니다 제가 술에 너무 취해서 시끄러워 어디서 ...</td>\n",
       "    </tr>\n",
       "  </tbody>\n",
       "</table>\n",
       "</div>"
      ],
      "text/plain": [
       "   idx        class                                       conversation\n",
       "0    0        협박 대화  그게 사실이야 죄송합니다 그게 솔직히 너가 그랬을 거라고 생각하지 않아 아닙니다 한...\n",
       "1    1  직장 내 괴롭힘 대화  박사원 몇살이에요 예 몇살이길래 이거 하나 제대로 못해와 혹시 학벌 속였어요 아닙니...\n",
       "2    2    기타 괴롭힘 대화  아 너 진짜 싫다 왜 몰라서 물어 너희 부모님이 부탁해서 너 챙겨주긴하는데 솔직히 ...\n",
       "3    3    기타 괴롭힘 대화  님 그 호텔 좋아요 신고했어요 신고 안 될텐데 나 아이피추적도 안 돼요 왜 이러세요...\n",
       "4    4  직장 내 괴롭힘 대화  저기 과장님 회식 자리에서 그때 죄송합니다 제가 술에 너무 취해서 시끄러워 어디서 ..."
      ]
     },
     "execution_count": 27,
     "metadata": {},
     "output_type": "execute_result"
    }
   ],
   "source": [
    "aug_train_data.head()"
   ]
  },
  {
   "cell_type": "code",
   "execution_count": 28,
   "id": "0942d737",
   "metadata": {},
   "outputs": [
    {
     "data": {
      "text/html": [
       "<div>\n",
       "<style scoped>\n",
       "    .dataframe tbody tr th:only-of-type {\n",
       "        vertical-align: middle;\n",
       "    }\n",
       "\n",
       "    .dataframe tbody tr th {\n",
       "        vertical-align: top;\n",
       "    }\n",
       "\n",
       "    .dataframe thead th {\n",
       "        text-align: right;\n",
       "    }\n",
       "</style>\n",
       "<table border=\"1\" class=\"dataframe\">\n",
       "  <thead>\n",
       "    <tr style=\"text-align: right;\">\n",
       "      <th></th>\n",
       "      <th>idx</th>\n",
       "      <th>class</th>\n",
       "      <th>conversation</th>\n",
       "    </tr>\n",
       "  </thead>\n",
       "  <tbody>\n",
       "    <tr>\n",
       "      <th>8000</th>\n",
       "      <td>8000</td>\n",
       "      <td>기타 괴롭힘 대화</td>\n",
       "      <td>야 이것좀 빌리자 안돼 전에 가져갔던 무선이어폰도 안주고 있잖아 그건 내가 쓰고 있...</td>\n",
       "    </tr>\n",
       "    <tr>\n",
       "      <th>8001</th>\n",
       "      <td>8001</td>\n",
       "      <td>직장 내 괴롭힘 대화</td>\n",
       "      <td>영희씨 이거 이렇게 하면 어떻게 유해 나더러 어떻게 하라고 네 그거 어제 팀장님이 ...</td>\n",
       "    </tr>\n",
       "    <tr>\n",
       "      <th>8002</th>\n",
       "      <td>8002</td>\n",
       "      <td>기타 괴롭힘 대화</td>\n",
       "      <td>아 정글 씨발새끼 정글에 엄마 묻어놨냐 계속 찾아다니네 그니까 쉬발 지가 갱당해 뒤...</td>\n",
       "    </tr>\n",
       "    <tr>\n",
       "      <th>8003</th>\n",
       "      <td>8003</td>\n",
       "      <td>갈취 대화</td>\n",
       "      <td>너 이번주 용돈 받은거 다 내놔 나 학교 끝나고 여친이랑 오토바이 타고 부산 가야해...</td>\n",
       "    </tr>\n",
       "    <tr>\n",
       "      <th>8004</th>\n",
       "      <td>8004</td>\n",
       "      <td>기타 괴롭힘 대화</td>\n",
       "      <td>야 이새끼 봐바 오타쿠인가봐 뭔데뭔데 아 뭐냐 그림 이게 애인 미미쨩인가 그거냐 하...</td>\n",
       "    </tr>\n",
       "  </tbody>\n",
       "</table>\n",
       "</div>"
      ],
      "text/plain": [
       "       idx        class                                       conversation\n",
       "8000  8000    기타 괴롭힘 대화  야 이것좀 빌리자 안돼 전에 가져갔던 무선이어폰도 안주고 있잖아 그건 내가 쓰고 있...\n",
       "8001  8001  직장 내 괴롭힘 대화  영희씨 이거 이렇게 하면 어떻게 유해 나더러 어떻게 하라고 네 그거 어제 팀장님이 ...\n",
       "8002  8002    기타 괴롭힘 대화  아 정글 씨발새끼 정글에 엄마 묻어놨냐 계속 찾아다니네 그니까 쉬발 지가 갱당해 뒤...\n",
       "8003  8003        갈취 대화  너 이번주 용돈 받은거 다 내놔 나 학교 끝나고 여친이랑 오토바이 타고 부산 가야해...\n",
       "8004  8004    기타 괴롭힘 대화  야 이새끼 봐바 오타쿠인가봐 뭔데뭔데 아 뭐냐 그림 이게 애인 미미쨩인가 그거냐 하..."
      ]
     },
     "execution_count": 28,
     "metadata": {},
     "output_type": "execute_result"
    }
   ],
   "source": [
    "aug_train_data.tail()"
   ]
  },
  {
   "cell_type": "code",
   "execution_count": 29,
   "id": "d2dba842",
   "metadata": {
    "scrolled": true
   },
   "outputs": [
    {
     "name": "stdout",
     "output_type": "stream",
     "text": [
      "8005\n"
     ]
    }
   ],
   "source": [
    "print(len(aug_train_data))"
   ]
  },
  {
   "cell_type": "code",
   "execution_count": 30,
   "id": "710bc367",
   "metadata": {},
   "outputs": [
    {
     "name": "stdout",
     "output_type": "stream",
     "text": [
      "갈취 대화          2287\n",
      "기타 괴롭힘 대화      1991\n",
      "협박 대화          1924\n",
      "직장 내 괴롭힘 대화    1803\n",
      "Name: class, dtype: int64\n"
     ]
    }
   ],
   "source": [
    "class_counts = aug_train_data['class'].value_counts()\n",
    "\n",
    "print(class_counts)"
   ]
  },
  {
   "cell_type": "code",
   "execution_count": 32,
   "id": "4771a550",
   "metadata": {},
   "outputs": [],
   "source": [
    "aug_train_data.to_csv('../../data/aug_csv/aug_synonym_train_only.csv', index=False, encoding='utf-8-sig')  # index=False는 인덱스를 저장하지 않도록 함"
   ]
  },
  {
   "cell_type": "code",
   "execution_count": 33,
   "id": "a8bc5980",
   "metadata": {},
   "outputs": [
    {
     "data": {
      "text/html": [
       "<div>\n",
       "<style scoped>\n",
       "    .dataframe tbody tr th:only-of-type {\n",
       "        vertical-align: middle;\n",
       "    }\n",
       "\n",
       "    .dataframe tbody tr th {\n",
       "        vertical-align: top;\n",
       "    }\n",
       "\n",
       "    .dataframe thead th {\n",
       "        text-align: right;\n",
       "    }\n",
       "</style>\n",
       "<table border=\"1\" class=\"dataframe\">\n",
       "  <thead>\n",
       "    <tr style=\"text-align: right;\">\n",
       "      <th></th>\n",
       "      <th>idx</th>\n",
       "      <th>class</th>\n",
       "      <th>conversation</th>\n",
       "    </tr>\n",
       "  </thead>\n",
       "  <tbody>\n",
       "    <tr>\n",
       "      <th>0</th>\n",
       "      <td>3748</td>\n",
       "      <td>직장 내 괴롭힘 대화</td>\n",
       "      <td>지은씨 커피 좀 사와요.\\n그건 싫어요.\\n사오라면 사와야지 인턴주제.\\n그러니까요...</td>\n",
       "    </tr>\n",
       "    <tr>\n",
       "      <th>1</th>\n",
       "      <td>3149</td>\n",
       "      <td>직장 내 괴롭힘 대화</td>\n",
       "      <td>자 점심식사들 합시다\\n 와 점심시간이다. 과장님 밥 어디서 먹죠 오늘은?\\n 대리...</td>\n",
       "    </tr>\n",
       "    <tr>\n",
       "      <th>2</th>\n",
       "      <td>1866</td>\n",
       "      <td>협박 대화</td>\n",
       "      <td>어이 이쁜이 시간이 지났는데 약속을 안지키네\\n네.엄마가 아프셔서.\\n그래 엄마가 ...</td>\n",
       "    </tr>\n",
       "    <tr>\n",
       "      <th>3</th>\n",
       "      <td>1493</td>\n",
       "      <td>기타 괴롭힘 대화</td>\n",
       "      <td>우리 귀여운 철수야 여기 돈 줄테니까 핫도그랑 콜라좀 사다줄래? 남은 돈은 너 가져...</td>\n",
       "    </tr>\n",
       "    <tr>\n",
       "      <th>4</th>\n",
       "      <td>366</td>\n",
       "      <td>직장 내 괴롭힘 대화</td>\n",
       "      <td>어이 김대리\\n예 이부장님\\n오늘 하라고 했던 서류 정리 다 끝냈어?\\n아.그게 아...</td>\n",
       "    </tr>\n",
       "  </tbody>\n",
       "</table>\n",
       "</div>"
      ],
      "text/plain": [
       "    idx        class                                       conversation\n",
       "0  3748  직장 내 괴롭힘 대화  지은씨 커피 좀 사와요.\\n그건 싫어요.\\n사오라면 사와야지 인턴주제.\\n그러니까요...\n",
       "1  3149  직장 내 괴롭힘 대화  자 점심식사들 합시다\\n 와 점심시간이다. 과장님 밥 어디서 먹죠 오늘은?\\n 대리...\n",
       "2  1866        협박 대화  어이 이쁜이 시간이 지났는데 약속을 안지키네\\n네.엄마가 아프셔서.\\n그래 엄마가 ...\n",
       "3  1493    기타 괴롭힘 대화  우리 귀여운 철수야 여기 돈 줄테니까 핫도그랑 콜라좀 사다줄래? 남은 돈은 너 가져...\n",
       "4   366  직장 내 괴롭힘 대화  어이 김대리\\n예 이부장님\\n오늘 하라고 했던 서류 정리 다 끝냈어?\\n아.그게 아..."
      ]
     },
     "execution_count": 33,
     "metadata": {},
     "output_type": "execute_result"
    }
   ],
   "source": [
    "aug_data_path =\"../../data/aug_csv/aug_synonym_train_only.csv\"\n",
    "aug_data = pd.read_csv(train_data_path)\n",
    "aug_data.head()"
   ]
  },
  {
   "cell_type": "code",
   "execution_count": null,
   "id": "c10426f2",
   "metadata": {},
   "outputs": [],
   "source": []
  }
 ],
 "metadata": {
  "kernelspec": {
   "display_name": "Python 3 (ipykernel)",
   "language": "python",
   "name": "python3"
  },
  "language_info": {
   "codemirror_mode": {
    "name": "ipython",
    "version": 3
   },
   "file_extension": ".py",
   "mimetype": "text/x-python",
   "name": "python",
   "nbconvert_exporter": "python",
   "pygments_lexer": "ipython3",
   "version": "3.9.7"
  }
 },
 "nbformat": 4,
 "nbformat_minor": 5
}
