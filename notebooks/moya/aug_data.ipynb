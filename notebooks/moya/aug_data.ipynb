{
 "cells": [
  {
   "cell_type": "markdown",
   "id": "8e135181",
   "metadata": {},
   "source": [
    "## 데이타 증강"
   ]
  },
  {
   "cell_type": "code",
   "execution_count": 36,
   "id": "395e16f5",
   "metadata": {},
   "outputs": [],
   "source": [
    "import os\n",
    "import pandas as pd\n",
    "import tensorflow\n",
    "import numpy as np"
   ]
  },
  {
   "cell_type": "code",
   "execution_count": 37,
   "id": "dff81937",
   "metadata": {},
   "outputs": [
    {
     "data": {
      "text/html": [
       "<div>\n",
       "<style scoped>\n",
       "    .dataframe tbody tr th:only-of-type {\n",
       "        vertical-align: middle;\n",
       "    }\n",
       "\n",
       "    .dataframe tbody tr th {\n",
       "        vertical-align: top;\n",
       "    }\n",
       "\n",
       "    .dataframe thead th {\n",
       "        text-align: right;\n",
       "    }\n",
       "</style>\n",
       "<table border=\"1\" class=\"dataframe\">\n",
       "  <thead>\n",
       "    <tr style=\"text-align: right;\">\n",
       "      <th></th>\n",
       "      <th>idx</th>\n",
       "      <th>class</th>\n",
       "      <th>conversation</th>\n",
       "    </tr>\n",
       "  </thead>\n",
       "  <tbody>\n",
       "    <tr>\n",
       "      <th>0</th>\n",
       "      <td>1951</td>\n",
       "      <td>직장 내 괴롭힘 대화</td>\n",
       "      <td>팀장님 이거 언제까지 마무리 하면 될까요?\\n무리하지 말고 넉넉하게 주말까지 다 작...</td>\n",
       "    </tr>\n",
       "    <tr>\n",
       "      <th>1</th>\n",
       "      <td>4756</td>\n",
       "      <td>일반 대화</td>\n",
       "      <td>내일 날씨 어떻대?\\n비 온다던데. 우산 챙겨가야 할 것 같아.\\n에이, 야외 활동...</td>\n",
       "    </tr>\n",
       "    <tr>\n",
       "      <th>2</th>\n",
       "      <td>1234</td>\n",
       "      <td>기타 괴롭힘 대화</td>\n",
       "      <td>야 쟤 좀 봐.\\n 꼴에 유행하는 옷 입었네 \\n 호박에 줄 긋는다고 수박되나 \\n...</td>\n",
       "    </tr>\n",
       "    <tr>\n",
       "      <th>3</th>\n",
       "      <td>4767</td>\n",
       "      <td>일반 대화</td>\n",
       "      <td>오늘 수업 내용 이해했어?\\n솔직히 좀 어려웠어. 너는?\\n나도 몇 부분이 헷갈리더...</td>\n",
       "    </tr>\n",
       "    <tr>\n",
       "      <th>4</th>\n",
       "      <td>1511</td>\n",
       "      <td>직장 내 괴롭힘 대화</td>\n",
       "      <td>자네 내일 아침에 우리집 들려서 출근하게\\n네?\\n내가 차가 고장났어\\n아. 그런데...</td>\n",
       "    </tr>\n",
       "  </tbody>\n",
       "</table>\n",
       "</div>"
      ],
      "text/plain": [
       "    idx        class                                       conversation\n",
       "0  1951  직장 내 괴롭힘 대화  팀장님 이거 언제까지 마무리 하면 될까요?\\n무리하지 말고 넉넉하게 주말까지 다 작...\n",
       "1  4756        일반 대화  내일 날씨 어떻대?\\n비 온다던데. 우산 챙겨가야 할 것 같아.\\n에이, 야외 활동...\n",
       "2  1234    기타 괴롭힘 대화  야 쟤 좀 봐.\\n 꼴에 유행하는 옷 입었네 \\n 호박에 줄 긋는다고 수박되나 \\n...\n",
       "3  4767        일반 대화  오늘 수업 내용 이해했어?\\n솔직히 좀 어려웠어. 너는?\\n나도 몇 부분이 헷갈리더...\n",
       "4  1511  직장 내 괴롭힘 대화  자네 내일 아침에 우리집 들려서 출근하게\\n네?\\n내가 차가 고장났어\\n아. 그런데..."
      ]
     },
     "execution_count": 37,
     "metadata": {},
     "output_type": "execute_result"
    }
   ],
   "source": [
    "current_dir = os.getcwd()\n",
    "data_dir = os.path.join(current_dir, '../../data', 'raw_csv')\n",
    "train_data_path = os.path.join(data_dir, 'merged_train.csv')\n",
    "\n",
    "train_data = pd.read_csv(train_data_path)\n",
    "train_data.head()"
   ]
  },
  {
   "cell_type": "code",
   "execution_count": 38,
   "id": "14a2f0e7",
   "metadata": {},
   "outputs": [
    {
     "name": "stdout",
     "output_type": "stream",
     "text": [
      "전체 샘플수 : 4637\n",
      "<class 'pandas.core.frame.DataFrame'>\n",
      "RangeIndex: 4637 entries, 0 to 4636\n",
      "Data columns (total 3 columns):\n",
      " #   Column        Non-Null Count  Dtype \n",
      "---  ------        --------------  ----- \n",
      " 0   idx           4637 non-null   int64 \n",
      " 1   class         4637 non-null   object\n",
      " 2   conversation  4637 non-null   object\n",
      "dtypes: int64(1), object(2)\n",
      "memory usage: 108.8+ KB\n"
     ]
    }
   ],
   "source": [
    "print('전체 샘플수 :', (len(train_data)))\n",
    "train_data.info()"
   ]
  },
  {
   "cell_type": "code",
   "execution_count": 39,
   "id": "ff212a98",
   "metadata": {},
   "outputs": [],
   "source": [
    "# 0, 1, 2, 3, 4\n",
    "CLASS_NAMES = ['협박 대화', '갈취 대화', '직장 내 괴롭힘 대화', '기타 괴롭힘 대화', '일반 대화']\n",
    "\n",
    "#class_dict = {}\n",
    "#or idx, class_name in enumerate(CLASS_NAMES):\n",
    "#    class_dict[class_name] = idx\n",
    "\n",
    "#train_data['class'] = train_data['class'].apply(lambda s: class_dict[s])\n",
    "\n",
    "#train_data.head()"
   ]
  },
  {
   "cell_type": "markdown",
   "id": "07ebb195",
   "metadata": {},
   "source": [
    "**한국어 불용어 사전**"
   ]
  },
  {
   "cell_type": "code",
   "execution_count": 40,
   "id": "63d38da3",
   "metadata": {},
   "outputs": [],
   "source": [
    "# 불용어 제거\n",
    "import re\n",
    "\n",
    "def preprocess_sentence(sentence):\n",
    "    sentence = sentence.lower().strip()\n",
    "\n",
    "    sentence = re.sub(r\"([?.!,])\", r\" \\1 \", sentence)\n",
    "    sentence = re.sub(r'[\" \"]+', \" \", sentence)\n",
    "    sentence = re.sub(r\"[^a-zA-Zㄱ-ㅎ가-힣ㅏ-ㅣ?.!,]+\", \" \", sentence)\n",
    "    \n",
    "    sentence = sentence.strip()\n",
    "\n",
    "    return sentence"
   ]
  },
  {
   "cell_type": "code",
   "execution_count": 41,
   "id": "e14c4a4e",
   "metadata": {},
   "outputs": [],
   "source": [
    "import re\n",
    "\n",
    "def preprocess_korean(sentence):\n",
    "    # 한글 외 모든 문자 제거\n",
    "    sentence = re.sub(r'[^ㄱ-ㅎㅏ-ㅣ가-힣\\s]', '', sentence)\n",
    "    # 연속된 공백 제거\n",
    "    sentence = re.sub(r'\\s+', ' ', sentence).strip()\n",
    "    return sentence\n"
   ]
  },
  {
   "cell_type": "markdown",
   "id": "6f02c24a",
   "metadata": {},
   "source": [
    "**동의어**"
   ]
  },
  {
   "cell_type": "code",
   "execution_count": 42,
   "id": "eb31e2c0",
   "metadata": {},
   "outputs": [],
   "source": [
    "import random\n",
    "import pickle\n",
    "import re\n",
    "\n",
    "wordnet = {}\n",
    "with open(\"wordnet.pickle\", \"rb\") as f:\n",
    "    wordnet = pickle.load(f)\n",
    "\n",
    "# 전체': ['전체', '전적', '전부', '총체', '전반']\n",
    "# '인': ['인', '인간', '인물', '사람', '인류']\n",
    "#print(wordnet)"
   ]
  },
  {
   "cell_type": "code",
   "execution_count": 43,
   "id": "044433cb",
   "metadata": {},
   "outputs": [],
   "source": [
    "# wordnet에서 동의어 리스트를 가져온다. \n",
    "# 동의어가 없을 수도 있다\n",
    "def synonyms_from_wordnet(word):\n",
    "    synonyms = []\n",
    "    try:\n",
    "        for list in wordnet[word] :\n",
    "             synonyms.append(list)\n",
    "    except KeyError:\n",
    "        pass\n",
    "    \n",
    "    return synonyms"
   ]
  },
  {
   "cell_type": "code",
   "execution_count": 44,
   "id": "3b4409ca",
   "metadata": {},
   "outputs": [
    {
     "name": "stdout",
     "output_type": "stream",
     "text": [
      "전체\n",
      "전적\n",
      "전부\n",
      "총체\n",
      "전반\n"
     ]
    }
   ],
   "source": [
    "#'전체': ['전체', '전적', '전부', '총체', '전반']\n",
    "synonyms = synonyms_from_wordnet( \"전체\" )\n",
    "for word in synonyms : \n",
    "    print(word)"
   ]
  },
  {
   "cell_type": "code",
   "execution_count": 45,
   "id": "e653dcb9",
   "metadata": {},
   "outputs": [],
   "source": [
    "# word list로 구성된 sentense를 동의어로 바꿔준다\n",
    "def replace_to_synonyms(input_words, count): \n",
    "     \n",
    "    # new_words\n",
    "    new_words = []\n",
    "    \n",
    "    #\n",
    "    word_list = list(set([word for word in input_words]))\n",
    "    random.shuffle(word_list)\n",
    "    \n",
    "    replace_count = 0\n",
    "    for word in word_list : \n",
    "        # 동의어 리스트를 가져온다. \n",
    "        synonyms = synonyms_from_wordnet( word )\n",
    "        \n",
    "        if len(synonyms) == 0 : continue\n",
    "        \n",
    "        synonym = random.choice(list(synonyms))\n",
    "        if( word == synonym) : continue\n",
    "            \n",
    "        new_words = [synonym if wd == word else wd for wd in input_words]\n",
    "        \n",
    "        replace_count +=1\n",
    "        \n",
    "        if replace_count >= count : break\n",
    "    \n",
    "    # \n",
    "    #if len(new_words) > 0 : \n",
    "    #    sentence = ' '.join(new_words)\n",
    "    #   new_words = sentence.split(\" \")\n",
    "    \n",
    "       \n",
    "    return new_words\n",
    "               "
   ]
  },
  {
   "cell_type": "code",
   "execution_count": null,
   "id": "e0eed04a",
   "metadata": {},
   "outputs": [],
   "source": []
  },
  {
   "cell_type": "code",
   "execution_count": 46,
   "id": "92b53278",
   "metadata": {},
   "outputs": [],
   "source": [
    "def gen_sentence_by_swap_word(inputs_words, count):\n",
    "    \n",
    "    # new_words\n",
    "    new_words = []\n",
    "    \n",
    "    #\n",
    "#    word_list = list(set([word for word in input_words]))\n",
    "#    random.shuffle(word_list)\n",
    "    \n",
    "    return new_words"
   ]
  },
  {
   "cell_type": "code",
   "execution_count": 47,
   "id": "994524af",
   "metadata": {},
   "outputs": [],
   "source": [
    "def DataAugmentation(sentense, alpha_sr=0.2, aug_count=1):\n",
    "    \n",
    "    augmented_sentences = []\n",
    "    \n",
    "    # 한글만 처리\n",
    "    sentense = preprocess_korean(sentense)\n",
    "    sentense = sentense.split(' ')\n",
    "    words = [word for word in sentense if word != \"\"]\n",
    "    num_words = len(words)\n",
    "       \n",
    "    # 동의어로 단어 바꿔 문장 생성하기\n",
    "    n_sr = max(1, int(alpha_sr*num_words))\n",
    "    \n",
    "    for _ in range(aug_count):\n",
    "        a_words = replace_to_synonyms( words, n_sr )\n",
    "          \n",
    "        if( len(a_words) > 0 ):\n",
    "            augmented_sentences.append(\" \".join(a_words))\n",
    "     \n",
    "    \n",
    "    \n",
    "    # 생성된 문장들 shuffle\n",
    "    random.shuffle(augmented_sentences)\n",
    "    return augmented_sentences"
   ]
  },
  {
   "cell_type": "code",
   "execution_count": 53,
   "id": "323f4faf",
   "metadata": {},
   "outputs": [
    {
     "name": "stdout",
     "output_type": "stream",
     "text": [
      "9644\n",
      "9644\n"
     ]
    }
   ],
   "source": [
    "new_class_list = []\n",
    "new_conversation_list = []\n",
    "new_idx_list = []\n",
    "\n",
    "idx = len(train_data['conversation'])+1;\n",
    "          \n",
    "for i in range(len(train_data['conversation'])):\n",
    "#for i in range(2):\n",
    "    class_ = train_data['class'][i]\n",
    "    \n",
    "    num_aug = 3\n",
    "    \n",
    "    augmented_sentences = DataAugmentation(train_data['conversation'][i], aug_count=num_aug)\n",
    "    \n",
    "    if not augmented_sentences : # 리스트가 비어 있으면 True\n",
    "        continue\n",
    "        \n",
    "    for j in range(min(num_aug, len(augmented_sentences))):\n",
    "        #if not augmented_sentences[j] : continue;\n",
    "        new_class_list.append( class_ )\n",
    "        new_conversation_list.append(augmented_sentences[j])\n",
    "        idx =idx+1\n",
    "        new_idx_list.append(int(idx))\n",
    "\n",
    "print(len(new_class_list))    \n",
    "print(len(new_conversation_list)) \n",
    "        "
   ]
  },
  {
   "cell_type": "code",
   "execution_count": 54,
   "id": "030bf167",
   "metadata": {},
   "outputs": [
    {
     "data": {
      "text/plain": [
       "0    팀장님 이거 언제까지 마무리 하면 될까요?\\n무리하지 말고 넉넉하게 주말까지 다 작...\n",
       "Name: conversation, dtype: object"
      ]
     },
     "execution_count": 54,
     "metadata": {},
     "output_type": "execute_result"
    }
   ],
   "source": [
    "train_data['conversation'][0:1]"
   ]
  },
  {
   "cell_type": "code",
   "execution_count": 55,
   "id": "6f0ef314",
   "metadata": {
    "scrolled": true
   },
   "outputs": [
    {
     "data": {
      "text/plain": [
       "['내일 날씨 어떻대 비 온다던데 우산 챙겨가야 할 것 같아 에이 야외 활동 계획했는데 아쉽다 다른 날로 미루는 게 어때 그래야겠다 주말에는 맑다던데 좋아 그럼 토요일로 미루자 토요일 몇 시에 만날까 오전 정의 어때 점심도 같이 먹고 완벽해 어디서 만날까 시내 광장에서 보자 거기서 출발하기 좋을 것 같아',\n",
       " '야 쟤 좀 봐 꼴에 유행하는 의류 입었네 호박에 줄 긋는다고 수박되나 으엑 못생겼어 다 들리거든 그만해줘 그럼 들리라고 하는 소리지 내가 뭘 잘못했는데 니 존재 자체가 쟤는 못생기고 찐따고 공부도 못하고 친구도 없어서 전교 찐따래요',\n",
       " '야 쟤 좀 봐 꼴에 유행하는 피복 입었네 호박에 줄 긋는다고 수박되나 으엑 못생겼어 다 들리거든 그만해줘 그럼 들리라고 하는 소리지 내가 뭘 잘못했는데 니 존재 자체가 쟤는 못생기고 찐따고 공부도 못하고 친구도 없어서 전교 찐따래요']"
      ]
     },
     "execution_count": 55,
     "metadata": {},
     "output_type": "execute_result"
    }
   ],
   "source": [
    "new_conversation_list[0:3]"
   ]
  },
  {
   "cell_type": "code",
   "execution_count": 56,
   "id": "de0fe515",
   "metadata": {},
   "outputs": [],
   "source": [
    "aug_data = pd.DataFrame([new_idx_list, new_class_list, new_conversation_list],\n",
    "                  index=['idx','class','conversation'],\n",
    "                 columns=[x for x in range(len(new_class_list))])\n",
    "aug_data  = aug_data .transpose()"
   ]
  },
  {
   "cell_type": "code",
   "execution_count": 57,
   "id": "5b4ebdf4",
   "metadata": {
    "scrolled": true
   },
   "outputs": [
    {
     "data": {
      "text/plain": [
       "0    내일 날씨 어떻대 비 온다던데 우산 챙겨가야 할 것 같아 에이 야외 활동 계획했는데...\n",
       "1    야 쟤 좀 봐 꼴에 유행하는 의류 입었네 호박에 줄 긋는다고 수박되나 으엑 못생겼어...\n",
       "Name: conversation, dtype: object"
      ]
     },
     "execution_count": 57,
     "metadata": {},
     "output_type": "execute_result"
    }
   ],
   "source": [
    "aug_data['conversation'][0:2]"
   ]
  },
  {
   "cell_type": "code",
   "execution_count": 58,
   "id": "49eeed36",
   "metadata": {},
   "outputs": [],
   "source": [
    "aug_train_data = train_data.append(aug_data)\n",
    "aug_train_data['idx'] = [x for x in range(len(aug_train_data))]\n",
    "aug_train_data = aug_train_data.reset_index(drop=True)"
   ]
  },
  {
   "cell_type": "code",
   "execution_count": 59,
   "id": "ac6ff918",
   "metadata": {},
   "outputs": [
    {
     "data": {
      "text/plain": [
       "0    팀장님 이거 언제까지 마무리 하면 될까요?\\n무리하지 말고 넉넉하게 주말까지 다 작...\n",
       "1    내일 날씨 어떻대?\\n비 온다던데. 우산 챙겨가야 할 것 같아.\\n에이, 야외 활동...\n",
       "Name: conversation, dtype: object"
      ]
     },
     "execution_count": 59,
     "metadata": {},
     "output_type": "execute_result"
    }
   ],
   "source": [
    "aug_train_data['conversation'][0:2]"
   ]
  },
  {
   "cell_type": "code",
   "execution_count": 60,
   "id": "4a655c65",
   "metadata": {},
   "outputs": [
    {
     "data": {
      "text/html": [
       "<div>\n",
       "<style scoped>\n",
       "    .dataframe tbody tr th:only-of-type {\n",
       "        vertical-align: middle;\n",
       "    }\n",
       "\n",
       "    .dataframe tbody tr th {\n",
       "        vertical-align: top;\n",
       "    }\n",
       "\n",
       "    .dataframe thead th {\n",
       "        text-align: right;\n",
       "    }\n",
       "</style>\n",
       "<table border=\"1\" class=\"dataframe\">\n",
       "  <thead>\n",
       "    <tr style=\"text-align: right;\">\n",
       "      <th></th>\n",
       "      <th>idx</th>\n",
       "      <th>class</th>\n",
       "      <th>conversation</th>\n",
       "    </tr>\n",
       "  </thead>\n",
       "  <tbody>\n",
       "    <tr>\n",
       "      <th>0</th>\n",
       "      <td>0</td>\n",
       "      <td>직장 내 괴롭힘 대화</td>\n",
       "      <td>팀장님 이거 언제까지 마무리 하면 될까요?\\n무리하지 말고 넉넉하게 주말까지 다 작...</td>\n",
       "    </tr>\n",
       "    <tr>\n",
       "      <th>1</th>\n",
       "      <td>1</td>\n",
       "      <td>일반 대화</td>\n",
       "      <td>내일 날씨 어떻대?\\n비 온다던데. 우산 챙겨가야 할 것 같아.\\n에이, 야외 활동...</td>\n",
       "    </tr>\n",
       "    <tr>\n",
       "      <th>2</th>\n",
       "      <td>2</td>\n",
       "      <td>기타 괴롭힘 대화</td>\n",
       "      <td>야 쟤 좀 봐.\\n 꼴에 유행하는 옷 입었네 \\n 호박에 줄 긋는다고 수박되나 \\n...</td>\n",
       "    </tr>\n",
       "    <tr>\n",
       "      <th>3</th>\n",
       "      <td>3</td>\n",
       "      <td>일반 대화</td>\n",
       "      <td>오늘 수업 내용 이해했어?\\n솔직히 좀 어려웠어. 너는?\\n나도 몇 부분이 헷갈리더...</td>\n",
       "    </tr>\n",
       "    <tr>\n",
       "      <th>4</th>\n",
       "      <td>4</td>\n",
       "      <td>직장 내 괴롭힘 대화</td>\n",
       "      <td>자네 내일 아침에 우리집 들려서 출근하게\\n네?\\n내가 차가 고장났어\\n아. 그런데...</td>\n",
       "    </tr>\n",
       "  </tbody>\n",
       "</table>\n",
       "</div>"
      ],
      "text/plain": [
       "   idx        class                                       conversation\n",
       "0    0  직장 내 괴롭힘 대화  팀장님 이거 언제까지 마무리 하면 될까요?\\n무리하지 말고 넉넉하게 주말까지 다 작...\n",
       "1    1        일반 대화  내일 날씨 어떻대?\\n비 온다던데. 우산 챙겨가야 할 것 같아.\\n에이, 야외 활동...\n",
       "2    2    기타 괴롭힘 대화  야 쟤 좀 봐.\\n 꼴에 유행하는 옷 입었네 \\n 호박에 줄 긋는다고 수박되나 \\n...\n",
       "3    3        일반 대화  오늘 수업 내용 이해했어?\\n솔직히 좀 어려웠어. 너는?\\n나도 몇 부분이 헷갈리더...\n",
       "4    4  직장 내 괴롭힘 대화  자네 내일 아침에 우리집 들려서 출근하게\\n네?\\n내가 차가 고장났어\\n아. 그런데..."
      ]
     },
     "execution_count": 60,
     "metadata": {},
     "output_type": "execute_result"
    }
   ],
   "source": [
    "aug_train_data.head()"
   ]
  },
  {
   "cell_type": "code",
   "execution_count": 61,
   "id": "35f16fb6",
   "metadata": {},
   "outputs": [
    {
     "data": {
      "text/html": [
       "<div>\n",
       "<style scoped>\n",
       "    .dataframe tbody tr th:only-of-type {\n",
       "        vertical-align: middle;\n",
       "    }\n",
       "\n",
       "    .dataframe tbody tr th {\n",
       "        vertical-align: top;\n",
       "    }\n",
       "\n",
       "    .dataframe thead th {\n",
       "        text-align: right;\n",
       "    }\n",
       "</style>\n",
       "<table border=\"1\" class=\"dataframe\">\n",
       "  <thead>\n",
       "    <tr style=\"text-align: right;\">\n",
       "      <th></th>\n",
       "      <th>idx</th>\n",
       "      <th>class</th>\n",
       "      <th>conversation</th>\n",
       "    </tr>\n",
       "  </thead>\n",
       "  <tbody>\n",
       "    <tr>\n",
       "      <th>14276</th>\n",
       "      <td>14276</td>\n",
       "      <td>갈취 대화</td>\n",
       "      <td>너 치 좀 있냐 왜 그래요 아빠 치 좀 있으면 줘봐 또 경마장 가시려고 그러죠 어디...</td>\n",
       "    </tr>\n",
       "    <tr>\n",
       "      <th>14277</th>\n",
       "      <td>14277</td>\n",
       "      <td>갈취 대화</td>\n",
       "      <td>너 물가 좀 있냐 왜 그래요 아빠 물가 좀 있으면 줘봐 또 경마장 가시려고 그러죠 ...</td>\n",
       "    </tr>\n",
       "    <tr>\n",
       "      <th>14278</th>\n",
       "      <td>14278</td>\n",
       "      <td>일반 대화</td>\n",
       "      <td>이번 방학에 알바 구했어 응 카페에서 일하기로 했어 너는 나는 아직 구하는 중이야 ...</td>\n",
       "    </tr>\n",
       "    <tr>\n",
       "      <th>14279</th>\n",
       "      <td>14279</td>\n",
       "      <td>일반 대화</td>\n",
       "      <td>이번 방학에 알바 구했어 응 카페에서 일하기로 했어 너는 나는 아직 구하는 중이야 ...</td>\n",
       "    </tr>\n",
       "    <tr>\n",
       "      <th>14280</th>\n",
       "      <td>14280</td>\n",
       "      <td>일반 대화</td>\n",
       "      <td>이번 방학에 알바 구했어 응 카페에서 일하기로 했어 너는 나는 아직 구하는 중이야 ...</td>\n",
       "    </tr>\n",
       "  </tbody>\n",
       "</table>\n",
       "</div>"
      ],
      "text/plain": [
       "         idx  class                                       conversation\n",
       "14276  14276  갈취 대화  너 치 좀 있냐 왜 그래요 아빠 치 좀 있으면 줘봐 또 경마장 가시려고 그러죠 어디...\n",
       "14277  14277  갈취 대화  너 물가 좀 있냐 왜 그래요 아빠 물가 좀 있으면 줘봐 또 경마장 가시려고 그러죠 ...\n",
       "14278  14278  일반 대화  이번 방학에 알바 구했어 응 카페에서 일하기로 했어 너는 나는 아직 구하는 중이야 ...\n",
       "14279  14279  일반 대화  이번 방학에 알바 구했어 응 카페에서 일하기로 했어 너는 나는 아직 구하는 중이야 ...\n",
       "14280  14280  일반 대화  이번 방학에 알바 구했어 응 카페에서 일하기로 했어 너는 나는 아직 구하는 중이야 ..."
      ]
     },
     "execution_count": 61,
     "metadata": {},
     "output_type": "execute_result"
    }
   ],
   "source": [
    "aug_train_data.tail()"
   ]
  },
  {
   "cell_type": "code",
   "execution_count": 62,
   "id": "1cc387bc",
   "metadata": {
    "scrolled": true
   },
   "outputs": [
    {
     "name": "stdout",
     "output_type": "stream",
     "text": [
      "14281\n"
     ]
    }
   ],
   "source": [
    "print(len(aug_train_data))"
   ]
  },
  {
   "cell_type": "code",
   "execution_count": 63,
   "id": "3a2fda1a",
   "metadata": {},
   "outputs": [],
   "source": [
    "aug_train_data.to_csv('../../data/raw_csv/aug_train.csv', index=False, encoding='utf-8-sig')  # index=False는 인덱스를 저장하지 않도록 함"
   ]
  }
 ],
 "metadata": {
  "kernelspec": {
   "display_name": "Python 3 (ipykernel)",
   "language": "python",
   "name": "python3"
  },
  "language_info": {
   "codemirror_mode": {
    "name": "ipython",
    "version": 3
   },
   "file_extension": ".py",
   "mimetype": "text/x-python",
   "name": "python",
   "nbconvert_exporter": "python",
   "pygments_lexer": "ipython3",
   "version": "3.9.7"
  }
 },
 "nbformat": 4,
 "nbformat_minor": 5
}
