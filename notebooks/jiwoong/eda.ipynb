{
 "cells": [
  {
   "cell_type": "markdown",
   "id": "a885c39f",
   "metadata": {},
   "source": [
    "## 데이타 전처리"
   ]
  },
  {
   "cell_type": "code",
   "execution_count": 24,
   "id": "58bd29a6",
   "metadata": {},
   "outputs": [],
   "source": [
    "import os\n",
    "import pandas as pd\n",
    "import tensorflow\n",
    "import numpy as np"
   ]
  },
  {
   "cell_type": "code",
   "execution_count": 43,
   "id": "b3dcd1fb",
   "metadata": {},
   "outputs": [
    {
     "data": {
      "text/html": [
       "<div>\n",
       "<style scoped>\n",
       "    .dataframe tbody tr th:only-of-type {\n",
       "        vertical-align: middle;\n",
       "    }\n",
       "\n",
       "    .dataframe tbody tr th {\n",
       "        vertical-align: top;\n",
       "    }\n",
       "\n",
       "    .dataframe thead th {\n",
       "        text-align: right;\n",
       "    }\n",
       "</style>\n",
       "<table border=\"1\" class=\"dataframe\">\n",
       "  <thead>\n",
       "    <tr style=\"text-align: right;\">\n",
       "      <th></th>\n",
       "      <th>idx</th>\n",
       "      <th>class</th>\n",
       "      <th>conversation</th>\n",
       "    </tr>\n",
       "  </thead>\n",
       "  <tbody>\n",
       "    <tr>\n",
       "      <th>0</th>\n",
       "      <td>2357</td>\n",
       "      <td>협박 대화</td>\n",
       "      <td>이것 좀 먹어봐\\n 이게 머야? 이거 먹으면 나 안괴롭히는거야?\\n당연하지 이제 우...</td>\n",
       "    </tr>\n",
       "    <tr>\n",
       "      <th>1</th>\n",
       "      <td>4831</td>\n",
       "      <td>일반 대화</td>\n",
       "      <td>다음 달 여행 계획 세웠어?\\n응, 제주도로 3박 4일 일정 잡았어!\\n좋겠다! 비...</td>\n",
       "    </tr>\n",
       "    <tr>\n",
       "      <th>2</th>\n",
       "      <td>485</td>\n",
       "      <td>갈취 대화</td>\n",
       "      <td>애 아가야\\n네? 어머니\\n아범 몰래 나 돈 천만 주라\\n어머니 제가 그렇게큰돈이 ...</td>\n",
       "    </tr>\n",
       "    <tr>\n",
       "      <th>3</th>\n",
       "      <td>1395</td>\n",
       "      <td>협박 대화</td>\n",
       "      <td>난 널 사랑해\\n난 이제 너가 너무 무서워\\n무슨소리야? 이쁜 입으로 이쁜말만해 입...</td>\n",
       "    </tr>\n",
       "    <tr>\n",
       "      <th>4</th>\n",
       "      <td>140</td>\n",
       "      <td>기타 괴롭힘 대화</td>\n",
       "      <td>아저씨 자리 좀 비켜주시겠어요?\\n응.? 뭐때문에 그러는건지 알려줄수있니\\n아저씨 ...</td>\n",
       "    </tr>\n",
       "  </tbody>\n",
       "</table>\n",
       "</div>"
      ],
      "text/plain": [
       "    idx      class                                       conversation\n",
       "0  2357      협박 대화  이것 좀 먹어봐\\n 이게 머야? 이거 먹으면 나 안괴롭히는거야?\\n당연하지 이제 우...\n",
       "1  4831      일반 대화  다음 달 여행 계획 세웠어?\\n응, 제주도로 3박 4일 일정 잡았어!\\n좋겠다! 비...\n",
       "2   485      갈취 대화  애 아가야\\n네? 어머니\\n아범 몰래 나 돈 천만 주라\\n어머니 제가 그렇게큰돈이 ...\n",
       "3  1395      협박 대화  난 널 사랑해\\n난 이제 너가 너무 무서워\\n무슨소리야? 이쁜 입으로 이쁜말만해 입...\n",
       "4   140  기타 괴롭힘 대화  아저씨 자리 좀 비켜주시겠어요?\\n응.? 뭐때문에 그러는건지 알려줄수있니\\n아저씨 ..."
      ]
     },
     "execution_count": 43,
     "metadata": {},
     "output_type": "execute_result"
    }
   ],
   "source": [
    "train_data_path =\"../data/raw_csv/merged_train.csv\"\n",
    "train_data = pd.read_csv(train_data_path)\n",
    "train_data.head()"
   ]
  },
  {
   "cell_type": "code",
   "execution_count": 44,
   "id": "5c1e07f9",
   "metadata": {},
   "outputs": [
    {
     "data": {
      "text/plain": [
       "(4882, 3)"
      ]
     },
     "execution_count": 44,
     "metadata": {},
     "output_type": "execute_result"
    }
   ],
   "source": [
    "train_data.shape"
   ]
  },
  {
   "cell_type": "code",
   "execution_count": 45,
   "id": "587ed8bf",
   "metadata": {},
   "outputs": [],
   "source": [
    "#beomi/kcbert-base는 욕설, 위협, 혐오 발언 등 비일상적인 표현이 많은 데이터셋에 특히 적합합니다.\n",
    "#from transformers import AutoTokenizer\n",
    "\n",
    "#tokenizer = AutoTokenizer.from_pretrained(\"beomi/kcbert-base\")\n",
    "#tokens = tokenizer(\"너 정말 죽고 싶냐?\", return_tensors='pt')"
   ]
  },
  {
   "cell_type": "code",
   "execution_count": 46,
   "id": "621f0371",
   "metadata": {},
   "outputs": [],
   "source": [
    "#형대소 분석기 기반 토크나이저 \n",
    "# Mecab"
   ]
  }
 ],
 "metadata": {
  "kernelspec": {
   "display_name": "Python 3 (ipykernel)",
   "language": "python",
   "name": "python3"
  },
  "language_info": {
   "codemirror_mode": {
    "name": "ipython",
    "version": 3
   },
   "file_extension": ".py",
   "mimetype": "text/x-python",
   "name": "python",
   "nbconvert_exporter": "python",
   "pygments_lexer": "ipython3",
   "version": "3.9.7"
  }
 },
 "nbformat": 4,
 "nbformat_minor": 5
}
