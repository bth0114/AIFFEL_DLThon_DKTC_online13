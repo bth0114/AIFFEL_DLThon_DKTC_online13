{
  "nbformat": 4,
  "nbformat_minor": 0,
  "metadata": {
    "colab": {
      "provenance": [],
      "gpuType": "T4",
      "mount_file_id": "1LHYDU59v0VLki273KtIjKCUYtxtmdOp1",
      "authorship_tag": "ABX9TyMQyRDMi56oxjxJeeYtt2kn",
      "include_colab_link": true
    },
    "kernelspec": {
      "name": "python3",
      "display_name": "Python 3"
    },
    "language_info": {
      "name": "python"
    },
    "accelerator": "GPU"
  },
  "cells": [
    {
      "cell_type": "markdown",
      "metadata": {
        "id": "view-in-github",
        "colab_type": "text"
      },
      "source": [
        "<a href=\"https://colab.research.google.com/github/bth0114/AIFFEL_DLThon_DKTC_online13/blob/main/notebooks/jiwoong/baseline.ipynb\" target=\"_parent\"><img src=\"https://colab.research.google.com/assets/colab-badge.svg\" alt=\"Open In Colab\"/></a>"
      ]
    },
    {
      "cell_type": "code",
      "execution_count": 1,
      "metadata": {
        "colab": {
          "base_uri": "https://localhost:8080/"
        },
        "id": "Sij6aU4WYRgT",
        "outputId": "c2342f00-41b9-4ec4-8814-5a3284646204"
      },
      "outputs": [
        {
          "output_type": "stream",
          "name": "stdout",
          "text": [
            "Requirement already satisfied: konlpy in /usr/local/lib/python3.11/dist-packages (0.6.0)\n",
            "Requirement already satisfied: JPype1>=0.7.0 in /usr/local/lib/python3.11/dist-packages (from konlpy) (1.5.2)\n",
            "Requirement already satisfied: lxml>=4.1.0 in /usr/local/lib/python3.11/dist-packages (from konlpy) (5.4.0)\n",
            "Requirement already satisfied: numpy>=1.6 in /usr/local/lib/python3.11/dist-packages (from konlpy) (2.0.2)\n",
            "Requirement already satisfied: packaging in /usr/local/lib/python3.11/dist-packages (from JPype1>=0.7.0->konlpy) (24.2)\n"
          ]
        }
      ],
      "source": [
        "!pip install konlpy"
      ]
    },
    {
      "cell_type": "markdown",
      "source": [
        "## 모듈 불러오기 및 파일 경로 지정"
      ],
      "metadata": {
        "id": "eKrL-oLPu9VM"
      }
    },
    {
      "cell_type": "code",
      "source": [
        "import os\n",
        "import re\n",
        "import pandas as pd\n",
        "import numpy as np\n",
        "import tensorflow as tf\n",
        "import matplotlib.pyplot as plt\n",
        "from konlpy.tag import Okt\n",
        "from keras.callbacks import ModelCheckpoint, EarlyStopping\n",
        "from tensorflow.keras.metrics import F1Score\n",
        "from sklearn.model_selection import train_test_split\n",
        "from tensorflow.keras.preprocessing.text import Tokenizer\n",
        "from tensorflow.keras.preprocessing.sequence import pad_sequences\n",
        "from tensorflow.keras.models import Sequential, Model\n",
        "from tensorflow.keras.layers import Embedding, Bidirectional, LSTM, Dense, Dropout, Input"
      ],
      "metadata": {
        "id": "nAh48fLLYY1_"
      },
      "execution_count": 2,
      "outputs": []
    },
    {
      "cell_type": "code",
      "source": [
        "%cd /content/drive/MyDrive/Colab Notebooks/Aiffel/AIFFEL_DLThon_DKTC_online13\n",
        "current_dir = os.getcwd()\n",
        "csv_dir = os.path.join(current_dir, 'data', 'raw_csv')\n",
        "train_csv_path = os.path.join(csv_dir, 'merged_train.csv')"
      ],
      "metadata": {
        "colab": {
          "base_uri": "https://localhost:8080/"
        },
        "id": "HnXFLuo6YhbQ",
        "outputId": "c9a62771-279f-49eb-af3a-56263da34491"
      },
      "execution_count": 3,
      "outputs": [
        {
          "output_type": "stream",
          "name": "stdout",
          "text": [
            "/content/drive/MyDrive/Colab Notebooks/Aiffel/AIFFEL_DLThon_DKTC_online13\n"
          ]
        }
      ]
    },
    {
      "cell_type": "markdown",
      "source": [
        "## 데이터 전처리\n",
        "- 구두점 제거\n",
        "- 명사, 동사, 형용사, 부사, 숫자를 기준으로 토큰화\n",
        "- 최대 길이를 기준으로 패딩"
      ],
      "metadata": {
        "id": "5PzzyCv8vEyZ"
      }
    },
    {
      "cell_type": "code",
      "source": [
        "INPUT_MAX_LENGTH = 350  # 입력 시퀀스 최대 길이\n",
        "NUM_WORDS = 7000 # 토큰화에 사용할 단어 갯수\n",
        "EMBEDDING_DIM = 64  # 임베딩 차원"
      ],
      "metadata": {
        "id": "TsBzlokSt8v5"
      },
      "execution_count": 4,
      "outputs": []
    },
    {
      "cell_type": "code",
      "source": [
        "df = pd.read_csv(train_csv_path)\n",
        "ordered_columns = ['협박 대화', '갈취 대화', '직장 내 괴롭힘 대화', '기타 괴롭힘 대화', '일반 대화'] # kaggle에 명시된 순서로 재배치\n",
        "\n",
        "conversations = df['conversation'].to_list() # input\n",
        "labels = pd.get_dummies(df['class'])\n",
        "labels = labels[ordered_columns].to_numpy() # target"
      ],
      "metadata": {
        "id": "7aEdMfUDYsMK"
      },
      "execution_count": 5,
      "outputs": []
    },
    {
      "cell_type": "code",
      "source": [
        "# 훈련셋,검증셋 분리\n",
        "X_train_raw, X_val_raw, y_train, y_val = train_test_split(conversations, labels, test_size=0.2, stratify=labels, random_state=42)"
      ],
      "metadata": {
        "id": "idPS0Vpr0Jab"
      },
      "execution_count": 6,
      "outputs": []
    },
    {
      "cell_type": "code",
      "source": [
        "# 구두점을 제거하는 함수\n",
        "def remove_punctuation(texts):\n",
        "    result = []\n",
        "    for text in texts:\n",
        "        # ?! 제외한 모든 특수문자 제거\n",
        "        text = re.sub(r'[^\\w\\s?!]', '', text.replace('\\n', ' '))\n",
        "        result.append(text)\n",
        "    return result\n",
        "\n",
        "# 명사, 동사, 형용사, 부사, 숫자를 기준으로 토큰화해주는 함수\n",
        "def pos_tagging(texts):\n",
        "    okt = Okt()\n",
        "\n",
        "    result = []\n",
        "    for text in texts:\n",
        "        filtered_words = [word for word, pos in okt.pos(text) if pos in [\n",
        "            'Noun', 'Verb', 'Adjective', 'Adverb',  # 기본 품사\n",
        "            'Number'                                # 금전 관련 숫자 정보\n",
        "        ]]\n",
        "        result.append(filtered_words)  # 각 문장별로 필터링된 단어들을 리스트로 저장\n",
        "\n",
        "    return result\n",
        "\n",
        "# 토크나이저 생성 함수\n",
        "def create_tokenizer(texts, num_words=None): # num_words = 인코딩 시 사용할 단어 개수\n",
        "    tokenizer = Tokenizer(num_words=num_words, oov_token=\"<OOV>\")\n",
        "    tokenizer.fit_on_texts(texts) # 어휘사전 정의\n",
        "\n",
        "    return tokenizer\n",
        "\n",
        "# 모든 전처리 함수. 구두점 제거, 품사기준 토큰화, 정수 인코딩, 패딩\n",
        "def preprocessing(texts, tokenizer, padded_max_len):\n",
        "  removed_punctuation_texts = remove_punctuation(texts)\n",
        "  pos_tagged_texts = pos_tagging(removed_punctuation_texts)\n",
        "  sequences = tokenizer.texts_to_sequences(pos_tagged_texts)\n",
        "  padded_sequences = pad_sequences(sequences, maxlen=padded_max_len)\n",
        "\n",
        "  return padded_sequences"
      ],
      "metadata": {
        "id": "2hRlOq6AZ5-x"
      },
      "execution_count": 7,
      "outputs": []
    },
    {
      "cell_type": "code",
      "source": [
        "# 토크나이저 생성\n",
        "tokenizer = create_tokenizer(conversations, NUM_WORDS)\n",
        "print(\"생성된 어휘 수:\", len(tokenizer.word_index))"
      ],
      "metadata": {
        "colab": {
          "base_uri": "https://localhost:8080/"
        },
        "id": "jGHV_3ycfeRF",
        "outputId": "fe0ac56f-f39a-4c3b-c392-769adf92c632"
      },
      "execution_count": 8,
      "outputs": [
        {
          "output_type": "stream",
          "name": "stdout",
          "text": [
            "생성된 어휘 수: 55065\n"
          ]
        }
      ]
    },
    {
      "cell_type": "code",
      "source": [
        "# 전처리 수행\n",
        "X_train = preprocessing(X_train_raw, tokenizer, INPUT_MAX_LENGTH)\n",
        "X_val = preprocessing(X_val_raw, tokenizer, INPUT_MAX_LENGTH)"
      ],
      "metadata": {
        "id": "PJCJP_atgors"
      },
      "execution_count": 9,
      "outputs": []
    },
    {
      "cell_type": "markdown",
      "source": [
        "## 모델 훈련\n",
        "- 1개의 양방향 LSTM과 드롭아웃 층으로 구성\n",
        "- F1score를 기준으로 조기종료 수행"
      ],
      "metadata": {
        "id": "udtQix8gwiMX"
      }
    },
    {
      "cell_type": "code",
      "source": [
        "vocab_size = NUM_WORDS + 1  # 패딩\n",
        "\n",
        "inputs = Input(shape=(INPUT_MAX_LENGTH,))\n",
        "embedding = Embedding(input_dim=vocab_size, output_dim=EMBEDDING_DIM)(inputs)\n",
        "lstm = Bidirectional(LSTM(64))(embedding)\n",
        "dropout = Dropout(0.5)(lstm)\n",
        "outputs = Dense(5, activation='softmax')(dropout)\n",
        "model = Model(inputs=inputs, outputs=outputs)\n",
        "\n",
        "model.summary()"
      ],
      "metadata": {
        "colab": {
          "base_uri": "https://localhost:8080/",
          "height": 298
        },
        "id": "niOqjOa2hb3k",
        "outputId": "ecbb477f-61f4-4423-9399-65f38e957663"
      },
      "execution_count": 10,
      "outputs": [
        {
          "output_type": "display_data",
          "data": {
            "text/plain": [
              "\u001b[1mModel: \"functional\"\u001b[0m\n"
            ],
            "text/html": [
              "<pre style=\"white-space:pre;overflow-x:auto;line-height:normal;font-family:Menlo,'DejaVu Sans Mono',consolas,'Courier New',monospace\"><span style=\"font-weight: bold\">Model: \"functional\"</span>\n",
              "</pre>\n"
            ]
          },
          "metadata": {}
        },
        {
          "output_type": "display_data",
          "data": {
            "text/plain": [
              "┏━━━━━━━━━━━━━━━━━━━━━━━━━━━━━━━━━┳━━━━━━━━━━━━━━━━━━━━━━━━┳━━━━━━━━━━━━━━━┓\n",
              "┃\u001b[1m \u001b[0m\u001b[1mLayer (type)                   \u001b[0m\u001b[1m \u001b[0m┃\u001b[1m \u001b[0m\u001b[1mOutput Shape          \u001b[0m\u001b[1m \u001b[0m┃\u001b[1m \u001b[0m\u001b[1m      Param #\u001b[0m\u001b[1m \u001b[0m┃\n",
              "┡━━━━━━━━━━━━━━━━━━━━━━━━━━━━━━━━━╇━━━━━━━━━━━━━━━━━━━━━━━━╇━━━━━━━━━━━━━━━┩\n",
              "│ input_layer (\u001b[38;5;33mInputLayer\u001b[0m)        │ (\u001b[38;5;45mNone\u001b[0m, \u001b[38;5;34m350\u001b[0m)            │             \u001b[38;5;34m0\u001b[0m │\n",
              "├─────────────────────────────────┼────────────────────────┼───────────────┤\n",
              "│ embedding (\u001b[38;5;33mEmbedding\u001b[0m)           │ (\u001b[38;5;45mNone\u001b[0m, \u001b[38;5;34m350\u001b[0m, \u001b[38;5;34m64\u001b[0m)        │       \u001b[38;5;34m448,064\u001b[0m │\n",
              "├─────────────────────────────────┼────────────────────────┼───────────────┤\n",
              "│ bidirectional (\u001b[38;5;33mBidirectional\u001b[0m)   │ (\u001b[38;5;45mNone\u001b[0m, \u001b[38;5;34m128\u001b[0m)            │        \u001b[38;5;34m66,048\u001b[0m │\n",
              "├─────────────────────────────────┼────────────────────────┼───────────────┤\n",
              "│ dropout (\u001b[38;5;33mDropout\u001b[0m)               │ (\u001b[38;5;45mNone\u001b[0m, \u001b[38;5;34m128\u001b[0m)            │             \u001b[38;5;34m0\u001b[0m │\n",
              "├─────────────────────────────────┼────────────────────────┼───────────────┤\n",
              "│ dense (\u001b[38;5;33mDense\u001b[0m)                   │ (\u001b[38;5;45mNone\u001b[0m, \u001b[38;5;34m5\u001b[0m)              │           \u001b[38;5;34m645\u001b[0m │\n",
              "└─────────────────────────────────┴────────────────────────┴───────────────┘\n"
            ],
            "text/html": [
              "<pre style=\"white-space:pre;overflow-x:auto;line-height:normal;font-family:Menlo,'DejaVu Sans Mono',consolas,'Courier New',monospace\">┏━━━━━━━━━━━━━━━━━━━━━━━━━━━━━━━━━┳━━━━━━━━━━━━━━━━━━━━━━━━┳━━━━━━━━━━━━━━━┓\n",
              "┃<span style=\"font-weight: bold\"> Layer (type)                    </span>┃<span style=\"font-weight: bold\"> Output Shape           </span>┃<span style=\"font-weight: bold\">       Param # </span>┃\n",
              "┡━━━━━━━━━━━━━━━━━━━━━━━━━━━━━━━━━╇━━━━━━━━━━━━━━━━━━━━━━━━╇━━━━━━━━━━━━━━━┩\n",
              "│ input_layer (<span style=\"color: #0087ff; text-decoration-color: #0087ff\">InputLayer</span>)        │ (<span style=\"color: #00d7ff; text-decoration-color: #00d7ff\">None</span>, <span style=\"color: #00af00; text-decoration-color: #00af00\">350</span>)            │             <span style=\"color: #00af00; text-decoration-color: #00af00\">0</span> │\n",
              "├─────────────────────────────────┼────────────────────────┼───────────────┤\n",
              "│ embedding (<span style=\"color: #0087ff; text-decoration-color: #0087ff\">Embedding</span>)           │ (<span style=\"color: #00d7ff; text-decoration-color: #00d7ff\">None</span>, <span style=\"color: #00af00; text-decoration-color: #00af00\">350</span>, <span style=\"color: #00af00; text-decoration-color: #00af00\">64</span>)        │       <span style=\"color: #00af00; text-decoration-color: #00af00\">448,064</span> │\n",
              "├─────────────────────────────────┼────────────────────────┼───────────────┤\n",
              "│ bidirectional (<span style=\"color: #0087ff; text-decoration-color: #0087ff\">Bidirectional</span>)   │ (<span style=\"color: #00d7ff; text-decoration-color: #00d7ff\">None</span>, <span style=\"color: #00af00; text-decoration-color: #00af00\">128</span>)            │        <span style=\"color: #00af00; text-decoration-color: #00af00\">66,048</span> │\n",
              "├─────────────────────────────────┼────────────────────────┼───────────────┤\n",
              "│ dropout (<span style=\"color: #0087ff; text-decoration-color: #0087ff\">Dropout</span>)               │ (<span style=\"color: #00d7ff; text-decoration-color: #00d7ff\">None</span>, <span style=\"color: #00af00; text-decoration-color: #00af00\">128</span>)            │             <span style=\"color: #00af00; text-decoration-color: #00af00\">0</span> │\n",
              "├─────────────────────────────────┼────────────────────────┼───────────────┤\n",
              "│ dense (<span style=\"color: #0087ff; text-decoration-color: #0087ff\">Dense</span>)                   │ (<span style=\"color: #00d7ff; text-decoration-color: #00d7ff\">None</span>, <span style=\"color: #00af00; text-decoration-color: #00af00\">5</span>)              │           <span style=\"color: #00af00; text-decoration-color: #00af00\">645</span> │\n",
              "└─────────────────────────────────┴────────────────────────┴───────────────┘\n",
              "</pre>\n"
            ]
          },
          "metadata": {}
        },
        {
          "output_type": "display_data",
          "data": {
            "text/plain": [
              "\u001b[1m Total params: \u001b[0m\u001b[38;5;34m514,757\u001b[0m (1.96 MB)\n"
            ],
            "text/html": [
              "<pre style=\"white-space:pre;overflow-x:auto;line-height:normal;font-family:Menlo,'DejaVu Sans Mono',consolas,'Courier New',monospace\"><span style=\"font-weight: bold\"> Total params: </span><span style=\"color: #00af00; text-decoration-color: #00af00\">514,757</span> (1.96 MB)\n",
              "</pre>\n"
            ]
          },
          "metadata": {}
        },
        {
          "output_type": "display_data",
          "data": {
            "text/plain": [
              "\u001b[1m Trainable params: \u001b[0m\u001b[38;5;34m514,757\u001b[0m (1.96 MB)\n"
            ],
            "text/html": [
              "<pre style=\"white-space:pre;overflow-x:auto;line-height:normal;font-family:Menlo,'DejaVu Sans Mono',consolas,'Courier New',monospace\"><span style=\"font-weight: bold\"> Trainable params: </span><span style=\"color: #00af00; text-decoration-color: #00af00\">514,757</span> (1.96 MB)\n",
              "</pre>\n"
            ]
          },
          "metadata": {}
        },
        {
          "output_type": "display_data",
          "data": {
            "text/plain": [
              "\u001b[1m Non-trainable params: \u001b[0m\u001b[38;5;34m0\u001b[0m (0.00 B)\n"
            ],
            "text/html": [
              "<pre style=\"white-space:pre;overflow-x:auto;line-height:normal;font-family:Menlo,'DejaVu Sans Mono',consolas,'Courier New',monospace\"><span style=\"font-weight: bold\"> Non-trainable params: </span><span style=\"color: #00af00; text-decoration-color: #00af00\">0</span> (0.00 B)\n",
              "</pre>\n"
            ]
          },
          "metadata": {}
        }
      ]
    },
    {
      "cell_type": "code",
      "source": [
        "# F1Score 메트릭 생성 (클래스 수에 맞게 설정)\n",
        "f1 = F1Score(average='macro', name='f1')  # 명시적 이름 설정\n",
        "\n",
        "model.compile(optimizer='adam', loss='categorical_crossentropy', metrics=['accuracy', f1])"
      ],
      "metadata": {
        "id": "ijjLbZh9iQcT"
      },
      "execution_count": 11,
      "outputs": []
    },
    {
      "cell_type": "code",
      "source": [
        "es_callback = EarlyStopping(\n",
        "    monitor='val_f1',\n",
        "    patience=3,\n",
        "    restore_best_weights=True,\n",
        "    mode='max'\n",
        ")\n",
        "\n",
        "mc_callback = ModelCheckpoint(\n",
        "    './notebooks/jiwoong/models/baseline.keras',\n",
        "    monitor=\"val_f1\",\n",
        "    save_best_only=True,\n",
        "    mode=\"max\",\n",
        ")\n",
        "\n",
        "history = model.fit(\n",
        "    X_train, y_train,\n",
        "    epochs=40,\n",
        "    batch_size=32,\n",
        "    validation_data=(X_val, y_val),\n",
        "    callbacks=[es_callback, mc_callback]\n",
        ")"
      ],
      "metadata": {
        "colab": {
          "base_uri": "https://localhost:8080/"
        },
        "id": "9Yoyjo8CkN0O",
        "outputId": "bff78ff2-efa2-4c05-86df-c70010d699b5"
      },
      "execution_count": 12,
      "outputs": [
        {
          "output_type": "stream",
          "name": "stdout",
          "text": [
            "Epoch 1/40\n",
            "\u001b[1m116/116\u001b[0m \u001b[32m━━━━━━━━━━━━━━━━━━━━\u001b[0m\u001b[37m\u001b[0m \u001b[1m10s\u001b[0m 34ms/step - accuracy: 0.2905 - f1: 0.2404 - loss: 1.5223 - val_accuracy: 0.6272 - val_f1: 0.6356 - val_loss: 1.0610\n",
            "Epoch 2/40\n",
            "\u001b[1m116/116\u001b[0m \u001b[32m━━━━━━━━━━━━━━━━━━━━\u001b[0m\u001b[37m\u001b[0m \u001b[1m10s\u001b[0m 56ms/step - accuracy: 0.6471 - f1: 0.6460 - loss: 0.9135 - val_accuracy: 0.7144 - val_f1: 0.7181 - val_loss: 0.7109\n",
            "Epoch 3/40\n",
            "\u001b[1m116/116\u001b[0m \u001b[32m━━━━━━━━━━━━━━━━━━━━\u001b[0m\u001b[37m\u001b[0m \u001b[1m7s\u001b[0m 30ms/step - accuracy: 0.8138 - f1: 0.8128 - loss: 0.5494 - val_accuracy: 0.7856 - val_f1: 0.7843 - val_loss: 0.5938\n",
            "Epoch 4/40\n",
            "\u001b[1m116/116\u001b[0m \u001b[32m━━━━━━━━━━━━━━━━━━━━\u001b[0m\u001b[37m\u001b[0m \u001b[1m5s\u001b[0m 27ms/step - accuracy: 0.8810 - f1: 0.8818 - loss: 0.3908 - val_accuracy: 0.8147 - val_f1: 0.8152 - val_loss: 0.5612\n",
            "Epoch 5/40\n",
            "\u001b[1m116/116\u001b[0m \u001b[32m━━━━━━━━━━━━━━━━━━━━\u001b[0m\u001b[37m\u001b[0m \u001b[1m5s\u001b[0m 27ms/step - accuracy: 0.9150 - f1: 0.9182 - loss: 0.2861 - val_accuracy: 0.8394 - val_f1: 0.8437 - val_loss: 0.5119\n",
            "Epoch 6/40\n",
            "\u001b[1m116/116\u001b[0m \u001b[32m━━━━━━━━━━━━━━━━━━━━\u001b[0m\u001b[37m\u001b[0m \u001b[1m4s\u001b[0m 32ms/step - accuracy: 0.9613 - f1: 0.9627 - loss: 0.1628 - val_accuracy: 0.8664 - val_f1: 0.8701 - val_loss: 0.4354\n",
            "Epoch 7/40\n",
            "\u001b[1m116/116\u001b[0m \u001b[32m━━━━━━━━━━━━━━━━━━━━\u001b[0m\u001b[37m\u001b[0m \u001b[1m3s\u001b[0m 28ms/step - accuracy: 0.9747 - f1: 0.9751 - loss: 0.1023 - val_accuracy: 0.8664 - val_f1: 0.8709 - val_loss: 0.4411\n",
            "Epoch 8/40\n",
            "\u001b[1m116/116\u001b[0m \u001b[32m━━━━━━━━━━━━━━━━━━━━\u001b[0m\u001b[37m\u001b[0m \u001b[1m3s\u001b[0m 25ms/step - accuracy: 0.9784 - f1: 0.9789 - loss: 0.0997 - val_accuracy: 0.8556 - val_f1: 0.8592 - val_loss: 0.5284\n",
            "Epoch 9/40\n",
            "\u001b[1m116/116\u001b[0m \u001b[32m━━━━━━━━━━━━━━━━━━━━\u001b[0m\u001b[37m\u001b[0m \u001b[1m6s\u001b[0m 29ms/step - accuracy: 0.9854 - f1: 0.9858 - loss: 0.0691 - val_accuracy: 0.8556 - val_f1: 0.8604 - val_loss: 0.4363\n",
            "Epoch 10/40\n",
            "\u001b[1m116/116\u001b[0m \u001b[32m━━━━━━━━━━━━━━━━━━━━\u001b[0m\u001b[37m\u001b[0m \u001b[1m5s\u001b[0m 27ms/step - accuracy: 0.9890 - f1: 0.9894 - loss: 0.0486 - val_accuracy: 0.8405 - val_f1: 0.8447 - val_loss: 0.5526\n"
          ]
        }
      ]
    },
    {
      "cell_type": "markdown",
      "source": [
        "## 결과 분석"
      ],
      "metadata": {
        "id": "NbLq-ODhbQoX"
      }
    },
    {
      "cell_type": "code",
      "source": [
        "# 그래프를 출력하는 함수\n",
        "def plot_training_history(history):\n",
        "    history_dict = history.history\n",
        "    epochs = range(1, len(history_dict['loss']) + 1)\n",
        "\n",
        "    plt.figure(figsize=(14, 5))\n",
        "\n",
        "    # Loss plot\n",
        "    plt.subplot(1, 2, 1)\n",
        "    plt.plot(epochs, history_dict['loss'], 'bo-', label='Training Loss')\n",
        "    plt.plot(epochs, history_dict['val_loss'], 'ro-', label='Validation Loss')\n",
        "    plt.title('Training and Validation Loss')\n",
        "    plt.xlabel('Epochs')\n",
        "    plt.ylabel('Loss')\n",
        "    plt.legend()\n",
        "\n",
        "    # F1Score plot\n",
        "    if 'f1' in history_dict and 'val_f1' in history_dict:\n",
        "        plt.subplot(1, 2, 2)\n",
        "        plt.plot(epochs, history_dict['f1'], 'bo-', label='Training F1')\n",
        "        plt.plot(epochs, history_dict['val_f1'], 'ro-', label='Validation F1')\n",
        "        plt.title('Training and Validation F1 Score')\n",
        "        plt.xlabel('Epochs')\n",
        "        plt.ylabel('F1 Score')\n",
        "        plt.legend()\n",
        "\n",
        "    plt.tight_layout()\n",
        "    plt.show()"
      ],
      "metadata": {
        "id": "Cv-BHempasjM"
      },
      "execution_count": 13,
      "outputs": []
    },
    {
      "cell_type": "code",
      "source": [
        "plot_training_history(history)"
      ],
      "metadata": {
        "colab": {
          "base_uri": "https://localhost:8080/",
          "height": 400
        },
        "id": "2pTC90ITa3jd",
        "outputId": "4bbcd920-b6d4-418c-ff39-7d61fb9f86ba"
      },
      "execution_count": 14,
      "outputs": [
        {
          "output_type": "display_data",
          "data": {
            "text/plain": [
              "<Figure size 1400x500 with 2 Axes>"
            ],
            "image/png": "[encoded data removed]"
          },
          "metadata": {}
        }
      ]
    },
    {
      "cell_type": "code",
      "source": [
        "from sklearn.metrics import classification_report, confusion_matrix\n",
        "\n",
        "y_pred = model.predict(X_val)\n",
        "y_pred_labels = np.argmax(y_pred, axis=1)\n",
        "y_true_labels = np.argmax(y_val, axis=1)\n",
        "\n",
        "print(confusion_matrix(y_true_labels, y_pred_labels))\n",
        "print(classification_report(y_true_labels, y_pred_labels, target_names=ordered_columns))"
      ],
      "metadata": {
        "colab": {
          "base_uri": "https://localhost:8080/"
        },
        "id": "733LJ-jWlGTf",
        "outputId": "89953174-5a9d-4758-89c4-11fa09e367cc"
      },
      "execution_count": 15,
      "outputs": [
        {
          "output_type": "stream",
          "name": "stdout",
          "text": [
            "\u001b[1m29/29\u001b[0m \u001b[32m━━━━━━━━━━━━━━━━━━━━\u001b[0m\u001b[37m\u001b[0m \u001b[1m1s\u001b[0m 15ms/step\n",
            "[[140  11   3  25   0]\n",
            " [ 12 160   7  16   0]\n",
            " [  2   0 179  13   0]\n",
            " [ 13   9   9 171   0]\n",
            " [  0   0   4   0 154]]\n",
            "              precision    recall  f1-score   support\n",
            "\n",
            "       협박 대화       0.84      0.78      0.81       179\n",
            "       갈취 대화       0.89      0.82      0.85       195\n",
            " 직장 내 괴롭힘 대화       0.89      0.92      0.90       194\n",
            "   기타 괴롭힘 대화       0.76      0.85      0.80       202\n",
            "       일반 대화       1.00      0.97      0.99       158\n",
            "\n",
            "    accuracy                           0.87       928\n",
            "   macro avg       0.87      0.87      0.87       928\n",
            "weighted avg       0.87      0.87      0.87       928\n",
            "\n"
          ]
        }
      ]
    },
    {
      "cell_type": "markdown",
      "source": [
        "+ 데이터 EDA 때 예상한 대로 일반대화에 많이 과적합되었으며 직장 내 괴롭힘 대화는 점수가 높음\n",
        "+ 나머지 세 카테고리에 대해서는 아쉬운 성능"
      ],
      "metadata": {
        "id": "Gas62-yDx_0v"
      }
    },
    {
      "cell_type": "markdown",
      "source": [
        "## submission"
      ],
      "metadata": {
        "id": "thsc6jZXxs3n"
      }
    },
    {
      "cell_type": "code",
      "source": [
        "test_csv_path = os.path.join(csv_dir, 'test.csv')\n",
        "\n",
        "df_test = pd.read_csv(test_csv_path)\n",
        "conversations_test = df_test['text'].to_list()\n",
        "\n",
        "X_text = preprocessing(conversations_test, tokenizer, INPUT_MAX_LENGTH)"
      ],
      "metadata": {
        "id": "q8BooiWkqQo-"
      },
      "execution_count": 16,
      "outputs": []
    },
    {
      "cell_type": "code",
      "source": [
        "# 모델 예측 (Softmax를 사용하여 각 클래스에 대한 확률 계산)\n",
        "predictions = model.predict(X_text)\n",
        "\n",
        "# 예측 결과를 클래스 인덱스로 변환\n",
        "predicted_classes = predictions.argmax(axis=1)"
      ],
      "metadata": {
        "colab": {
          "base_uri": "https://localhost:8080/"
        },
        "id": "stpbVdpdqRrQ",
        "outputId": "c517e3c9-cabf-4e6d-ef58-2897a129567b"
      },
      "execution_count": 17,
      "outputs": [
        {
          "output_type": "stream",
          "name": "stdout",
          "text": [
            "\u001b[1m16/16\u001b[0m \u001b[32m━━━━━━━━━━━━━━━━━━━━\u001b[0m\u001b[37m\u001b[0m \u001b[1m0s\u001b[0m 28ms/step\n"
          ]
        }
      ]
    },
    {
      "cell_type": "code",
      "source": [
        "# id와 예측된 클래스 저장\n",
        "submission_df = pd.DataFrame({\n",
        "    'idx': df_test['idx'],\n",
        "    'class': predicted_classes\n",
        "})\n",
        "\n",
        "display(submission_df)\n",
        "\n",
        "# submission.csv로 저장\n",
        "submission_df.to_csv('/content/submission.csv', index=False)"
      ],
      "metadata": {
        "colab": {
          "base_uri": "https://localhost:8080/",
          "height": 424
        },
        "id": "n5UOlYGkqrOz",
        "outputId": "a141a21c-a3d5-4ec7-d95c-7dbd93749e86"
      },
      "execution_count": 18,
      "outputs": [
        {
          "output_type": "display_data",
          "data": {
            "text/plain": [
              "       idx  class\n",
              "0    t_000      0\n",
              "1    t_001      2\n",
              "2    t_002      2\n",
              "3    t_003      2\n",
              "4    t_004      3\n",
              "..     ...    ...\n",
              "495  t_495      2\n",
              "496  t_496      1\n",
              "497  t_497      1\n",
              "498  t_498      0\n",
              "499  t_499      0\n",
              "\n",
              "[500 rows x 2 columns]"
            ],
            "text/html": [
              "\n",
              "  <div id=\"df-b79aea90-02bf-4126-a3c7-85406faee493\" class=\"colab-df-container\">\n",
              "    <div>\n",
              "<style scoped>\n",
              "    .dataframe tbody tr th:only-of-type {\n",
              "        vertical-align: middle;\n",
              "    }\n",
              "\n",
              "    .dataframe tbody tr th {\n",
              "        vertical-align: top;\n",
              "    }\n",
              "\n",
              "    .dataframe thead th {\n",
              "        text-align: right;\n",
              "    }\n",
              "</style>\n",
              "<table border=\"1\" class=\"dataframe\">\n",
              "  <thead>\n",
              "    <tr style=\"text-align: right;\">\n",
              "      <th></th>\n",
              "      <th>idx</th>\n",
              "      <th>class</th>\n",
              "    </tr>\n",
              "  </thead>\n",
              "  <tbody>\n",
              "    <tr>\n",
              "      <th>0</th>\n",
              "      <td>t_000</td>\n",
              "      <td>0</td>\n",
              "    </tr>\n",
              "    <tr>\n",
              "      <th>1</th>\n",
              "      <td>t_001</td>\n",
              "      <td>2</td>\n",
              "    </tr>\n",
              "    <tr>\n",
              "      <th>2</th>\n",
              "      <td>t_002</td>\n",
              "      <td>2</td>\n",
              "    </tr>\n",
              "    <tr>\n",
              "      <th>3</th>\n",
              "      <td>t_003</td>\n",
              "      <td>2</td>\n",
              "    </tr>\n",
              "    <tr>\n",
              "      <th>4</th>\n",
              "      <td>t_004</td>\n",
              "      <td>3</td>\n",
              "    </tr>\n",
              "    <tr>\n",
              "      <th>...</th>\n",
              "      <td>...</td>\n",
              "      <td>...</td>\n",
              "    </tr>\n",
              "    <tr>\n",
              "      <th>495</th>\n",
              "      <td>t_495</td>\n",
              "      <td>2</td>\n",
              "    </tr>\n",
              "    <tr>\n",
              "      <th>496</th>\n",
              "      <td>t_496</td>\n",
              "      <td>1</td>\n",
              "    </tr>\n",
              "    <tr>\n",
              "      <th>497</th>\n",
              "      <td>t_497</td>\n",
              "      <td>1</td>\n",
              "    </tr>\n",
              "    <tr>\n",
              "      <th>498</th>\n",
              "      <td>t_498</td>\n",
              "      <td>0</td>\n",
              "    </tr>\n",
              "    <tr>\n",
              "      <th>499</th>\n",
              "      <td>t_499</td>\n",
              "      <td>0</td>\n",
              "    </tr>\n",
              "  </tbody>\n",
              "</table>\n",
              "<p>500 rows × 2 columns</p>\n",
              "</div>\n",
              "    <div class=\"colab-df-buttons\">\n",
              "\n",
              "  <div class=\"colab-df-container\">\n",
              "    <button class=\"colab-df-convert\" onclick=\"convertToInteractive('df-b79aea90-02bf-4126-a3c7-85406faee493')\"\n",
              "            title=\"Convert this dataframe to an interactive table.\"\n",
              "            style=\"display:none;\">\n",
              "\n",
              "  <svg xmlns=\"http://www.w3.org/2000/svg\" height=\"24px\" viewBox=\"0 -960 960 960\">\n",
              "    <path d=\"M120-120v-720h720v720H120Zm60-500h600v-160H180v160Zm220 220h160v-160H400v160Zm0 220h160v-160H400v160ZM180-400h160v-160H180v160Zm440 0h160v-160H620v160ZM180-180h160v-160H180v160Zm440 0h160v-160H620v160Z\"/>\n",
              "  </svg>\n",
              "    </button>\n",
              "\n",
              "  <style>\n",
              "    .colab-df-container {\n",
              "      display:flex;\n",
              "      gap: 12px;\n",
              "    }\n",
              "\n",
              "    .colab-df-convert {\n",
              "      background-color: #E8F0FE;\n",
              "      border: none;\n",
              "      border-radius: 50%;\n",
              "      cursor: pointer;\n",
              "      display: none;\n",
              "      fill: #1967D2;\n",
              "      height: 32px;\n",
              "      padding: 0 0 0 0;\n",
              "      width: 32px;\n",
              "    }\n",
              "\n",
              "    .colab-df-convert:hover {\n",
              "      background-color: #E2EBFA;\n",
              "      box-shadow: 0px 1px 2px rgba(60, 64, 67, 0.3), 0px 1px 3px 1px rgba(60, 64, 67, 0.15);\n",
              "      fill: #174EA6;\n",
              "    }\n",
              "\n",
              "    .colab-df-buttons div {\n",
              "      margin-bottom: 4px;\n",
              "    }\n",
              "\n",
              "    [theme=dark] .colab-df-convert {\n",
              "      background-color: #3B4455;\n",
              "      fill: #D2E3FC;\n",
              "    }\n",
              "\n",
              "    [theme=dark] .colab-df-convert:hover {\n",
              "      background-color: #434B5C;\n",
              "      box-shadow: 0px 1px 3px 1px rgba(0, 0, 0, 0.15);\n",
              "      filter: drop-shadow(0px 1px 2px rgba(0, 0, 0, 0.3));\n",
              "      fill: #FFFFFF;\n",
              "    }\n",
              "  </style>\n",
              "\n",
              "    <script>\n",
              "      const buttonEl =\n",
              "        document.querySelector('#df-b79aea90-02bf-4126-a3c7-85406faee493 button.colab-df-convert');\n",
              "      buttonEl.style.display =\n",
              "        google.colab.kernel.accessAllowed ? 'block' : 'none';\n",
              "\n",
              "      async function convertToInteractive(key) {\n",
              "        const element = document.querySelector('#df-b79aea90-02bf-4126-a3c7-85406faee493');\n",
              "        const dataTable =\n",
              "          await google.colab.kernel.invokeFunction('convertToInteractive',\n",
              "                                                    [key], {});\n",
              "        if (!dataTable) return;\n",
              "\n",
              "        const docLinkHtml = 'Like what you see? Visit the ' +\n",
              "          '<a target=\"_blank\" href=https://colab.research.google.com/notebooks/data_table.ipynb>data table notebook</a>'\n",
              "          + ' to learn more about interactive tables.';\n",
              "        element.innerHTML = '';\n",
              "        dataTable['output_type'] = 'display_data';\n",
              "        await google.colab.output.renderOutput(dataTable, element);\n",
              "        const docLink = document.createElement('div');\n",
              "        docLink.innerHTML = docLinkHtml;\n",
              "        element.appendChild(docLink);\n",
              "      }\n",
              "    </script>\n",
              "  </div>\n",
              "\n",
              "\n",
              "    <div id=\"df-a7a49367-3606-4a4f-8ae2-988e6b4cc2bd\">\n",
              "      <button class=\"colab-df-quickchart\" onclick=\"quickchart('df-a7a49367-3606-4a4f-8ae2-988e6b4cc2bd')\"\n",
              "                title=\"Suggest charts\"\n",
              "                style=\"display:none;\">\n",
              "\n",
              "<svg xmlns=\"http://www.w3.org/2000/svg\" height=\"24px\"viewBox=\"0 0 24 24\"\n",
              "     width=\"24px\">\n",
              "    <g>\n",
              "        <path d=\"M19 3H5c-1.1 0-2 .9-2 2v14c0 1.1.9 2 2 2h14c1.1 0 2-.9 2-2V5c0-1.1-.9-2-2-2zM9 17H7v-7h2v7zm4 0h-2V7h2v10zm4 0h-2v-4h2v4z\"/>\n",
              "    </g>\n",
              "</svg>\n",
              "      </button>\n",
              "\n",
              "<style>\n",
              "  .colab-df-quickchart {\n",
              "      --bg-color: #E8F0FE;\n",
              "      --fill-color: #1967D2;\n",
              "      --hover-bg-color: #E2EBFA;\n",
              "      --hover-fill-color: #174EA6;\n",
              "      --disabled-fill-color: #AAA;\n",
              "      --disabled-bg-color: #DDD;\n",
              "  }\n",
              "\n",
              "  [theme=dark] .colab-df-quickchart {\n",
              "      --bg-color: #3B4455;\n",
              "      --fill-color: #D2E3FC;\n",
              "      --hover-bg-color: #434B5C;\n",
              "      --hover-fill-color: #FFFFFF;\n",
              "      --disabled-bg-color: #3B4455;\n",
              "      --disabled-fill-color: #666;\n",
              "  }\n",
              "\n",
              "  .colab-df-quickchart {\n",
              "    background-color: var(--bg-color);\n",
              "    border: none;\n",
              "    border-radius: 50%;\n",
              "    cursor: pointer;\n",
              "    display: none;\n",
              "    fill: var(--fill-color);\n",
              "    height: 32px;\n",
              "    padding: 0;\n",
              "    width: 32px;\n",
              "  }\n",
              "\n",
              "  .colab-df-quickchart:hover {\n",
              "    background-color: var(--hover-bg-color);\n",
              "    box-shadow: 0 1px 2px rgba(60, 64, 67, 0.3), 0 1px 3px 1px rgba(60, 64, 67, 0.15);\n",
              "    fill: var(--button-hover-fill-color);\n",
              "  }\n",
              "\n",
              "  .colab-df-quickchart-complete:disabled,\n",
              "  .colab-df-quickchart-complete:disabled:hover {\n",
              "    background-color: var(--disabled-bg-color);\n",
              "    fill: var(--disabled-fill-color);\n",
              "    box-shadow: none;\n",
              "  }\n",
              "\n",
              "  .colab-df-spinner {\n",
              "    border: 2px solid var(--fill-color);\n",
              "    border-color: transparent;\n",
              "    border-bottom-color: var(--fill-color);\n",
              "    animation:\n",
              "      spin 1s steps(1) infinite;\n",
              "  }\n",
              "\n",
              "  @keyframes spin {\n",
              "    0% {\n",
              "      border-color: transparent;\n",
              "      border-bottom-color: var(--fill-color);\n",
              "      border-left-color: var(--fill-color);\n",
              "    }\n",
              "    20% {\n",
              "      border-color: transparent;\n",
              "      border-left-color: var(--fill-color);\n",
              "      border-top-color: var(--fill-color);\n",
              "    }\n",
              "    30% {\n",
              "      border-color: transparent;\n",
              "      border-left-color: var(--fill-color);\n",
              "      border-top-color: var(--fill-color);\n",
              "      border-right-color: var(--fill-color);\n",
              "    }\n",
              "    40% {\n",
              "      border-color: transparent;\n",
              "      border-right-color: var(--fill-color);\n",
              "      border-top-color: var(--fill-color);\n",
              "    }\n",
              "    60% {\n",
              "      border-color: transparent;\n",
              "      border-right-color: var(--fill-color);\n",
              "    }\n",
              "    80% {\n",
              "      border-color: transparent;\n",
              "      border-right-color: var(--fill-color);\n",
              "      border-bottom-color: var(--fill-color);\n",
              "    }\n",
              "    90% {\n",
              "      border-color: transparent;\n",
              "      border-bottom-color: var(--fill-color);\n",
              "    }\n",
              "  }\n",
              "</style>\n",
              "\n",
              "      <script>\n",
              "        async function quickchart(key) {\n",
              "          const quickchartButtonEl =\n",
              "            document.querySelector('#' + key + ' button');\n",
              "          quickchartButtonEl.disabled = true;  // To prevent multiple clicks.\n",
              "          quickchartButtonEl.classList.add('colab-df-spinner');\n",
              "          try {\n",
              "            const charts = await google.colab.kernel.invokeFunction(\n",
              "                'suggestCharts', [key], {});\n",
              "          } catch (error) {\n",
              "            console.error('Error during call to suggestCharts:', error);\n",
              "          }\n",
              "          quickchartButtonEl.classList.remove('colab-df-spinner');\n",
              "          quickchartButtonEl.classList.add('colab-df-quickchart-complete');\n",
              "        }\n",
              "        (() => {\n",
              "          let quickchartButtonEl =\n",
              "            document.querySelector('#df-a7a49367-3606-4a4f-8ae2-988e6b4cc2bd button');\n",
              "          quickchartButtonEl.style.display =\n",
              "            google.colab.kernel.accessAllowed ? 'block' : 'none';\n",
              "        })();\n",
              "      </script>\n",
              "    </div>\n",
              "\n",
              "  <div id=\"id_2d0d3dca-23d9-4d51-8e63-2d39adb93de8\">\n",
              "    <style>\n",
              "      .colab-df-generate {\n",
              "        background-color: #E8F0FE;\n",
              "        border: none;\n",
              "        border-radius: 50%;\n",
              "        cursor: pointer;\n",
              "        display: none;\n",
              "        fill: #1967D2;\n",
              "        height: 32px;\n",
              "        padding: 0 0 0 0;\n",
              "        width: 32px;\n",
              "      }\n",
              "\n",
              "      .colab-df-generate:hover {\n",
              "        background-color: #E2EBFA;\n",
              "        box-shadow: 0px 1px 2px rgba(60, 64, 67, 0.3), 0px 1px 3px 1px rgba(60, 64, 67, 0.15);\n",
              "        fill: #174EA6;\n",
              "      }\n",
              "\n",
              "      [theme=dark] .colab-df-generate {\n",
              "        background-color: #3B4455;\n",
              "        fill: #D2E3FC;\n",
              "      }\n",
              "\n",
              "      [theme=dark] .colab-df-generate:hover {\n",
              "        background-color: #434B5C;\n",
              "        box-shadow: 0px 1px 3px 1px rgba(0, 0, 0, 0.15);\n",
              "        filter: drop-shadow(0px 1px 2px rgba(0, 0, 0, 0.3));\n",
              "        fill: #FFFFFF;\n",
              "      }\n",
              "    </style>\n",
              "    <button class=\"colab-df-generate\" onclick=\"generateWithVariable('submission_df')\"\n",
              "            title=\"Generate code using this dataframe.\"\n",
              "            style=\"display:none;\">\n",
              "\n",
              "  <svg xmlns=\"http://www.w3.org/2000/svg\" height=\"24px\"viewBox=\"0 0 24 24\"\n",
              "       width=\"24px\">\n",
              "    <path d=\"M7,19H8.4L18.45,9,17,7.55,7,17.6ZM5,21V16.75L18.45,3.32a2,2,0,0,1,2.83,0l1.4,1.43a1.91,1.91,0,0,1,.58,1.4,1.91,1.91,0,0,1-.58,1.4L9.25,21ZM18.45,9,17,7.55Zm-12,3A5.31,5.31,0,0,0,4.9,8.1,5.31,5.31,0,0,0,1,6.5,5.31,5.31,0,0,0,4.9,4.9,5.31,5.31,0,0,0,6.5,1,5.31,5.31,0,0,0,8.1,4.9,5.31,5.31,0,0,0,12,6.5,5.46,5.46,0,0,0,6.5,12Z\"/>\n",
              "  </svg>\n",
              "    </button>\n",
              "    <script>\n",
              "      (() => {\n",
              "      const buttonEl =\n",
              "        document.querySelector('#id_2d0d3dca-23d9-4d51-8e63-2d39adb93de8 button.colab-df-generate');\n",
              "      buttonEl.style.display =\n",
              "        google.colab.kernel.accessAllowed ? 'block' : 'none';\n",
              "\n",
              "      buttonEl.onclick = () => {\n",
              "        google.colab.notebook.generateWithVariable('submission_df');\n",
              "      }\n",
              "      })();\n",
              "    </script>\n",
              "  </div>\n",
              "\n",
              "    </div>\n",
              "  </div>\n"
            ],
            "application/vnd.google.colaboratory.intrinsic+json": {
              "type": "dataframe",
              "variable_name": "submission_df",
              "summary": "{\n  \"name\": \"submission_df\",\n  \"rows\": 500,\n  \"fields\": [\n    {\n      \"column\": \"idx\",\n      \"properties\": {\n        \"dtype\": \"string\",\n        \"num_unique_values\": 500,\n        \"samples\": [\n          \"t_361\",\n          \"t_073\",\n          \"t_374\"\n        ],\n        \"semantic_type\": \"\",\n        \"description\": \"\"\n      }\n    },\n    {\n      \"column\": \"class\",\n      \"properties\": {\n        \"dtype\": \"number\",\n        \"std\": 1,\n        \"min\": 0,\n        \"max\": 4,\n        \"num_unique_values\": 5,\n        \"samples\": [\n          2,\n          4,\n          3\n        ],\n        \"semantic_type\": \"\",\n        \"description\": \"\"\n      }\n    }\n  ]\n}"
            }
          },
          "metadata": {}
        }
      ]
    },
    {
      "cell_type": "markdown",
      "source": [
        "## 제출 결과"
      ],
      "metadata": {
        "id": "Z4vV00lOze8e"
      }
    },
    {
      "cell_type": "markdown",
      "source": [
        "![image.png](data:image/png;base64,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)"
      ],
      "metadata": {
        "id": "tLk6kYwuzdlD"
      }
    }
  ]
}