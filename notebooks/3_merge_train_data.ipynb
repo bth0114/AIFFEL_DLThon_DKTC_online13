{
 "cells": [
  {
   "cell_type": "markdown",
   "id": "e173d008",
   "metadata": {},
   "source": [
    "## train 데이타와 일반대화 데이타를 merge하여 하나의 파일로 만든다."
   ]
  },
  {
   "cell_type": "markdown",
   "id": "8aa77d9d",
   "metadata": {},
   "source": [
    "0. 파일 \n",
    "  - original_train_data : train_no_dup.csv\n",
    "  - 일반대화 데이타 : conversation_normal.csv\n",
    "1. train 데이타 내용 확인\n",
    "2. 중복 데이타와 null 데이타 확인\n",
    "3. original train과 일반 대화 데이타 merge\n",
    "4. train 데이타 통계 분석 시각화 \n",
    "5. merged train 데이타 csv 파일 저장"
   ]
  },
  {
   "cell_type": "markdown",
   "id": "5266c7d9",
   "metadata": {},
   "source": [
    "### 1. train 데이타 내용 확인"
   ]
  },
  {
   "cell_type": "code",
   "execution_count": 23,
   "id": "d5b493d7",
   "metadata": {},
   "outputs": [],
   "source": [
    "import os\n",
    "import pandas as pd\n",
    "import tensorflow\n",
    "import numpy as np"
   ]
  },
  {
   "cell_type": "code",
   "execution_count": 24,
   "id": "43ae9f0d",
   "metadata": {
    "scrolled": true
   },
   "outputs": [
    {
     "data": {
      "text/html": [
       "<div>\n",
       "<style scoped>\n",
       "    .dataframe tbody tr th:only-of-type {\n",
       "        vertical-align: middle;\n",
       "    }\n",
       "\n",
       "    .dataframe tbody tr th {\n",
       "        vertical-align: top;\n",
       "    }\n",
       "\n",
       "    .dataframe thead th {\n",
       "        text-align: right;\n",
       "    }\n",
       "</style>\n",
       "<table border=\"1\" class=\"dataframe\">\n",
       "  <thead>\n",
       "    <tr style=\"text-align: right;\">\n",
       "      <th></th>\n",
       "      <th>idx</th>\n",
       "      <th>class</th>\n",
       "      <th>conversation</th>\n",
       "    </tr>\n",
       "  </thead>\n",
       "  <tbody>\n",
       "    <tr>\n",
       "      <th>0</th>\n",
       "      <td>3748</td>\n",
       "      <td>직장 내 괴롭힘 대화</td>\n",
       "      <td>지은씨 커피 좀 사와요.\\n그건 싫어요.\\n사오라면 사와야지 인턴주제.\\n그러니까요...</td>\n",
       "    </tr>\n",
       "    <tr>\n",
       "      <th>1</th>\n",
       "      <td>3149</td>\n",
       "      <td>직장 내 괴롭힘 대화</td>\n",
       "      <td>자 점심식사들 합시다\\n 와 점심시간이다. 과장님 밥 어디서 먹죠 오늘은?\\n 대리...</td>\n",
       "    </tr>\n",
       "    <tr>\n",
       "      <th>2</th>\n",
       "      <td>1866</td>\n",
       "      <td>협박 대화</td>\n",
       "      <td>어이 이쁜이 시간이 지났는데 약속을 안지키네\\n네.엄마가 아프셔서.\\n그래 엄마가 ...</td>\n",
       "    </tr>\n",
       "    <tr>\n",
       "      <th>3</th>\n",
       "      <td>1493</td>\n",
       "      <td>기타 괴롭힘 대화</td>\n",
       "      <td>우리 귀여운 철수야 여기 돈 줄테니까 핫도그랑 콜라좀 사다줄래? 남은 돈은 너 가져...</td>\n",
       "    </tr>\n",
       "    <tr>\n",
       "      <th>4</th>\n",
       "      <td>366</td>\n",
       "      <td>직장 내 괴롭힘 대화</td>\n",
       "      <td>어이 김대리\\n예 이부장님\\n오늘 하라고 했던 서류 정리 다 끝냈어?\\n아.그게 아...</td>\n",
       "    </tr>\n",
       "  </tbody>\n",
       "</table>\n",
       "</div>"
      ],
      "text/plain": [
       "    idx        class                                       conversation\n",
       "0  3748  직장 내 괴롭힘 대화  지은씨 커피 좀 사와요.\\n그건 싫어요.\\n사오라면 사와야지 인턴주제.\\n그러니까요...\n",
       "1  3149  직장 내 괴롭힘 대화  자 점심식사들 합시다\\n 와 점심시간이다. 과장님 밥 어디서 먹죠 오늘은?\\n 대리...\n",
       "2  1866        협박 대화  어이 이쁜이 시간이 지났는데 약속을 안지키네\\n네.엄마가 아프셔서.\\n그래 엄마가 ...\n",
       "3  1493    기타 괴롭힘 대화  우리 귀여운 철수야 여기 돈 줄테니까 핫도그랑 콜라좀 사다줄래? 남은 돈은 너 가져...\n",
       "4   366  직장 내 괴롭힘 대화  어이 김대리\\n예 이부장님\\n오늘 하라고 했던 서류 정리 다 끝냈어?\\n아.그게 아..."
      ]
     },
     "execution_count": 24,
     "metadata": {},
     "output_type": "execute_result"
    }
   ],
   "source": [
    "orig_train_path =\"../data/raw_csv/train_no_dup.csv\"\n",
    "orig_train = pd.read_csv(orig_train_path)\n",
    "orig_train.head()"
   ]
  },
  {
   "cell_type": "code",
   "execution_count": 25,
   "id": "9c86498f",
   "metadata": {},
   "outputs": [
    {
     "name": "stdout",
     "output_type": "stream",
     "text": [
      "기타 괴롭힘 대화      1011\n",
      "갈취 대화           973\n",
      "직장 내 괴롭힘 대화     970\n",
      "협박 대화           892\n",
      "Name: class, dtype: int64\n"
     ]
    },
    {
     "data": {
      "text/plain": [
       "(3846, 3)"
      ]
     },
     "execution_count": 25,
     "metadata": {},
     "output_type": "execute_result"
    }
   ],
   "source": [
    "class_counts = orig_train['class'].value_counts()\n",
    "\n",
    "print(class_counts)\n",
    "\n",
    "orig_train.shape"
   ]
  },
  {
   "cell_type": "code",
   "execution_count": 26,
   "id": "8e932f51",
   "metadata": {},
   "outputs": [
    {
     "data": {
      "text/html": [
       "<div>\n",
       "<style scoped>\n",
       "    .dataframe tbody tr th:only-of-type {\n",
       "        vertical-align: middle;\n",
       "    }\n",
       "\n",
       "    .dataframe tbody tr th {\n",
       "        vertical-align: top;\n",
       "    }\n",
       "\n",
       "    .dataframe thead th {\n",
       "        text-align: right;\n",
       "    }\n",
       "</style>\n",
       "<table border=\"1\" class=\"dataframe\">\n",
       "  <thead>\n",
       "    <tr style=\"text-align: right;\">\n",
       "      <th></th>\n",
       "      <th>idx</th>\n",
       "      <th>class</th>\n",
       "      <th>conversation</th>\n",
       "    </tr>\n",
       "  </thead>\n",
       "  <tbody>\n",
       "    <tr>\n",
       "      <th>0</th>\n",
       "      <td>4001</td>\n",
       "      <td>일반 대화</td>\n",
       "      <td>집에서 자주 만드는 음식 있어?\\n응, 김치찌개 자주 만들어.\\n오, 김치찌개! 어...</td>\n",
       "    </tr>\n",
       "    <tr>\n",
       "      <th>1</th>\n",
       "      <td>4002</td>\n",
       "      <td>일반 대화</td>\n",
       "      <td>너는 어떤 장르 좋아해?\\n나는 록 음악을 좋아해.\\n오, 록! 그럼 Queen 좋...</td>\n",
       "    </tr>\n",
       "    <tr>\n",
       "      <th>2</th>\n",
       "      <td>4003</td>\n",
       "      <td>일반 대화</td>\n",
       "      <td>오늘 점심 뭐 먹을까요?\\n저는 김밥 먹고 싶은데, 다른 사람들은 어떻게 생각해요?...</td>\n",
       "    </tr>\n",
       "    <tr>\n",
       "      <th>3</th>\n",
       "      <td>4004</td>\n",
       "      <td>일반 대화</td>\n",
       "      <td>과제 다 했어?\\n아직이야. 너무 많아.\\n나도 겨우 끝냈어.\\n우리 같이 도서관 갈래?</td>\n",
       "    </tr>\n",
       "    <tr>\n",
       "      <th>4</th>\n",
       "      <td>4005</td>\n",
       "      <td>일반 대화</td>\n",
       "      <td>이 장난감은 여러 가지 색상 중에서 선택할 수 있나요?\\n네, 다양한 색상이 있어서...</td>\n",
       "    </tr>\n",
       "  </tbody>\n",
       "</table>\n",
       "</div>"
      ],
      "text/plain": [
       "    idx  class                                       conversation\n",
       "0  4001  일반 대화  집에서 자주 만드는 음식 있어?\\n응, 김치찌개 자주 만들어.\\n오, 김치찌개! 어...\n",
       "1  4002  일반 대화  너는 어떤 장르 좋아해?\\n나는 록 음악을 좋아해.\\n오, 록! 그럼 Queen 좋...\n",
       "2  4003  일반 대화  오늘 점심 뭐 먹을까요?\\n저는 김밥 먹고 싶은데, 다른 사람들은 어떻게 생각해요?...\n",
       "3  4004  일반 대화  과제 다 했어?\\n아직이야. 너무 많아.\\n나도 겨우 끝냈어.\\n우리 같이 도서관 갈래?\n",
       "4  4005  일반 대화  이 장난감은 여러 가지 색상 중에서 선택할 수 있나요?\\n네, 다양한 색상이 있어서..."
      ]
     },
     "execution_count": 26,
     "metadata": {},
     "output_type": "execute_result"
    }
   ],
   "source": [
    "# 일반 대화\n",
    "normal_data_path =\"../data/raw_csv/conversation_normal.csv\"\n",
    "normal_data = pd.read_csv(normal_data_path)\n",
    "normal_data.head()"
   ]
  },
  {
   "cell_type": "code",
   "execution_count": 27,
   "id": "a7099fa8",
   "metadata": {},
   "outputs": [
    {
     "data": {
      "text/plain": [
       "(932, 3)"
      ]
     },
     "execution_count": 27,
     "metadata": {},
     "output_type": "execute_result"
    }
   ],
   "source": [
    "normal_data.shape"
   ]
  },
  {
   "cell_type": "markdown",
   "id": "6c566765",
   "metadata": {},
   "source": [
    "### 2. 일반 대화 중복 데이타와 null 데이타 확인"
   ]
  },
  {
   "cell_type": "code",
   "execution_count": 28,
   "id": "cfb51f54",
   "metadata": {},
   "outputs": [
    {
     "name": "stdout",
     "output_type": "stream",
     "text": [
      "normal_data의 전체 샘플수 : 932\n",
      "normal_data의 conversation 열에서 중복을 배제한 유일한 샘플의 수 : 791\n",
      "normal_data의 중복제거 샘플수 : 141\n",
      "idx             0\n",
      "class           0\n",
      "conversation    0\n",
      "dtype: int64\n"
     ]
    }
   ],
   "source": [
    "print('normal_data의 전체 샘플수 :', (len(normal_data)))\n",
    "print('normal_data의 conversation 열에서 중복을 배제한 유일한 샘플의 수 :', normal_data['conversation'].nunique())\n",
    "print('normal_data의 중복제거 샘플수 :',(len(normal_data) - normal_data['conversation'].nunique()) )\n",
    "print(normal_data.isnull().sum())"
   ]
  },
  {
   "cell_type": "code",
   "execution_count": 29,
   "id": "dd52ffba",
   "metadata": {},
   "outputs": [
    {
     "name": "stdout",
     "output_type": "stream",
     "text": [
      "normal_data의 중복 제거한 전체 샘플수 : 791\n"
     ]
    }
   ],
   "source": [
    "normal_data.drop_duplicates(subset = ['conversation'], inplace=True)\n",
    "print('normal_data의 중복 제거한 전체 샘플수 :', (len(normal_data)))"
   ]
  },
  {
   "cell_type": "markdown",
   "id": "a8a67972",
   "metadata": {},
   "source": [
    "### 3. Original Train과 일반대화 데이타 merge"
   ]
  },
  {
   "cell_type": "code",
   "execution_count": 30,
   "id": "dc553514",
   "metadata": {},
   "outputs": [],
   "source": [
    "train_data = pd.concat([orig_train, normal_data], ignore_index=True)\n"
   ]
  },
  {
   "cell_type": "code",
   "execution_count": 31,
   "id": "4d35af8c",
   "metadata": {},
   "outputs": [],
   "source": [
    "train_data = train_data.sample(frac=1).reset_index(drop=True)"
   ]
  },
  {
   "cell_type": "code",
   "execution_count": 32,
   "id": "74c7bb64",
   "metadata": {},
   "outputs": [
    {
     "name": "stdout",
     "output_type": "stream",
     "text": [
      "기타 괴롭힘 대화      1011\n",
      "갈취 대화           973\n",
      "직장 내 괴롭힘 대화     970\n",
      "협박 대화           892\n",
      "일반 대화           791\n",
      "Name: class, dtype: int64\n"
     ]
    }
   ],
   "source": [
    "class_counts = train_data['class'].value_counts()\n",
    "\n",
    "print(class_counts)"
   ]
  },
  {
   "cell_type": "code",
   "execution_count": 33,
   "id": "419993e6",
   "metadata": {},
   "outputs": [
    {
     "data": {
      "text/html": [
       "<div>\n",
       "<style scoped>\n",
       "    .dataframe tbody tr th:only-of-type {\n",
       "        vertical-align: middle;\n",
       "    }\n",
       "\n",
       "    .dataframe tbody tr th {\n",
       "        vertical-align: top;\n",
       "    }\n",
       "\n",
       "    .dataframe thead th {\n",
       "        text-align: right;\n",
       "    }\n",
       "</style>\n",
       "<table border=\"1\" class=\"dataframe\">\n",
       "  <thead>\n",
       "    <tr style=\"text-align: right;\">\n",
       "      <th></th>\n",
       "      <th>idx</th>\n",
       "      <th>class</th>\n",
       "      <th>conversation</th>\n",
       "    </tr>\n",
       "  </thead>\n",
       "  <tbody>\n",
       "    <tr>\n",
       "      <th>3</th>\n",
       "      <td>4999</td>\n",
       "      <td>일반 대화</td>\n",
       "      <td>저녁 식사 뭐 먹을래?\\n다음에 같이 가자. 내 말은, 요즘 교통 관련해서 뭐 재밌...</td>\n",
       "    </tr>\n",
       "    <tr>\n",
       "      <th>12</th>\n",
       "      <td>4987</td>\n",
       "      <td>일반 대화</td>\n",
       "      <td>오랜만이다 잘 지냈어?\\n커피 한잔할래?\\n점심 뭐 먹었어?\\n다음에 같이 가자.\\...</td>\n",
       "    </tr>\n",
       "    <tr>\n",
       "      <th>22</th>\n",
       "      <td>4111</td>\n",
       "      <td>일반 대화</td>\n",
       "      <td>오늘 운동했어?\\n응, 아침에 헬스 다녀왔어.\\n부지런하다! 무슨 운동했어?\\n웨이...</td>\n",
       "    </tr>\n",
       "  </tbody>\n",
       "</table>\n",
       "</div>"
      ],
      "text/plain": [
       "     idx  class                                       conversation\n",
       "3   4999  일반 대화  저녁 식사 뭐 먹을래?\\n다음에 같이 가자. 내 말은, 요즘 교통 관련해서 뭐 재밌...\n",
       "12  4987  일반 대화  오랜만이다 잘 지냈어?\\n커피 한잔할래?\\n점심 뭐 먹었어?\\n다음에 같이 가자.\\...\n",
       "22  4111  일반 대화  오늘 운동했어?\\n응, 아침에 헬스 다녀왔어.\\n부지런하다! 무슨 운동했어?\\n웨이..."
      ]
     },
     "execution_count": 33,
     "metadata": {},
     "output_type": "execute_result"
    }
   ],
   "source": [
    "train_data[train_data['class']=='일반 대화'][:3]"
   ]
  },
  {
   "cell_type": "markdown",
   "id": "01a5d344",
   "metadata": {},
   "source": [
    "#### 4. merged_train 데이타 csv 파일로 저장\n",
    "\n",
    "- ../data/raw_csv/merged_train.csv"
   ]
  },
  {
   "cell_type": "code",
   "execution_count": 38,
   "id": "758e905d",
   "metadata": {},
   "outputs": [],
   "source": [
    "train_data.to_csv('../data/raw_csv/merged_train.csv', index=False, encoding='utf-8-sig')  # index=False는 인덱스를 저장하지 않도록 함"
   ]
  },
  {
   "cell_type": "code",
   "execution_count": 39,
   "id": "05f00292",
   "metadata": {},
   "outputs": [
    {
     "data": {
      "text/html": [
       "<div>\n",
       "<style scoped>\n",
       "    .dataframe tbody tr th:only-of-type {\n",
       "        vertical-align: middle;\n",
       "    }\n",
       "\n",
       "    .dataframe tbody tr th {\n",
       "        vertical-align: top;\n",
       "    }\n",
       "\n",
       "    .dataframe thead th {\n",
       "        text-align: right;\n",
       "    }\n",
       "</style>\n",
       "<table border=\"1\" class=\"dataframe\">\n",
       "  <thead>\n",
       "    <tr style=\"text-align: right;\">\n",
       "      <th></th>\n",
       "      <th>idx</th>\n",
       "      <th>class</th>\n",
       "      <th>conversation</th>\n",
       "    </tr>\n",
       "  </thead>\n",
       "  <tbody>\n",
       "    <tr>\n",
       "      <th>0</th>\n",
       "      <td>1001</td>\n",
       "      <td>기타 괴롭힘 대화</td>\n",
       "      <td>얘들아. 선생님이 다음 수업은 실습실에서 한데.\\n 야 어제 그거 개웃기지 않았냐?...</td>\n",
       "    </tr>\n",
       "    <tr>\n",
       "      <th>1</th>\n",
       "      <td>1252</td>\n",
       "      <td>직장 내 괴롭힘 대화</td>\n",
       "      <td>그 건설프로젝트 관련한 실험건 다 끝내서 보고서 작성까지 완료 하였습니다.\\n아 그...</td>\n",
       "    </tr>\n",
       "    <tr>\n",
       "      <th>2</th>\n",
       "      <td>834</td>\n",
       "      <td>기타 괴롭힘 대화</td>\n",
       "      <td>너 치마 샀어?\\n응응 이쁘지\\n응 치마는 이쁘긴한데 \\n뭐랄까 종아리 알 때문에 ...</td>\n",
       "    </tr>\n",
       "    <tr>\n",
       "      <th>3</th>\n",
       "      <td>4999</td>\n",
       "      <td>일반 대화</td>\n",
       "      <td>저녁 식사 뭐 먹을래?\\n다음에 같이 가자. 내 말은, 요즘 교통 관련해서 뭐 재밌...</td>\n",
       "    </tr>\n",
       "    <tr>\n",
       "      <th>4</th>\n",
       "      <td>1852</td>\n",
       "      <td>갈취 대화</td>\n",
       "      <td>저기 학생 잠시만\\n네\\n미안한데 내가 지갑을 잃어버려서 그런데 집에갈 차비가없어서...</td>\n",
       "    </tr>\n",
       "  </tbody>\n",
       "</table>\n",
       "</div>"
      ],
      "text/plain": [
       "    idx        class                                       conversation\n",
       "0  1001    기타 괴롭힘 대화  얘들아. 선생님이 다음 수업은 실습실에서 한데.\\n 야 어제 그거 개웃기지 않았냐?...\n",
       "1  1252  직장 내 괴롭힘 대화  그 건설프로젝트 관련한 실험건 다 끝내서 보고서 작성까지 완료 하였습니다.\\n아 그...\n",
       "2   834    기타 괴롭힘 대화  너 치마 샀어?\\n응응 이쁘지\\n응 치마는 이쁘긴한데 \\n뭐랄까 종아리 알 때문에 ...\n",
       "3  4999        일반 대화  저녁 식사 뭐 먹을래?\\n다음에 같이 가자. 내 말은, 요즘 교통 관련해서 뭐 재밌...\n",
       "4  1852        갈취 대화  저기 학생 잠시만\\n네\\n미안한데 내가 지갑을 잃어버려서 그런데 집에갈 차비가없어서..."
      ]
     },
     "execution_count": 39,
     "metadata": {},
     "output_type": "execute_result"
    }
   ],
   "source": [
    "train_data_path =\"../data/raw_csv/merged_train.csv\"\n",
    "train_data = pd.read_csv(train_data_path)\n",
    "train_data.head()"
   ]
  },
  {
   "cell_type": "code",
   "execution_count": 40,
   "id": "2f1b51f3",
   "metadata": {},
   "outputs": [
    {
     "data": {
      "text/plain": [
       "(4637, 3)"
      ]
     },
     "execution_count": 40,
     "metadata": {},
     "output_type": "execute_result"
    }
   ],
   "source": [
    "train_data.shape"
   ]
  }
 ],
 "metadata": {
  "kernelspec": {
   "display_name": "Python 3 (ipykernel)",
   "language": "python",
   "name": "python3"
  },
  "language_info": {
   "codemirror_mode": {
    "name": "ipython",
    "version": 3
   },
   "file_extension": ".py",
   "mimetype": "text/x-python",
   "name": "python",
   "nbconvert_exporter": "python",
   "pygments_lexer": "ipython3",
   "version": "3.9.7"
  }
 },
 "nbformat": 4,
 "nbformat_minor": 5
}
