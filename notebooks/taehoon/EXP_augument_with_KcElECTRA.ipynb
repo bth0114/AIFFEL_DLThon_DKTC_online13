{
  "cells": [
    {
      "cell_type": "markdown",
      "metadata": {
        "id": "view-in-github",
        "colab_type": "text"
      },
      "source": [
        "<a href=\"https://colab.research.google.com/github/bth0114/AIFFEL_DLThon_DKTC_online13/blob/main/notebooks/taehoon/EXP_augument_with_KcElECTRA.ipynb\" target=\"_parent\"><img src=\"https://colab.research.google.com/assets/colab-badge.svg\" alt=\"Open In Colab\"/></a>"
      ]
    },
    {
      "cell_type": "code",
      "execution_count": 1,
      "metadata": {
        "colab": {
          "base_uri": "https://localhost:8080/"
        },
        "id": "Sij6aU4WYRgT",
        "outputId": "b76502db-9526-46df-9a8d-8dfe6f8683bd"
      },
      "outputs": [
        {
          "output_type": "stream",
          "name": "stdout",
          "text": [
            "Collecting konlpy\n",
            "  Downloading konlpy-0.6.0-py2.py3-none-any.whl.metadata (1.9 kB)\n",
            "Collecting JPype1>=0.7.0 (from konlpy)\n",
            "  Downloading jpype1-1.5.2-cp311-cp311-manylinux_2_17_x86_64.manylinux2014_x86_64.whl.metadata (4.9 kB)\n",
            "Requirement already satisfied: lxml>=4.1.0 in /usr/local/lib/python3.11/dist-packages (from konlpy) (5.4.0)\n",
            "Requirement already satisfied: numpy>=1.6 in /usr/local/lib/python3.11/dist-packages (from konlpy) (2.0.2)\n",
            "Requirement already satisfied: packaging in /usr/local/lib/python3.11/dist-packages (from JPype1>=0.7.0->konlpy) (24.2)\n",
            "Downloading konlpy-0.6.0-py2.py3-none-any.whl (19.4 MB)\n",
            "\u001b[2K   \u001b[90m━━━━━━━━━━━━━━━━━━━━━━━━━━━━━━━━━━━━━━━━\u001b[0m \u001b[32m19.4/19.4 MB\u001b[0m \u001b[31m22.4 MB/s\u001b[0m eta \u001b[36m0:00:00\u001b[0m\n",
            "\u001b[?25hDownloading jpype1-1.5.2-cp311-cp311-manylinux_2_17_x86_64.manylinux2014_x86_64.whl (494 kB)\n",
            "\u001b[2K   \u001b[90m━━━━━━━━━━━━━━━━━━━━━━━━━━━━━━━━━━━━━━━━\u001b[0m \u001b[32m494.1/494.1 kB\u001b[0m \u001b[31m24.1 MB/s\u001b[0m eta \u001b[36m0:00:00\u001b[0m\n",
            "\u001b[?25hInstalling collected packages: JPype1, konlpy\n",
            "Successfully installed JPype1-1.5.2 konlpy-0.6.0\n",
            "Requirement already satisfied: wandb in /usr/local/lib/python3.11/dist-packages (0.19.10)\n",
            "Requirement already satisfied: click!=8.0.0,>=7.1 in /usr/local/lib/python3.11/dist-packages (from wandb) (8.1.8)\n",
            "Requirement already satisfied: docker-pycreds>=0.4.0 in /usr/local/lib/python3.11/dist-packages (from wandb) (0.4.0)\n",
            "Requirement already satisfied: gitpython!=3.1.29,>=1.0.0 in /usr/local/lib/python3.11/dist-packages (from wandb) (3.1.44)\n",
            "Requirement already satisfied: platformdirs in /usr/local/lib/python3.11/dist-packages (from wandb) (4.3.7)\n",
            "Requirement already satisfied: protobuf!=4.21.0,!=5.28.0,<7,>=3.19.0 in /usr/local/lib/python3.11/dist-packages (from wandb) (5.29.4)\n",
            "Requirement already satisfied: psutil>=5.0.0 in /usr/local/lib/python3.11/dist-packages (from wandb) (5.9.5)\n",
            "Requirement already satisfied: pydantic<3 in /usr/local/lib/python3.11/dist-packages (from wandb) (2.11.3)\n",
            "Requirement already satisfied: pyyaml in /usr/local/lib/python3.11/dist-packages (from wandb) (6.0.2)\n",
            "Requirement already satisfied: requests<3,>=2.0.0 in /usr/local/lib/python3.11/dist-packages (from wandb) (2.32.3)\n",
            "Requirement already satisfied: sentry-sdk>=2.0.0 in /usr/local/lib/python3.11/dist-packages (from wandb) (2.27.0)\n",
            "Requirement already satisfied: setproctitle in /usr/local/lib/python3.11/dist-packages (from wandb) (1.3.6)\n",
            "Requirement already satisfied: setuptools in /usr/local/lib/python3.11/dist-packages (from wandb) (75.2.0)\n",
            "Requirement already satisfied: typing-extensions<5,>=4.4 in /usr/local/lib/python3.11/dist-packages (from wandb) (4.13.2)\n",
            "Requirement already satisfied: six>=1.4.0 in /usr/local/lib/python3.11/dist-packages (from docker-pycreds>=0.4.0->wandb) (1.17.0)\n",
            "Requirement already satisfied: gitdb<5,>=4.0.1 in /usr/local/lib/python3.11/dist-packages (from gitpython!=3.1.29,>=1.0.0->wandb) (4.0.12)\n",
            "Requirement already satisfied: annotated-types>=0.6.0 in /usr/local/lib/python3.11/dist-packages (from pydantic<3->wandb) (0.7.0)\n",
            "Requirement already satisfied: pydantic-core==2.33.1 in /usr/local/lib/python3.11/dist-packages (from pydantic<3->wandb) (2.33.1)\n",
            "Requirement already satisfied: typing-inspection>=0.4.0 in /usr/local/lib/python3.11/dist-packages (from pydantic<3->wandb) (0.4.0)\n",
            "Requirement already satisfied: charset-normalizer<4,>=2 in /usr/local/lib/python3.11/dist-packages (from requests<3,>=2.0.0->wandb) (3.4.1)\n",
            "Requirement already satisfied: idna<4,>=2.5 in /usr/local/lib/python3.11/dist-packages (from requests<3,>=2.0.0->wandb) (3.10)\n",
            "Requirement already satisfied: urllib3<3,>=1.21.1 in /usr/local/lib/python3.11/dist-packages (from requests<3,>=2.0.0->wandb) (2.4.0)\n",
            "Requirement already satisfied: certifi>=2017.4.17 in /usr/local/lib/python3.11/dist-packages (from requests<3,>=2.0.0->wandb) (2025.4.26)\n",
            "Requirement already satisfied: smmap<6,>=3.0.1 in /usr/local/lib/python3.11/dist-packages (from gitdb<5,>=4.0.1->gitpython!=3.1.29,>=1.0.0->wandb) (5.0.2)\n"
          ]
        }
      ],
      "source": [
        "!pip install konlpy\n",
        "!pip install wandb"
      ]
    },
    {
      "cell_type": "markdown",
      "metadata": {
        "id": "eKrL-oLPu9VM"
      },
      "source": [
        "## 모듈 불러오기 및 파일 경로 지정"
      ]
    },
    {
      "cell_type": "code",
      "execution_count": 2,
      "metadata": {
        "colab": {
          "base_uri": "https://localhost:8080/",
          "height": 220
        },
        "id": "nAh48fLLYY1_",
        "outputId": "ecfce9ac-92bf-40e4-82a3-b03a92019e20"
      },
      "outputs": [
        {
          "output_type": "display_data",
          "data": {
            "text/plain": [
              "<IPython.core.display.Javascript object>"
            ],
            "application/javascript": [
              "\n",
              "        window._wandbApiKey = new Promise((resolve, reject) => {\n",
              "            function loadScript(url) {\n",
              "            return new Promise(function(resolve, reject) {\n",
              "                let newScript = document.createElement(\"script\");\n",
              "                newScript.onerror = reject;\n",
              "                newScript.onload = resolve;\n",
              "                document.body.appendChild(newScript);\n",
              "                newScript.src = url;\n",
              "            });\n",
              "            }\n",
              "            loadScript(\"https://cdn.jsdelivr.net/npm/postmate/build/postmate.min.js\").then(() => {\n",
              "            const iframe = document.createElement('iframe')\n",
              "            iframe.style.cssText = \"width:0;height:0;border:none\"\n",
              "            document.body.appendChild(iframe)\n",
              "            const handshake = new Postmate({\n",
              "                container: iframe,\n",
              "                url: 'https://wandb.ai/authorize'\n",
              "            });\n",
              "            const timeout = setTimeout(() => reject(\"Couldn't auto authenticate\"), 5000)\n",
              "            handshake.then(function(child) {\n",
              "                child.on('authorize', data => {\n",
              "                    clearTimeout(timeout)\n",
              "                    resolve(data)\n",
              "                });\n",
              "            });\n",
              "            })\n",
              "        });\n",
              "    "
            ]
          },
          "metadata": {}
        },
        {
          "output_type": "stream",
          "name": "stderr",
          "text": [
            "\u001b[34m\u001b[1mwandb\u001b[0m: Logging into wandb.ai. (Learn how to deploy a W&B server locally: https://wandb.me/wandb-server)\n",
            "\u001b[34m\u001b[1mwandb\u001b[0m: You can find your API key in your browser here: https://wandb.ai/authorize\n",
            "wandb: Paste an API key from your profile and hit enter:"
          ]
        },
        {
          "name": "stdout",
          "output_type": "stream",
          "text": [
            " ··········\n"
          ]
        },
        {
          "output_type": "stream",
          "name": "stderr",
          "text": [
            "\u001b[34m\u001b[1mwandb\u001b[0m: \u001b[33mWARNING\u001b[0m If you're specifying your api key in code, ensure this code is not shared publicly.\n",
            "\u001b[34m\u001b[1mwandb\u001b[0m: \u001b[33mWARNING\u001b[0m Consider setting the WANDB_API_KEY environment variable, or running `wandb login` from the command line.\n",
            "\u001b[34m\u001b[1mwandb\u001b[0m: No netrc file found, creating one.\n",
            "\u001b[34m\u001b[1mwandb\u001b[0m: Appending key for api.wandb.ai to your netrc file: /root/.netrc\n",
            "\u001b[34m\u001b[1mwandb\u001b[0m: W&B API key is configured. Use \u001b[1m`wandb login --relogin`\u001b[0m to force relogin\n"
          ]
        },
        {
          "output_type": "execute_result",
          "data": {
            "text/plain": [
              "True"
            ]
          },
          "metadata": {},
          "execution_count": 2
        }
      ],
      "source": [
        "import os\n",
        "import re\n",
        "import pandas as pd\n",
        "import numpy as np\n",
        "import tensorflow as tf\n",
        "import matplotlib.pyplot as plt\n",
        "from konlpy.tag import Okt\n",
        "from sklearn.model_selection import train_test_split\n",
        "from sklearn.metrics import classification_report, confusion_matrix\n",
        "from keras.callbacks import ModelCheckpoint, EarlyStopping\n",
        "from tensorflow.keras.preprocessing.text import Tokenizer\n",
        "from tensorflow.keras.preprocessing.sequence import pad_sequences\n",
        "\n",
        "\n",
        "import wandb\n",
        "from wandb.integration.keras.callbacks import WandbMetricsLogger\n",
        "wandb.login()"
      ]
    },
    {
      "cell_type": "code",
      "execution_count": 3,
      "metadata": {
        "colab": {
          "base_uri": "https://localhost:8080/"
        },
        "id": "HnXFLuo6YhbQ",
        "outputId": "2098f22f-ecff-429f-87ac-1ed5bf6c8b5d"
      },
      "outputs": [
        {
          "output_type": "stream",
          "name": "stdout",
          "text": [
            "--2025-05-04 01:38:49--  https://raw.githubusercontent.com/bth0114/AIFFEL_DLThon_DKTC_online13/main/data/raw_csv/merged_train.csv\n",
            "Resolving raw.githubusercontent.com (raw.githubusercontent.com)... 185.199.111.133, 185.199.109.133, 185.199.110.133, ...\n",
            "Connecting to raw.githubusercontent.com (raw.githubusercontent.com)|185.199.111.133|:443... connected.\n",
            "HTTP request sent, awaiting response... 200 OK\n",
            "Length: 2547026 (2.4M) [application/octet-stream]\n",
            "Saving to: ‘data/raw_csv/merged_train.csv’\n",
            "\n",
            "data/raw_csv/merged 100%[===================>]   2.43M  --.-KB/s    in 0.01s   \n",
            "\n",
            "2025-05-04 01:38:50 (228 MB/s) - ‘data/raw_csv/merged_train.csv’ saved [2547026/2547026]\n",
            "\n",
            "샘플 5개:\n",
            "    idx      class                                       conversation\n",
            "0  1516      갈취 대화  어이 가방 좋은데!?\\n네!? 왜 그러시죠\\n아니 우리가 밥을 굶어서 편의점 라면이...\n",
            "1  5078      일반 대화  요즘 읽고 있는 책 있어?\\n그거 좋은 생각이야.\\n좋은 시간 보냈네.\\n조언 고마...\n",
            "2   350      협박 대화  간도 커 어딜 튀려고 !\\n아니 미주엄마 내가 딱 일주일만 더 쓰고 주려고 했는데 ...\n",
            "3  3247  기타 괴롭힘 대화  야 너 뭐하냐\\n공부해\\n뭔공부\\n토익공부\\n그런다고 점수 올릴 수 있겠니?\\n왜 ...\n",
            "4  3511      협박 대화  아저씨 제발 살려주세요. 칼만 좀 내려놔주시면.\\n소리내지마. 소리 내면 찌른다.\\...\n"
          ]
        }
      ],
      "source": [
        "#  GitHub에서 CSV 파일 다운로드\n",
        "!mkdir -p data/raw_csv\n",
        "!wget https://raw.githubusercontent.com/bth0114/AIFFEL_DLThon_DKTC_online13/main/data/raw_csv/merged_train.csv -O data/raw_csv/merged_train.csv\n",
        "\n",
        "#  현재 디렉토리 기준 경로 설정\n",
        "current_dir = os.getcwd()\n",
        "csv_dir = os.path.join(current_dir, 'data', 'raw_csv')\n",
        "train_csv_path = os.path.join(csv_dir, 'merged_train.csv')\n",
        "\n",
        "#  데이터 로드 테스트\n",
        "df = pd.read_csv(train_csv_path)\n",
        "print(\"샘플 5개:\")\n",
        "print(df.head())"
      ]
    },
    {
      "cell_type": "markdown",
      "metadata": {
        "id": "5PzzyCv8vEyZ"
      },
      "source": [
        "## 데이터 전처리\n",
        "- 구두점 제거\n",
        "- 명사, 동사, 형용사, 부사, 숫자를 기준으로 토큰화\n",
        "- 최대 길이를 기준으로 패딩"
      ]
    },
    {
      "cell_type": "code",
      "execution_count": 4,
      "metadata": {
        "id": "TsBzlokSt8v5"
      },
      "outputs": [],
      "source": [
        "INPUT_MAX_LENGTH = 350  # 입력 시퀀스 최대 길이\n",
        "NUM_WORDS = 7000 # 토큰화에 사용할 단어 갯수\n",
        "EMBEDDING_DIM = 64  # 임베딩 차원"
      ]
    },
    {
      "cell_type": "code",
      "execution_count": 33,
      "metadata": {
        "id": "7aEdMfUDYsMK"
      },
      "outputs": [],
      "source": [
        "df = pd.read_csv(train_csv_path)\n",
        "ordered_columns = ['협박 대화', '갈취 대화', '직장 내 괴롭힘 대화', '기타 괴롭힘 대화', '일반 대화'] # kaggle에 명시된 순서로 재배치\n",
        "\n",
        "conversations = df['conversation'].to_list() # input\n",
        "labels = pd.get_dummies(df['class'])\n",
        "labels = labels[ordered_columns].to_numpy() # target"
      ]
    },
    {
      "cell_type": "code",
      "execution_count": 34,
      "metadata": {
        "id": "1faoibs5mVwI"
      },
      "outputs": [],
      "source": [
        "from sklearn.model_selection import train_test_split\n",
        "from sklearn.preprocessing import LabelEncoder\n",
        "\n",
        "#학습 데이터 경로\n",
        "train_paths = {\n",
        "    \"conversations_aihub\": \"https://raw.githubusercontent.com/bth0114/AIFFEL_DLThon_DKTC_online13/main/data/raw_csv/conversations_aihub.csv\",\n",
        "    \"merged_train\": \"https://raw.githubusercontent.com/bth0114/AIFFEL_DLThon_DKTC_online13/main/data/raw_csv/merged_train.csv\",\n",
        "    \"merged_train_train\": \"https://raw.githubusercontent.com/bth0114/AIFFEL_DLThon_DKTC_online13/main/data/raw_csv/merged_train_train.csv\",\n",
        "    \"merged_train_val\": \"https://raw.githubusercontent.com/bth0114/AIFFEL_DLThon_DKTC_online13/main/data/raw_csv/merged_train_val.csv\",\n",
        "    \"aug_synonym_train_only\" : \"https://raw.githubusercontent.com/bth0114/AIFFEL_DLThon_DKTC_online13/main/data/aug_csv/aug_synonym_train_only.csv\",\n",
        "    \"aug_KoEDA_train_only\":\"https://raw.githubusercontent.com/bth0114/AIFFEL_DLThon_DKTC_online13/main/data/aug_csv/aug_KoEDA_train_only.csv\",\n",
        "    \"aug_plus\": \"https://raw.githubusercontent.com/bth0114/AIFFEL_DLThon_DKTC_online13/main/data/aug_csv/aug_plus_train.csv\",\n",
        "    \"aug_synonym\": \"https://raw.githubusercontent.com/bth0114/AIFFEL_DLThon_DKTC_online13/main/data/aug_csv/aug_synonym_train_only.csv\",\n",
        "    \"eda_only\": \"https://raw.githubusercontent.com/bth0114/AIFFEL_DLThon_DKTC_online13/main/data/aug_csv/eda_only.csv\",\n",
        "    \"final_allclass\": \"https://raw.githubusercontent.com/bth0114/AIFFEL_DLThon_DKTC_online13/main/data/aug_csv/final_train_allclass_eda.csv\"\n",
        "}\n",
        "\n",
        "# 제출용 test 데이터 경로\n",
        "test_url = \"https://raw.githubusercontent.com/bth0114/AIFFEL_DLThon_DKTC_online13/main/data/raw_csv/test.csv\""
      ]
    },
    {
      "cell_type": "code",
      "execution_count": 35,
      "metadata": {
        "id": "eI_gAWkM8LVd"
      },
      "outputs": [],
      "source": [
        "# 1. 데이터 불러오기\n",
        "df_merged_train_train = pd.read_csv(train_paths[\"merged_train_train\"])\n",
        "df_merged_train_val = pd.read_csv(train_paths[\"merged_train_val\"])\n",
        "df_conversations_aihub = pd.read_csv(train_paths[\"conversations_aihub\"])\n",
        "df_syn = pd.read_csv(train_paths[\"aug_synonym\"])\n",
        "df_eda = pd.read_csv(train_paths[\"eda_only\"])\n",
        "df_syn_only = pd.read_csv(train_paths[\"aug_synonym_train_only\"])\n",
        "df_eda_only = pd.read_csv(train_paths[\"aug_KoEDA_train_only\"])"
      ]
    },
    {
      "cell_type": "code",
      "execution_count": 36,
      "metadata": {
        "id": "bpcMNNWN8LVe"
      },
      "outputs": [],
      "source": [
        "# 2. 라벨 인코딩\n",
        "\n",
        "# 원하는 정수 순서 지정\n",
        "custom_label_order = {\n",
        "    '협박 대화': 0,\n",
        "    '갈취 대화': 1,\n",
        "    '직장 내 괴롭힘 대화': 2,\n",
        "    '기타 괴롭힘 대화': 3,\n",
        "    '일반 대화': 4\n",
        "}\n",
        "\n",
        "# 원-핫이 아니라 문자열 클래스인 경우 바로 정수로 변환\n",
        "y_train_int = df_merged_train_train['class'].map(custom_label_order).values\n",
        "y_val_int = df_merged_train_val['class'].map(custom_label_order).values"
      ]
    },
    {
      "cell_type": "code",
      "execution_count": 37,
      "metadata": {
        "id": "4YFn6jo48LVf"
      },
      "outputs": [],
      "source": [
        "#label_names = ['협박 대화', '갈취 대화', '직장 내 괴롭힘 대화', '기타 괴롭힘 대화', '일반 대화']\n",
        "#le = LabelEncoder()\n",
        "#le.fit(label_names)\n",
        "#y_train_int = np.argmax(y_train, axis=1)  # 기존 y_train이 one-hot일 경우"
      ]
    },
    {
      "cell_type": "code",
      "execution_count": 38,
      "metadata": {
        "id": "aiiDyiMk8LVf"
      },
      "outputs": [],
      "source": [
        "# 훈련셋,검증셋 분리\n",
        "\n",
        "# 1. 입력 텍스트\n",
        "X_train_raw = df_merged_train_train[\"conversation\"]\n",
        "X_val_raw = df_merged_train_val[\"conversation\"]\n",
        "\n",
        "# 2. 클래스 → 정수 인코딩\n",
        "y_train = df_merged_train_train[\"class\"].map(custom_label_order).values\n",
        "y_val = df_merged_train_val[\"class\"].map(custom_label_order).values"
      ]
    },
    {
      "cell_type": "code",
      "execution_count": 39,
      "metadata": {
        "colab": {
          "base_uri": "https://localhost:8080/"
        },
        "outputId": "b6163f9d-efbe-4e06-f339-e78a3a1dd470",
        "id": "kmfnedIi8LVf"
      },
      "outputs": [
        {
          "output_type": "stream",
          "name": "stdout",
          "text": [
            "샘플 수\n",
            "X1: 3709, X2: 10032, X3: 9861, X4: 16184\n"
          ]
        }
      ],
      "source": [
        "# 증강 데이터 라벨 인코딩\n",
        "X_syn_only = df_syn_only['conversation'].tolist()\n",
        "y_syn_only = df_syn_only['class'].map(custom_label_order).values\n",
        "\n",
        "X_eda_only = df_eda_only['conversation'].tolist()\n",
        "y_eda_only = df_eda_only['class'].map(custom_label_order).values\n",
        "\n",
        "# 조합 생성\n",
        "X1 = X_train_raw.tolist()\n",
        "y1 = y_train_int\n",
        "\n",
        "X2 = X1 + X_syn_only\n",
        "y2 = np.concatenate([y_train, y_syn_only])\n",
        "\n",
        "X3 = X1 + X_eda_only\n",
        "y3 = np.concatenate([y_train, y_eda_only])\n",
        "\n",
        "X4 = X1 + X_syn_only + X_eda_only\n",
        "y4 = np.concatenate([y_train, y_syn_only, y_eda_only])\n",
        "\n",
        "# 예시 확인\n",
        "print(f\"샘플 수\\nX1: {len(X1)}, X2: {len(X2)}, X3: {len(X3)}, X4: {len(X4)}\")"
      ]
    },
    {
      "cell_type": "code",
      "execution_count": 40,
      "metadata": {
        "id": "_jXXWoW-m0xg"
      },
      "outputs": [],
      "source": [
        "def preprocessing(texts, tokenizer, padded_max_len):\n",
        "    encodings = tokenizer(\n",
        "        texts,\n",
        "        truncation=True,\n",
        "        padding='max_length',\n",
        "        max_length=padded_max_len,\n",
        "        return_tensors='tf'\n",
        "    )\n",
        "    return {\n",
        "        'input_ids': encodings['input_ids'],\n",
        "        'attention_mask': encodings['attention_mask']\n",
        "    }\n",
        "\n",
        "\n",
        "from tensorflow.keras.utils import to_categorical\n",
        "\n",
        "X1_enc = preprocessing(X1, tokenizer, padded_max_len=128)\n",
        "X2_enc = preprocessing(X2, tokenizer, padded_max_len=128)\n",
        "X3_enc = preprocessing(X3, tokenizer, padded_max_len=128)\n",
        "X4_enc = preprocessing(X4, tokenizer, padded_max_len=128)\n",
        "\n",
        "\n",
        "\n",
        "\n",
        "y1_cat = to_categorical(y1, num_classes=5)\n",
        "y2_cat = to_categorical(y2, num_classes=5)\n",
        "y3_cat = to_categorical(y3, num_classes=5)\n",
        "y4_cat = to_categorical(y4, num_classes=5)\n",
        "\n",
        "#  검증셋 전처리 추가\n",
        "X_val_enc = preprocessing(X_val_raw.tolist(), tokenizer, padded_max_len=128)\n",
        "\n",
        "#  검증 라벨도 one-hot 인코딩\n",
        "y_val_cat = to_categorical(y_val, num_classes=5)"
      ]
    },
    {
      "cell_type": "markdown",
      "metadata": {
        "id": "udtQix8gwiMX"
      },
      "source": [
        "## 모델 훈련\n",
        "- KcELECTRA 모델 사용\n",
        "- 각 데이터셋별로 모델을 학습\n",
        "- F1score를 기준으로 조기종료 수행\n",
        "- 데이터 셋이 적어 여러번 반복 훈련하여 평균을 내면 더욱 정확한 베이스 모델을 구축할 수 있지만 시간과 한정된 자원 상 한 번의 학습만 진행\n",
        "- 실험결과는 W&B에 기록"
      ]
    },
    {
      "cell_type": "code",
      "source": [
        "!pip install datasets transformers scikit-learn --quiet\n",
        "\n",
        "import pandas as pd\n",
        "import numpy as np\n",
        "import torch\n",
        "from datasets import Dataset\n",
        "from transformers import (\n",
        "    AutoTokenizer,\n",
        "    AutoModelForSequenceClassification,\n",
        "    ElectraForSequenceClassification,\n",
        "    Trainer,\n",
        "    TrainingArguments,\n",
        "    DataCollatorWithPadding\n",
        ")\n",
        "from sklearn.metrics import accuracy_score,classification_report, f1_score\n",
        "\n",
        "# 모델 설정 (성능 좋은 버전)\n",
        "MODEL_NAME = \"beomi/KcELECTRA-base-v2022\"\n",
        "tokenizer = AutoTokenizer.from_pretrained(MODEL_NAME)\n",
        "device = torch.device(\"cuda\" if torch.cuda.is_available() else \"cpu\")\n",
        "model = ElectraForSequenceClassification.from_pretrained(MODEL_NAME, num_labels=5).to(device)\n",
        "\n",
        "# 학습 데이터 전처리\n",
        "def preprocess_train(df):\n",
        "    df.columns = df.columns.str.strip().str.lower()\n",
        "    df[\"label\"] = df[\"class\"].map(custom_label_order)\n",
        "    df = df.rename(columns={\"conversation\": \"text\"})\n",
        "    return Dataset.from_pandas(df)\n",
        "\n",
        "#  테스트 데이터 전처리 (라벨 없음)\n",
        "def preprocess_test(df):\n",
        "    df.columns = df.columns.str.strip().str.lower()\n",
        "    df = df.rename(columns={\"conversation\": \"text\"})\n",
        "    return Dataset.from_pandas(df)\n",
        "\n",
        "# 토크나이징 함수\n",
        "def tokenize_function(examples):\n",
        "    return tokenizer(\n",
        "        examples[\"text\"],\n",
        "        padding=\"max_length\",\n",
        "        truncation=True,\n",
        "        max_length=128\n",
        "    )\n",
        "\n",
        "# 평가 함수 (정확도 + F1)\n",
        "def compute_metrics(pred):\n",
        "    preds = np.argmax(pred.predictions, axis=1)\n",
        "    labels = pred.label_ids\n",
        "    acc = accuracy_score(labels, preds)\n",
        "    f1 = f1_score(labels, preds, average=\"weighted\")\n",
        "    return {\"accuracy\": acc, \"f1\": f1}"
      ],
      "metadata": {
        "colab": {
          "base_uri": "https://localhost:8080/"
        },
        "id": "CvyWjjQg_fpM",
        "outputId": "c3364c88-defd-4c04-e082-07d96c2233d4"
      },
      "execution_count": 41,
      "outputs": [
        {
          "output_type": "stream",
          "name": "stderr",
          "text": [
            "Some weights of ElectraForSequenceClassification were not initialized from the model checkpoint at beomi/KcELECTRA-base-v2022 and are newly initialized: ['classifier.dense.bias', 'classifier.dense.weight', 'classifier.out_proj.bias', 'classifier.out_proj.weight']\n",
            "You should probably TRAIN this model on a down-stream task to be able to use it for predictions and inference.\n"
          ]
        }
      ]
    },
    {
      "cell_type": "code",
      "execution_count": null,
      "metadata": {
        "colab": {
          "base_uri": "https://localhost:8080/",
          "height": 847,
          "referenced_widgets": [
            "41d7bedea67640a2be4a0b91e52d802f",
            "b3914dfa3f364dffbbcb2ac84a9248cd",
            "a51fea1ed74340449b579474f4278cda",
            "d945ebab38d4404e86b37cfce5d763d8",
            "4e17774cf865462389eec9aac42a50b6",
            "a395c9882ffb4fa488eaf5d472f46b0e",
            "7a97804f69f74e258df40d9d01f7a46b",
            "e727ae462dae4a94a2ef8c08ad4b34f3",
            "69425b4e591e4c5c9996f0e5d15b4718",
            "9e33728e77294bb3833336c53e940467",
            "0728307b191549e195657c59596b2d2e",
            "ee959c7a0d014b96b6586dd9a59ce787",
            "40a17431d1364fd988e720b59de8b23e",
            "49ba21c9604b46e08ed2a9660986b5a0",
            "f0e3d757f8c244f187a6b72e76535185",
            "863e01007d8b4b93a7d4d1a644fd2f27",
            "2eac9168ea3243319175838fdedef907",
            "68c92e7661f84b38ada48b1a7808f1c2",
            "6b7535e0ca92418abd83deed43af271e",
            "58ac77aa1ac94eabab01066615aa9bd7",
            "c593fc6aefab4ada9dbeb36bc299fc40",
            "462498b68aef4fc293ea580e05b2efe1",
            "beee8966857b46a58b0daeeccdaef9c6",
            "62c5a184a9c64e25b3b8756423df7aa7",
            "8d165a35921842ffaf58c8f73584cabd",
            "42a562fe81874a9691860b98991c2986",
            "a6d336fe26a141bdb670a278cee7a089",
            "860e7103ace94d50be41ef331c8aeadf",
            "66520c0284324c81837c1e4fe2103611",
            "428edf6076b843a6acbc9d95c1d558da",
            "fc8c501d3c964fe09bbb66877fcc48b4",
            "a19d685ecdef44e293d5d0118bc2b2a9",
            "2f57bd9a3418428582858ecf07e51ebe",
            "730a20028b0e48b980c2bcc771803e44",
            "e845555a12e14f67afc57389463aa659",
            "8e013df3af714fc08b1f46a23bd7184e",
            "1c2ae1feb8bc4a088406253669930d30",
            "a3bf195078e743d1b923d2b94d7d348d",
            "3db7d644f65a445280c80022050bedbc",
            "395122439a2445dd9538e4b56f0fe90a",
            "c645ac473d8c46f7bd3c055df5d41fc3",
            "9374f105c694408b9fda24eb7bcc8cd6",
            "283a0c1f30fd441ea2e7258886fe1b9a",
            "4f97825cd16b469daea8b3b4d6a2ed4f"
          ]
        },
        "id": "IXqckvErpkFI",
        "outputId": "1efd3ac0-1613-41c3-de36-e2a336e27ebf"
      },
      "outputs": [
        {
          "output_type": "stream",
          "name": "stdout",
          "text": [
            "\n",
            "▶ 모델 1: 원본\n"
          ]
        },
        {
          "output_type": "display_data",
          "data": {
            "text/plain": [
              "Map:   0%|          | 0/3338 [00:00<?, ? examples/s]"
            ],
            "application/vnd.jupyter.widget-view+json": {
              "version_major": 2,
              "version_minor": 0,
              "model_id": "41d7bedea67640a2be4a0b91e52d802f"
            }
          },
          "metadata": {}
        },
        {
          "output_type": "display_data",
          "data": {
            "text/plain": [
              "Map:   0%|          | 0/928 [00:00<?, ? examples/s]"
            ],
            "application/vnd.jupyter.widget-view+json": {
              "version_major": 2,
              "version_minor": 0,
              "model_id": "ee959c7a0d014b96b6586dd9a59ce787"
            }
          },
          "metadata": {}
        },
        {
          "output_type": "stream",
          "name": "stderr",
          "text": [
            "Some weights of ElectraForSequenceClassification were not initialized from the model checkpoint at beomi/KcELECTRA-base-v2022 and are newly initialized: ['classifier.dense.bias', 'classifier.dense.weight', 'classifier.out_proj.bias', 'classifier.out_proj.weight']\n",
            "You should probably TRAIN this model on a down-stream task to be able to use it for predictions and inference.\n",
            "<ipython-input-46-fe5cdcdbf92e>:38: FutureWarning: `tokenizer` is deprecated and will be removed in version 5.0.0 for `Trainer.__init__`. Use `processing_class` instead.\n",
            "  trainer = Trainer(\n",
            "\u001b[34m\u001b[1mwandb\u001b[0m: \u001b[33mWARNING\u001b[0m The `run_name` is currently set to the same value as `TrainingArguments.output_dir`. If this was not intended, please specify a different run name by setting the `TrainingArguments.run_name` parameter.\n",
            "\u001b[34m\u001b[1mwandb\u001b[0m: Currently logged in as: \u001b[33mbth0114\u001b[0m (\u001b[33mjiwoong-team\u001b[0m) to \u001b[32mhttps://api.wandb.ai\u001b[0m. Use \u001b[1m`wandb login --relogin`\u001b[0m to force relogin\n"
          ]
        },
        {
          "output_type": "display_data",
          "data": {
            "text/plain": [
              "<IPython.core.display.HTML object>"
            ],
            "text/html": [
              "Tracking run with wandb version 0.19.10"
            ]
          },
          "metadata": {}
        },
        {
          "output_type": "display_data",
          "data": {
            "text/plain": [
              "<IPython.core.display.HTML object>"
            ],
            "text/html": [
              "Run data is saved locally in <code>/content/wandb/run-20250504_024824-q6qdcof6</code>"
            ]
          },
          "metadata": {}
        },
        {
          "output_type": "display_data",
          "data": {
            "text/plain": [
              "<IPython.core.display.HTML object>"
            ],
            "text/html": [
              "Syncing run <strong><a href='https://wandb.ai/jiwoong-team/huggingface/runs/q6qdcof6' target=\"_blank\">./results/model_1</a></strong> to <a href='https://wandb.ai/jiwoong-team/huggingface' target=\"_blank\">Weights & Biases</a> (<a href='https://wandb.me/developer-guide' target=\"_blank\">docs</a>)<br>"
            ]
          },
          "metadata": {}
        },
        {
          "output_type": "display_data",
          "data": {
            "text/plain": [
              "<IPython.core.display.HTML object>"
            ],
            "text/html": [
              " View project at <a href='https://wandb.ai/jiwoong-team/huggingface' target=\"_blank\">https://wandb.ai/jiwoong-team/huggingface</a>"
            ]
          },
          "metadata": {}
        },
        {
          "output_type": "display_data",
          "data": {
            "text/plain": [
              "<IPython.core.display.HTML object>"
            ],
            "text/html": [
              " View run at <a href='https://wandb.ai/jiwoong-team/huggingface/runs/q6qdcof6' target=\"_blank\">https://wandb.ai/jiwoong-team/huggingface/runs/q6qdcof6</a>"
            ]
          },
          "metadata": {}
        },
        {
          "output_type": "display_data",
          "data": {
            "text/plain": [
              "<IPython.core.display.HTML object>"
            ],
            "text/html": [
              "\n",
              "    <div>\n",
              "      \n",
              "      <progress value='1045' max='1045' style='width:300px; height:20px; vertical-align: middle;'></progress>\n",
              "      [1045/1045 07:33, Epoch 5/5]\n",
              "    </div>\n",
              "    <table border=\"1\" class=\"dataframe\">\n",
              "  <thead>\n",
              " <tr style=\"text-align: left;\">\n",
              "      <th>Step</th>\n",
              "      <th>Training Loss</th>\n",
              "    </tr>\n",
              "  </thead>\n",
              "  <tbody>\n",
              "    <tr>\n",
              "      <td>500</td>\n",
              "      <td>0.408800</td>\n",
              "    </tr>\n",
              "    <tr>\n",
              "      <td>1000</td>\n",
              "      <td>0.061400</td>\n",
              "    </tr>\n",
              "  </tbody>\n",
              "</table><p>"
            ]
          },
          "metadata": {}
        },
        {
          "output_type": "stream",
          "name": "stdout",
          "text": [
            "\n",
            "▶ 모델 2: 원본+Synonym\n"
          ]
        },
        {
          "output_type": "display_data",
          "data": {
            "text/plain": [
              "Map:   0%|          | 0/9028 [00:00<?, ? examples/s]"
            ],
            "application/vnd.jupyter.widget-view+json": {
              "version_major": 2,
              "version_minor": 0,
              "model_id": "beee8966857b46a58b0daeeccdaef9c6"
            }
          },
          "metadata": {}
        },
        {
          "output_type": "display_data",
          "data": {
            "text/plain": [
              "Map:   0%|          | 0/928 [00:00<?, ? examples/s]"
            ],
            "application/vnd.jupyter.widget-view+json": {
              "version_major": 2,
              "version_minor": 0,
              "model_id": "730a20028b0e48b980c2bcc771803e44"
            }
          },
          "metadata": {}
        },
        {
          "output_type": "stream",
          "name": "stderr",
          "text": [
            "Some weights of ElectraForSequenceClassification were not initialized from the model checkpoint at beomi/KcELECTRA-base-v2022 and are newly initialized: ['classifier.dense.bias', 'classifier.dense.weight', 'classifier.out_proj.bias', 'classifier.out_proj.weight']\n",
            "You should probably TRAIN this model on a down-stream task to be able to use it for predictions and inference.\n",
            "<ipython-input-46-fe5cdcdbf92e>:38: FutureWarning: `tokenizer` is deprecated and will be removed in version 5.0.0 for `Trainer.__init__`. Use `processing_class` instead.\n",
            "  trainer = Trainer(\n"
          ]
        },
        {
          "output_type": "display_data",
          "data": {
            "text/plain": [
              "<IPython.core.display.HTML object>"
            ],
            "text/html": [
              "\n",
              "    <div>\n",
              "      \n",
              "      <progress value='2538' max='2825' style='width:300px; height:20px; vertical-align: middle;'></progress>\n",
              "      [2538/2825 20:17 < 02:17, 2.08 it/s, Epoch 4.49/5]\n",
              "    </div>\n",
              "    <table border=\"1\" class=\"dataframe\">\n",
              "  <thead>\n",
              " <tr style=\"text-align: left;\">\n",
              "      <th>Step</th>\n",
              "      <th>Training Loss</th>\n",
              "    </tr>\n",
              "  </thead>\n",
              "  <tbody>\n",
              "    <tr>\n",
              "      <td>500</td>\n",
              "      <td>0.441900</td>\n",
              "    </tr>\n",
              "    <tr>\n",
              "      <td>1000</td>\n",
              "      <td>0.094000</td>\n",
              "    </tr>\n",
              "    <tr>\n",
              "      <td>1500</td>\n",
              "      <td>0.035300</td>\n",
              "    </tr>\n",
              "    <tr>\n",
              "      <td>2000</td>\n",
              "      <td>0.011400</td>\n",
              "    </tr>\n",
              "    <tr>\n",
              "      <td>2500</td>\n",
              "      <td>0.003600</td>\n",
              "    </tr>\n",
              "  </tbody>\n",
              "</table><p>"
            ]
          },
          "metadata": {}
        }
      ],
      "source": [
        "from transformers import TrainingArguments, Trainer\n",
        "from sklearn.model_selection import train_test_split\n",
        "\n",
        "dataset_names = [\"원본\", \"원본+Synonym\", \"원본+EDA\", \"원본+Syn+EDA\"]\n",
        "X_list = [X1, X2, X3, X4]\n",
        "y_list = [y1, y2, y3, y4]\n",
        "\n",
        "data_collator = DataCollatorWithPadding(tokenizer=tokenizer)\n",
        "\n",
        "for i, (X, y, name) in enumerate(zip(X_list, y_list, dataset_names), 1):\n",
        "    print(f\"\\n▶ 모델 {i}: {name}\")\n",
        "\n",
        "    # ⛳ 여기가 핵심! X, y를 train/val로 분리\n",
        "    X_train_split, _, y_train_split, _ = train_test_split(\n",
        "        X, y, test_size=0.1, stratify=y, random_state=42\n",
        "    )\n",
        "\n",
        "    # 공통 검증셋은 y_val, X_val_raw 그대로 사용\n",
        "    train_df = pd.DataFrame({\"text\": X_train_split, \"label\": y_train_split})\n",
        "    val_df = pd.DataFrame({\"text\": X_val_raw.tolist(), \"label\": y_val})  # 여기서 val은 고정\n",
        "\n",
        "    # Hugging Face Dataset + Tokenize\n",
        "    train_dataset = Dataset.from_pandas(train_df).map(tokenize_function, batched=True)\n",
        "    val_dataset = Dataset.from_pandas(val_df).map(tokenize_function, batched=True)\n",
        "\n",
        "    model = ElectraForSequenceClassification.from_pretrained(MODEL_NAME, num_labels=5).to(device)\n",
        "\n",
        "    training_args = TrainingArguments(\n",
        "        output_dir=f\"./results/model_{i}\",\n",
        "        num_train_epochs=5,\n",
        "        per_device_train_batch_size=16,\n",
        "        per_device_eval_batch_size=16,\n",
        "        learning_rate=3e-5,\n",
        "        weight_decay=0.01,\n",
        "        logging_dir=f\"./results/logs_{i}\",\n",
        "        logging_steps=500\n",
        "    )\n",
        "    trainer = Trainer(\n",
        "        model=model,\n",
        "        args=training_args,\n",
        "        train_dataset=train_dataset,\n",
        "        eval_dataset=val_dataset,\n",
        "        tokenizer=tokenizer,\n",
        "        data_collator=data_collator,\n",
        "        compute_metrics=compute_metrics\n",
        "    )\n",
        "\n",
        "    trainer.train()\n"
      ]
    },
    {
      "cell_type": "code",
      "source": [
        "from sklearn.metrics import classification_report\n",
        "\n",
        "# 검증셋을 한 번만 준비\n",
        "val_df = pd.DataFrame({\"text\": X_val_raw.tolist(), \"label\": y_val})\n",
        "val_dataset = Dataset.from_pandas(val_df).map(tokenize_function, batched=True)\n",
        "\n",
        "print(\"\\n 모델별 검증 성능 비교\")\n",
        "for i, name in enumerate(dataset_names, 1):\n",
        "    print(f\"\\n 모델 {i}: {name}\")\n",
        "\n",
        "    # 학습된 모델 불러오기\n",
        "    model_path = f\"./results/model_{i}\"\n",
        "    model = ElectraForSequenceClassification.from_pretrained(model_path).to(device)\n",
        "\n",
        "    # 평가용 trainer (학습 없이 예측만)\n",
        "    trainer = Trainer(\n",
        "        model=model,\n",
        "        tokenizer=tokenizer,\n",
        "        compute_metrics=compute_metrics\n",
        "    )\n",
        "\n",
        "    # 예측 수행\n",
        "    preds = trainer.predict(val_dataset)\n",
        "    y_pred = np.argmax(preds.predictions, axis=1)\n",
        "\n",
        "    # 평가 결과 출력\n",
        "    report = classification_report(y_val, y_pred, target_names=list(custom_label_order.keys()))\n",
        "    print(report)\n"
      ],
      "metadata": {
        "id": "1qFzdYgsQx9o"
      },
      "execution_count": null,
      "outputs": []
    },
    {
      "cell_type": "code",
      "execution_count": null,
      "metadata": {
        "id": "-oGB19Nl-qk4"
      },
      "outputs": [],
      "source": [
        "from wandb.integration.keras import WandbCallback\n",
        "from sklearn.metrics import classification_report\n",
        "from tensorflow.keras.callbacks import EarlyStopping, ModelCheckpoint\n",
        "\n",
        "#  공통 함수 정의\n",
        "def log_model_to_wandb(model, run_name, notes, X_train, y_train, X_val, y_val, ordered_columns):\n",
        "    import wandb\n",
        "    from sklearn.metrics import classification_report\n",
        "\n",
        "\n",
        "    run = wandb.init(\n",
        "    entity=\"jiwoong-team\",\n",
        "    project=\"DLThon-DKTC\",\n",
        "    name=run_name,\n",
        "    notes=notes,\n",
        "    config=dict(\n",
        "        architecture=\"KcELECTRA\",\n",
        "        input_length=128,\n",
        "        epochs=10,\n",
        "        batch_size=32\n",
        "    ),\n",
        "    reinit=True,\n",
        "    settings=wandb.Settings(_disable_stats=True)\n",
        "    )\n",
        "\n",
        "\n",
        "    #  예측 결과 평가\n",
        "    y_pred = model.predict(X_val)\n",
        "    y_pred_labels = np.argmax(y_pred, axis=1)\n",
        "    y_true_labels = np.argmax(y_val, axis=1)\n",
        "\n",
        "    #  classification report 테이블 생성\n",
        "    report = classification_report(y_true_labels, y_pred_labels, target_names=ordered_columns, output_dict=True)\n",
        "    columns = [\"class\", \"precision\", \"recall\", \"f1-score\", \"support\"]\n",
        "    data = []\n",
        "    for label, metrics in report.items():\n",
        "        if isinstance(metrics, dict):\n",
        "            row = [label] + [metrics.get(col, None) for col in columns[1:]]\n",
        "            data.append(row)\n",
        "\n",
        "    table = wandb.Table(columns=columns, data=data)\n",
        "\n",
        "    wandb.log({\n",
        "    \"macro_f1\": float(report[\"macro avg\"][\"f1-score\"]),\n",
        "    \"accuracy\": float(report[\"accuracy\"]),\n",
        "    \"threat_f1\": float(report[\"협박 대화\"][\"f1-score\"]),\n",
        "    \"extortion_f1\": float(report[\"갈취 대화\"][\"f1-score\"]),\n",
        "    \"workplace_bullying_f1\": float(report[\"직장 내 괴롭힘 대화\"][\"f1-score\"]),\n",
        "    \"other_bullying_f1\": float(report[\"기타 괴롭힘 대화\"][\"f1-score\"]),\n",
        "    \"general_conversation_f1\": float(report[\"일반 대화\"][\"f1-score\"]),\n",
        "    })\n",
        "\n",
        "\n",
        "    run.finish()\n"
      ]
    },
    {
      "cell_type": "code",
      "execution_count": null,
      "metadata": {
        "id": "eODXxfet-wsY"
      },
      "outputs": [],
      "source": [
        "# 모델 1: 원본 데이터만\n",
        "log_model_to_wandb(\n",
        "    model1,\n",
        "    run_name=\"KcELECTRA_original_only\",\n",
        "    notes=\"원본 데이터만 사용\",\n",
        "    X_train=X1_enc, y_train=y1_cat,\n",
        "    X_val=X_val_enc, y_val=y_val,\n",
        "    ordered_columns=ordered_columns\n",
        ")\n",
        "\n",
        "# 모델 2: 원본 + Synonym\n",
        "log_model_to_wandb(\n",
        "    model2,\n",
        "    run_name=\"KcELECTRA_synonym\",\n",
        "    notes=\"원본 + Synonym 증강\",\n",
        "    X_train=X2_enc, y_train=y2_cat,\n",
        "    X_val=X_val_enc, y_val=y_val,\n",
        "    ordered_columns=ordered_columns\n",
        ")\n",
        "# 모델 3: 원본 + EDA\n",
        "log_model_to_wandb(\n",
        "    model3,\n",
        "    run_name=\"KcELECTRA_eda\",\n",
        "    notes=\"원본 + EDA 증강\",\n",
        "    X_train=X3_enc, y_train=y3_cat,\n",
        "    X_val=X_val_enc, y_val=y_val,\n",
        "    ordered_columns=ordered_columns\n",
        ")\n",
        "\n",
        "# 모델 4: 원본 + Synonym + EDA\n",
        "log_model_to_wandb(\n",
        "    model4,\n",
        "    run_name=\"KcELECTRA_synonym_eda\",\n",
        "    notes=\"원본 + Synonym + EDA 증강\",\n",
        "    X_train=X4_enc, y_train=y4_cat,\n",
        "    X_val=X_val_enc, y_val=y_val,\n",
        "    ordered_columns=ordered_columns\n",
        ")\n"
      ]
    },
    {
      "cell_type": "code",
      "execution_count": null,
      "metadata": {
        "id": "h2kAgqP-Cay4"
      },
      "outputs": [],
      "source": []
    },
    {
      "cell_type": "markdown",
      "metadata": {
        "id": "NbLq-ODhbQoX"
      },
      "source": [
        "## 결과 분석"
      ]
    },
    {
      "cell_type": "code",
      "execution_count": null,
      "metadata": {
        "id": "733LJ-jWlGTf"
      },
      "outputs": [],
      "source": [
        "y_pred = model.predict(X_val)\n",
        "y_pred_labels = np.argmax(y_pred, axis=1)\n",
        "y_true_labels = np.argmax(y_val, axis=1)\n",
        "\n",
        "print(confusion_matrix(y_true_labels, y_pred_labels))\n",
        "print(classification_report(y_true_labels, y_pred_labels, target_names=ordered_columns))"
      ]
    },
    {
      "cell_type": "markdown",
      "metadata": {
        "id": "Gas62-yDx_0v"
      },
      "source": [
        "+ 데이터 EDA 때 예상한 대로 일반대화에 많이 과적합되었으며 직장 내 괴롭힘 대화는 점수가 높음\n",
        "+ 나머지 세 카테고리에 대해서는 아쉬운 성능"
      ]
    },
    {
      "cell_type": "markdown",
      "metadata": {
        "id": "thsc6jZXxs3n"
      },
      "source": [
        "## submission"
      ]
    },
    {
      "cell_type": "code",
      "execution_count": null,
      "metadata": {
        "id": "q8BooiWkqQo-"
      },
      "outputs": [],
      "source": [
        "test_csv_path = os.path.join(csv_dir, 'test.csv')\n",
        "\n",
        "df_test = pd.read_csv(test_csv_path)\n",
        "conversations_test = df_test['text'].to_list()\n",
        "\n",
        "X_text = preprocessing(conversations_test, tokenizer, INPUT_MAX_LENGTH)"
      ]
    },
    {
      "cell_type": "code",
      "execution_count": null,
      "metadata": {
        "id": "stpbVdpdqRrQ"
      },
      "outputs": [],
      "source": [
        "# 모델 예측 (Softmax를 사용하여 각 클래스에 대한 확률 계산)\n",
        "predictions = model.predict(X_text)\n",
        "\n",
        "# 예측 결과를 클래스 인덱스로 변환\n",
        "predicted_classes = predictions.argmax(axis=1)"
      ]
    },
    {
      "cell_type": "code",
      "execution_count": null,
      "metadata": {
        "id": "n5UOlYGkqrOz"
      },
      "outputs": [],
      "source": [
        "# id와 예측된 클래스 저장\n",
        "submission_df = pd.DataFrame({\n",
        "    'idx': df_test['idx'],\n",
        "    'class': predicted_classes\n",
        "})\n",
        "\n",
        "display(submission_df)\n",
        "\n",
        "# submission.csv로 저장\n",
        "submission_df.to_csv('/content/submission.csv', index=False)"
      ]
    },
    {
      "cell_type": "markdown",
      "metadata": {
        "id": "Z4vV00lOze8e"
      },
      "source": [
        "## 제출 결과"
      ]
    },
    {
      "cell_type": "markdown",
      "metadata": {
        "id": "tLk6kYwuzdlD"
      },
      "source": [
        "![image.png](data:image/png;base64,iVBORw0KGgoAAAANSUhEUgAACQoAAACoCAYAAACiq0HdAAAMTGlDQ1BJQ0MgUHJvZmlsZQAASImVVwdYU1cbPndkQggQiICMsJcgIiOAjBBWANlbVEISIIwYE4KKGylWsG4RwVHRKoiCowJSXKhVK0Vx7+JARanFWtzKf0IALf3H83/Pc+5973u+857v++654wBA7+JLpbmoJgB5knxZTLA/Kyk5hUXqATjQBgigAge+QC7lREWFA2jD57/b62vQE9plB6XWP/v/q2kJRXIBAEgUxOlCuSAP4h8BwFsFUlk+AEQp5M1n5UuVeB3EOjIYIMQ1Spypwq1KnK7CFwd94mK4ED8CgKzO58syAdDogzyrQJAJdegwW+AkEYolEPtB7JOXN0MI8SKIbaAPnJOu1Genf6WT+TfN9BFNPj9zBKtyGTRygFguzeXP+T/L8b8tL1cxPIc1bOpZspAYZc6wbo9yZoQpsTrEbyXpEZEQawOA4mLhoL8SM7MUIfEqf9RGIOfCmgEmxJPkubG8IT5GyA8Ig9gQ4gxJbkT4kE9RhjhI6QPrh1aI83lxEOtBXCOSB8YO+RyXzYgZnvdahozLGeKf8mWDMSj1Pyty4jkqfUw7S8Qb0sccC7PiEiGmQhxQIE6IgFgD4gh5TmzYkE9qYRY3YthHpohR5mIBsUwkCfZX6WPlGbKgmCH/3Xny4dyx41liXsQQvpSfFReiqhX2SMAfjB/mgvWJJJz4YR2RPCl8OBehKCBQlTtOFkniY1U8rifN949RjcXtpLlRQ/64vyg3WMmbQRwnL4gdHluQDxenSh8vkeZHxanixCuz+aFRqnjwfSAccEEAYAEFbOlgBsgG4o7epl54peoJAnwgA5lABByGmOERiYM9EniMBYXgd4hEQD4yzn+wVwQKIP9pFKvkxCOc6ugAMob6lCo54DHEeSAM5MJrxaCSZCSCBPAIMuJ/RMSHTQBzyIVN2f/v+WH2C8OBTPgQoxiekUUf9iQGEgOIIcQgoi1ugPvgXng4PPrB5oyzcY/hPL74Ex4TOgkPCFcJXYSb08VFslFRTgZdUD9oqD7pX9cHt4Karrg/7g3VoTLOxA2AA+4C5+HgvnBmV8hyh+JWVoU1SvtvGXx1h4b8KE4UlDKG4kexGT1Sw07DdURFWeuv66OKNX2k3tyRntHzc7+qvhCew0Z7Yt9iB7Ez2AnsHNaKNQEWdgxrxtqxI0o8suIeDa644dliBuPJgTqj18yXO6uspNypzqnH6aOqL180O1/5MHJnSOfIxJlZ+SwO/GKIWDyJwHEcy9nJ2RUA5fdH9Xp7FT34XUGY7V+4Jb8B4H1sYGDgpy9c6DEA9rvDV8LhL5wNG35a1AA4e1igkBWoOFx5IMA3Bx0+ffrAGJgDG5iPM3ADXsAPBIJQEAniQDKYBqPPgutcBmaBeWAxKAFlYBVYDyrBVrAd1IC94ABoAq3gBPgZnAcXwVVwG66ebvAc9IHX4AOCICSEhjAQfcQEsUTsEWeEjfgggUg4EoMkI2lIJiJBFMg8ZAlShqxBKpFtSC2yHzmMnEDOIZ3ITeQ+0oP8ibxHMVQd1UGNUCt0PMpGOWgYGodORTPRmWghWoyuQCvQanQP2oieQM+jV9Eu9DnajwFMDWNippgDxsa4WCSWgmVgMmwBVoqVY9VYPdYC7/NlrAvrxd7hRJyBs3AHuIJD8HhcgM/EF+DL8Uq8Bm/ET+GX8ft4H/6ZQCMYEuwJngQeIYmQSZhFKCGUE3YSDhFOw2epm/CaSCQyidZEd/gsJhOziXOJy4mbiQ3E48RO4kNiP4lE0ifZk7xJkSQ+KZ9UQtpI2kM6RrpE6ia9JauRTcjO5CByCllCLiKXk3eTj5IvkZ+QP1A0KZYUT0okRUiZQ1lJ2UFpoVygdFM+ULWo1lRvahw1m7qYWkGtp56m3qG+UlNTM1PzUItWE6stUqtQ26d2Vu2+2jt1bXU7da56qrpCfYX6LvXj6jfVX9FoNCuaHy2Flk9bQaulnaTdo73VYGg4avA0hBoLNao0GjUuabygU+iWdA59Gr2QXk4/SL9A79WkaFppcjX5mgs0qzQPa17X7NdiaE3QitTK01qutVvrnNZTbZK2lXagtlC7WHu79knthwyMYc7gMgSMJYwdjNOMbh2ijrUOTydbp0xnr06HTp+utq6LboLubN0q3SO6XUyMacXkMXOZK5kHmNeY78cYjeGMEY1ZNqZ+zKUxb/TG6vnpifRK9Rr0ruq912fpB+rn6K/Wb9K/a4Ab2BlEG8wy2GJw2qB3rM5Yr7GCsaVjD4y9ZYga2hnGGM413G7YbthvZGwUbCQ12mh00qjXmGnsZ5xtvM74qHGPCcPEx0Rsss7kmMkzli6Lw8plVbBOsfpMDU1DTBWm20w7TD+YWZvFmxWZNZjdNaeas80zzNeZt5n3WZhYTLaYZ1FnccuSYsm2zLLcYHnG8o2VtVWi1VKrJqun1nrWPOtC6zrrOzY0G1+bmTbVNldsibZs2xzbzbYX7VA7V7ssuyq7C/aovZu92H6zfec4wjiPcZJx1eOuO6g7cBwKHOoc7jsyHcMdixybHF+MtxifMn71+DPjPzu5OuU67XC6PUF7QuiEogktE/50tnMWOFc5X5lImxg0ceHE5okvXexdRC5bXG64Mlwnuy51bXP95ObuJnOrd+txt3BPc9/kfp2tw45iL2ef9SB4+Hss9Gj1eOfp5pnvecDzDy8Hrxyv3V5PJ1lPEk3aMemht5k333ubd5cPyyfN53ufLl9TX75vte8DP3M/od9OvyccW042Zw/nhb+Tv8z/kP8brid3Pvd4ABYQHFAa0BGoHRgfWBl4L8gsKDOoLqgv2DV4bvDxEEJIWMjqkOs8I56AV8vrC3UPnR96Kkw9LDasMuxBuF24LLxlMjo5dPLayXciLCMkEU2RIJIXuTbybpR11Myon6KJ0VHRVdGPYybEzIs5E8uInR67O/Z1nH/cyrjb8Tbxivi2BHpCakJtwpvEgMQ1iV1J45PmJ51PNkgWJzenkFISUnam9E8JnLJ+Sneqa2pJ6rWp1lNnTz03zWBa7rQj0+nT+dMPphHSEtN2p33kR/Kr+f3pvPRN6X0CrmCD4LnQT7hO2CPyFq0RPcnwzliT8TTTO3NtZk+Wb1Z5Vq+YK64Uv8wOyd6a/SYnMmdXzkBuYm5DHjkvLe+wRFuSIzk1w3jG7BmdUntpibRrpufM9TP7ZGGynXJEPlXenK8Df/TbFTaKbxT3C3wKqgrezkqYdXC21mzJ7PY5dnOWzXlSGFT4w1x8rmBu2zzTeYvn3Z/Pmb9tAbIgfUHbQvOFxQu7FwUvqllMXZyz+Ncip6I1RX8tSVzSUmxUvKj44TfB39SVaJTISq4v9Vq69Vv8W/G3HcsmLtu47HOpsPSXMqey8rKPywXLf/luwncV3w2syFjRsdJt5ZZVxFWSVddW+66uWaO1pnDNw7WT1zauY60rXffX+unrz5W7lG/dQN2g2NBVEV7RvNFi46qNHyuzKq9W+Vc1bDLctGzTm83CzZe2+G2p32q0tWzr++/F39/YFrytsdqqunw7cXvB9sc7Enac+YH9Q+1Og51lOz/tkuzqqompOVXrXlu723D3yjq0TlHXsyd1z8W9AXub6x3qtzUwG8r2gX2Kfc/2p+2/diDsQNtB9sH6Hy1/3HSIcai0EWmc09jXlNXU1Zzc3Hk49HBbi1fLoZ8cf9rVatpadUT3yMqj1KPFRweOFR7rPy493nsi88TDtultt08mnbxyKvpUx+mw02d/Dvr55BnOmWNnvc+2nvM8d/gX9i9N593ON7a7th/61fXXQx1uHY0X3C80X/S42NI5qfPoJd9LJy4HXP75Cu/K+asRVzuvxV+7cT31etcN4Y2nN3NvvrxVcOvD7UV3CHdK72reLb9neK/6N9vfGrrcuo7cD7jf/iD2we2HgofPH8kffewufkx7XP7E5EntU+enrT1BPRefTXnW/Vz6/ENvye9av296YfPixz/8/mjvS+rrfil7OfDn8lf6r3b95fJXW39U/73Xea8/vCl9q/+25h373Zn3ie+ffJj1kfSx4pPtp5bPYZ/vDOQNDEj5Mv7grwAGlFubDAD+3AUALRkABtw3Uqeo9oeDhqj2tIMI/Ces2kMOmhsA9fCfProX/t1cB2DfDgCsoD49FYAoGgBxHgCdOHGkDe/lBvedSiPCvcH3kZ/S89LBvzHVnvSruEefgVLVBYw+/wt3LYMBiU+UOQAAAJZlWElmTU0AKgAAAAgABQESAAMAAAABAAEAAAEaAAUAAAABAAAASgEbAAUAAAABAAAAUgEoAAMAAAABAAIAAIdpAAQAAAABAAAAWgAAAAAAAACQAAAAAQAAAJAAAAABAAOShgAHAAAAEgAAAISgAgAEAAAAAQAACQqgAwAEAAAAAQAAAKgAAAAAQVNDSUkAAABTY3JlZW5zaG90CUmQQwAAAAlwSFlzAAAWJQAAFiUBSVIk8AAAAtxpVFh0WE1MOmNvbS5hZG9iZS54bXAAAAAAADx4OnhtcG1ldGEgeG1sbnM6eD0iYWRvYmU6bnM6bWV0YS8iIHg6eG1wdGs9IlhNUCBDb3JlIDYuMC4wIj4KICAgPHJkZjpSREYgeG1sbnM6cmRmPSJodHRwOi8vd3d3LnczLm9yZy8xOTk5LzAyLzIyLXJkZi1zeW50YXgtbnMjIj4KICAgICAgPHJkZjpEZXNjcmlwdGlvbiByZGY6YWJvdXQ9IiIKICAgICAgICAgICAgeG1sbnM6ZXhpZj0iaHR0cDovL25zLmFkb2JlLmNvbS9leGlmLzEuMC8iCiAgICAgICAgICAgIHhtbG5zOnRpZmY9Imh0dHA6Ly9ucy5hZG9iZS5jb20vdGlmZi8xLjAvIj4KICAgICAgICAgPGV4aWY6VXNlckNvbW1lbnQ+U2NyZWVuc2hvdDwvZXhpZjpVc2VyQ29tbWVudD4KICAgICAgICAgPGV4aWY6UGl4ZWxYRGltZW5zaW9uPjIzMTQ8L2V4aWY6UGl4ZWxYRGltZW5zaW9uPgogICAgICAgICA8ZXhpZjpQaXhlbFlEaW1lbnNpb24+MTY4PC9leGlmOlBpeGVsWURpbWVuc2lvbj4KICAgICAgICAgPHRpZmY6UmVzb2x1dGlvblVuaXQ+MjwvdGlmZjpSZXNvbHV0aW9uVW5pdD4KICAgICAgICAgPHRpZmY6WFJlc29sdXRpb24+MTQ0LzE8L3RpZmY6WFJlc29sdXRpb24+CiAgICAgICAgIDx0aWZmOllSZXNvbHV0aW9uPjE0NC8xPC90aWZmOllSZXNvbHV0aW9uPgogICAgICAgICA8dGlmZjpPcmllbnRhdGlvbj4xPC90aWZmOk9yaWVudGF0aW9uPgogICAgICA8L3JkZjpEZXNjcmlwdGlvbj4KICAgPC9yZGY6UkRGPgo8L3g6eG1wbWV0YT4KF6bBbAAAQABJREFUeAHs3Xd8FUXXwPETCKGFJPQOoUlHEEFRUBHFDtLsXUHsvb6PHbAriqKCIvaOigIiFkAEFJAivfeaQAglpADvnMW97N7dm9yEBLjhN88n3t3ZmdnZ7154/sjhnKgaNRP3Cw0BBBBAAAEEEEAAAQQQQAABBBBAAAEEEEAAAQQQQAABBBBAAAEEEEAAAQQKtUCRQv10PBwCCCCAAAIIIIAAAggggAACCCCAAAIIIIAAAggggAACCCCAAAIIIIAAAghYAgQK8UVAAAEEEEAAAQQQQAABBBBAAAEEEEAAAQQQQAABBBBAAAEEEEAAAQQQQOAYECBQ6Bh4yTwiAggggAACCCCAAAIIIIAAAggggAACCCCAAAIIIIAAAggggAACCCCAAAIECvEdQAABBBBAAAEEEEAAAQQQQAABBBBAAAEEEEAAAQQQQAABBBBAAAEEEEDgGBAgUOgYeMk8IgIIIIAAAggggAACCCCAAAIIIIAAAggggAACCCCAAAIIIIAAAggggAAC0aEI6tSrF+oS/QgggAACCCCAAAIIIIAAAggggAACCCCAAAIIIIAAAggggAACCCCAAAIIIBBhAmQUirAXxnYRQAABBBBAAAEEEEAAAQQQQAABBBBAAAEEEEAAAQQQQAABBBBAAAEEEMiLQFSNmon78zKROQgggAACCCCAAAIIIIAAAggggAACCCCAAAIIIIAAAggggAACCCCAAAIIIBA5AmQUipx3xU4RQAABBBBAAAEEEEAAAQQQQAABBBBAAAEEEEAAAQQQQAABBBBAAAEEEMizAIFCeaZjIgIIIIAAAggggAACCCCAAAIIIIAAAggggAACCCCAAAIIIIAAAggggAACkSNAoFDkvCt2igACCCCAAAIIIIAAAggggAACCCCAAAIIIIAAAggggAACCCCAAAIIIIBAngUIFMozHRMRQAABBBBAAAEEEEAAAQQQQAABBBBAAAEEEEAAAQQQQAABBBBAAAEEEIgcAQKFIuddsVMEEEAAAQQQQAABBBBAAAEEEEAAAQQQQAABBBBAAAEEEEAAAQQQQAABBPIsQKBQnumYiAACCCCAAAIIIIAAAggggAACCCCAAAIIIIAAAggggAACCCCAAAIIIIBA5AgQKBQ574qdIoAAAggggAACCCCAAAIIIIAAAggggAACCCCAAAIIIIAAAggggAACCCCQZwEChfJMx0QEEEAAAQQQQAABBBBAAAEEEEAAAQQQQAABBBBAAAEEEEAAAQQQQAABBCJHgEChyHlX7BQBBBBAAAEEEEAAAQQQQAABBBBAAAEEEEAAAQQQQAABBBBAAAEEEEAAgTwLECiUZzomIoAAAggggAACCCCAAAIIIIAAAggggAACCCCAAAIIIIAAAggggAACCCAQOQIECkXOu2KnCCCAAAIIIIAAAggggAACCCCAAAIIIIAAAggggAACCCCAAAIIIIAAAgjkWYBAoTzTMREBBBBAAAEEEEAAAQQQQAABBBBAAAEEEEAAAQQQQAABBBBAAAEEEEAAgcgRIFAoct4VO0UAAQQQQAABBBBAAAEEEEAAAQQQQAABBBBAAAEEEEAAAQQQQAABBBBAIM8CBArlmY6JCCCAAAIIIIAAAggggAACCCCAAAIIIIAAAggggAACCCCAAAIIIIAAAghEjgCBQpHzrtgpAggggAACCCCAAAIIIIAAAggggAACCCCAAAIIIIAAAggggAACCCCAAAJ5FiBQKM90TEQAAQQQQAABBBBAAAEEEEAAAQQQQAABBBBAAAEEEEAAAQQQQAABBBBAIHIECBSKnHfFThFAAAEEEEAAAQQQQAABBBBAAAEEEEAAAQQQQAABBBBAAAEEEEAAAQQQyLMAgUJ5pmMiAggggAACCCCAAAIIIIAAAggggAACCCCAAAIIIIAAAggggAACCCCAAAKRI0CgUOS8K3aKAAIIIIAAAggggAACCCCAAAIIIIAAAggggAACCCCAAAIIIIAAAggggECeBQgUyjMdExFAAAEEEEAAAQQQQAABBBBAAAEEEEAAAQQQQAABBBBAAAEEEEAAAQQQiBwBAoUi512xUwQQQAABBBBAAAEEEEAAAQQQQAABBBBAAAEEEEAAAQQQQAABBBBAAAEE8ixAoFCe6ZiIAAIIIIAAAggggAACCCCAAAIIIIAAAggggAACCCCAAAIIIIAAAggggEDkCBAoFDnvip0igAACCCCAAAIIIIAAAggggAACCCCAAAIIIIAAAggggAACCCCAAAIIIJBnAQKF8kzHRAQQQAABBBBAAAEEEEAAAQQQQAABBBBAAAEEEEAAAQQQQAABBBBAAAEEIkeAQKHIeVfsFAEEEEAAAQQQQAABBBBAAAEEEEAAAQQQQAABBBBAAAEEEEAAAQQQQACBPAsQKJRnOiYigAACCCCAAAIIIIAAAggggAACCCCAAAIIIIAAAggggAACCCCAAAIIIBA5AgQKRc67YqcIIIAAAggggAACCCCAAAIIIIAAAggggAACCCCAAAIIIIAAAggggAACCORZgEChPNMxEQEEEEAAAQQQQAABBBBAAAEEEEAAAQQQQAABBBBAAAEEEEAAAQQQQACByBEgUChy3hU7RQABBBBAAAEEEEAAAQQQQAABBBBAAAEEEEAAAQQQQAABBBBAAAEEEEAgzwIECuWZjokIIIAAAggggAACCCCAAAIIIIAAAggggAACCCCAAAIIIIAAAggggAACCESOAIFCkfOu2CkCCCCAAAIIIIAAAggggAACCCCAAAIIIIAAAggggAACCCCAAAIIIIAAAnkWIFAoz3RMRAABBBBAAAEEEEAAAQQQQAABBBBAAAEEEEAAAQQQQAABBBBAAAEEEEAgcgQIFIqcd8VOEUAAAQQQQAABBBBAAAEEEEAAAQQQQAABBBBAAAEEEEAAAQQQQAABBBDIswCBQnmmYyICCCCAAAIIIIAAAggggAACCCCAAAIIIIAAAggggAACCCCAAAIIIIAAApEjQKBQ5LwrdooAAggggAACCCCAAAIIIIAAAggggAACCCCAAAIIIIAAAggggAACCCCAQJ4FCBTKMx0TEUAAAQQQQAABBBBAAAEEEEAAAQQQQAABBBBAAAEEEEAAAQQQQAABBBCIHAEChSLnXbFTBBBAAAEEEEAAAQQQQAABBBBAAAEEEEAAAQQQQAABBBBAAAEEEEAAAQTyLECgUJ7pmIgAAggggAACCCCAAAIIIIAAAggggAACCCCAAAIIIIAAAggggAACCCCAQOQIECgUOe+KnSKAAAIIIIAAAggggAACCCCAAAIIIIAAAggggAACCCCAAAIIIIAAAgggkGcBAoXyTMdEBBBAAAEEEEAAAQQQQAABBBBAAAEEEEAAAQQQQAABBBBAAAEEEEAAAQQiR4BAoch5V+wUAQQQQAABBBBAAAEEEEAAAQQQQAABBBBAAAEEEEAAAQQQQAABBBBAAIE8CxAolGc6JiJw5ATatGkj7w8fLj+OGiV9+vSRIkWO3j/KJUqUkPvuv19+GjtW3nrrLWnSpMmRg+POCCCAAAIIIIAAAggggAACCCCAAAIIIIAAAggggAACCCCAAAIIHMMCUTVqJu4/hp+fRz8GBQa+NlASaycGnnz6jOnS75l+gfOj/SA2NlZ+//13iXIEBw155x0ZMmTIUbn1Z599Vs7u3Dmwtz179kj7U08NnHOAAAIIIIAAAggggAACCCCAAAIIIIAAAggggAACCCCAAAIIIIAAAodH4OhNQ3J4np+7HIMCrVq1kho1awZ+Wp/QOqIULr/8cleQkG6+W7duR+0zdDjtNNfeNMPQmWee6erjBAEEEEAAAQQQQAABBBBAAAEEEEAAAQQQQAABBBBAAAEEEEAAAQQKXoBAoYI35g4I5KvA2J9/9qw3f/58T9/R0rFkyRL3Vvbvl3/++cfdxxkCCCCAAAIIIIAAAggggAACCCCAAAIIIIAAAggggAACCCCAAAIIFLhAdIHfIUJuEFUkSso2KitxiWWkeHxxKZ4QIzEJ5jM+xhwXt54iPSVd0rdnSIZ+pmSY43RJXblDti3cJvv3UcEtQl51xG9z9apV8vXXX8nFXS+W6OhoWbFihWh5r6O19XvmGXn11VelWvXqomXHPhg+XFJSUo7W7bIvBBBAAAEEEEAAAQQQQAABBBBAAAEEEEAAAQQQQAABBBBAAAEECq1AVI2aicdshEvR4kWlfPPyUumEilLh+ApSrFTe4qYyd2dJ0uwk2fzPFkn+N1n2pu8ttF+YwvBgEyZOkNKlYwOPsmb16qO6dFdgo0EHRYocSAi2b9++oCtH56kGNWVlZR2dm2NXCCCAAAIIIIAAAggggAACCCCAAAIIIIAAAggggAACCCCAAAIIHAMCeYuMiXCYuMQ4qdslUco3Ky9Fih169TUNMKraror1sy9znyTPTZblI1eabEOpES5VcNsvUaKEaIBLRkZGwd3kEFaOjY2V3bt3W3s8hGWsqTExMVKtWjVZuXJltkvpuCpVq4pmDAqn5SVASIN19D76bIfS8vL+8hoklJCQkO8ZiPT97ty581AIcjU3Li7Oul9e3pnzRrpOaip/rzhNOEYAAQQQQAABBBBAAAEEEEAAAQQQQAABBBBAAAEEEEAAAQQQCF/gmAoUKlmppDToUU8qt60cvlAuR2rgUcVWFa2fTX9vkiXfLJO0zWm5XKXwDa9bt67ccccdUq9ePalYsaIUM8Eq2rQUVXJyksyeNVv69evnGzj09NNPy9lnnx1A2WWCXM7q1Clw7jzo1q2bPPjgg4Gu/fv3y6WXXipr1qwJ9IU6uOCCC6R3795SpUoViS5WzBqm+5v855/y0ksvyebNm32nfjPiG6lWtVrg2qeffiqDBg2y1rryyisltkyZA9fMXpYsXSp33H67JCUlWX0auPPsc89J27ZtAlmO9u7NknVr18kXX3xh/QQW/u9AA31++/13KfpfRiHtHjZsmAwdOjR4qGhAz0MPPSRNmjax9liyVClrjAbtbNu61QpeeqbfM7J+3XrPXGfHoby/J596Us7pfE5guezenw467bTTpG/fvlKnTp3A90T7M01Q2fIVy2Xwm4PlT/NOQrXg9/H1N9/Iy+b9de7cWe69914pX768RBm7/SZQbcOGDTJjxgx57bXX8jUYSb3uueceadWqlfUOJCrK2m5Gerr5vifL+++/LyNGjAj1CIH+M888Uy4x39/ExEQpWzZBihY1f2Wb79Gu3btk48aNMvansda7D0wwBzqnf//+zi759bdf5X//9z9Xn/OkXbt28sorrzi7cpzjGswJAggggAACCCCAAAIIIIAAAggggAACCCCAAAIIIIAAAggggEBECBwTpceKxRaTel3rSI2ONSSq6IFf2B+ut7N/735Z+/taK8NQxo6jM3tOQVtcffXVcuedd1rBGdndK80EAN13//3y919/uYa9/c47cuKJJwb6NMCjTZs2gXPnwY033SS33HKLs0uuvuoqWbBgQaDPr/TYX3//JT179gqMCT7Q4J377r1PJk2aFHxJgtcbN26caBacUHvck5ZmBXNo9iAN8NGxodpbgwfLe++957pcygT7TPzjD1fftyboJDg45ITWreV1EwBTomRJ19jgE/V88803Zfjw4cGXrPPD9f70ud4f/r4JJqvvuw9n55LFi+X666+3As2c/Xrs9z70u9Wla9fgoYFzDZrqaq4faqYlXfCJJ56Qi7p0Cawd6mCHyQykz+CXaUrLyr3w4gtyxhkdQ00P9GsGKg2ssgPZSpcuLRMmTBA7OEkHaoDSKaecEpgTfKDv/6STT3Z19zeBe99++62rjxMEEEAAAQQQQAABBBBAAAEEEEAAAQQQQAABBBBAAAEEEEAAgcgWOPS6W0f581dsWUHav3CK1Dyr5mEPElIaDUzSe5/6fDvRvRxr7fHHH5e77r47xyAhddFsN4NNwEL16tUPK5NmEMouSEg3o5lcBg4cKM2aNctxbxogFCpISCdr4E7/AQPknbffzjZISMfecuutcuGFF+phrlonk3FpyJAhOQYJ6aKaXed2k+3piiuu8NzjcL0/zXw0atSosIKEdJMNjjtORo0eZZVR82w6qKP1CSdkGySkw8uWKydffvWVaIanQ2nvmKC2cIKE9B5lTBkxzT6lZemC27fffRtWkJDOq1W7tnz19VeBJXbt2iWLFi8KnOtBTPHiolmDQrUTjJGzacap77//3tnFMQIIIIAAAggggAACCCCAAAIIIIAAAggggAACCCCAAAIIIIBAIRAo1IFCdS5IlJZ3Hi/RJcP75X/GjkzZMHmDLPhwocweNEf+7j9dJj04WX7rO9760WPt02s6RsfqnHCa7kH3knh+7XCGF4ox8fHx0sUns8quXTtl2rRp8u+//1rlpFwPa0o0aamxw9nsMmj2PTX7jG8ze3v11Vd9Lzk7nRmCNJOLZiMKbh07dpSKlSoFurMyQ3+PevTsGRgX7sGDDx0sv2bP0XtoZqWpU6fIzh077O7AZ3AmpsP5/tRVA2f8mmbe8Wvx8Qny8ssv+11y9ZUzpcacTYNg/JoGjJ1zzsESaX5jsuu77LLLpLUj85VzrD5D6vbtzi7rWAN4BpusUc52zrnnmGC5Gs4u61jL1f0xcaKsXLHCKpvmHFC6dKxce911ga4PP/wwcGwfXHnVlfah6/PUU091lXjTi/rnc5/JNEVDAAEEEEAAAQQQQAABBBBAAAEEEEAAAQQQQAABBBBAAAEEEChcAuFF0ETYMxcpVkSaXN9YqrarkuPOd2/aLRv/3iRJs5MldXmq7N+/P+SctC1poj92W/v7OlPdJ0ri6sZJhePLS5W2laVU5VL2Ze+nqXrWoFd9ia0RK/PfXyD7Mgv3L+JPOukkV/kjBfn1l1/koYcectmMHDlSqjmyCDVr3szKFJORcXhLtY37+Wd58cUXZaspQ1W2bFm5/fbbpevFF7v2qplnNJBj7E9jXf3BJ3v27JFrTMm15cuXi5aReu655+RMk+UnuGnwzg033CDz58+XcmZtDdbp1r27a1i9unVd5zmd6P3Kl3dnr0raskXOP/98V/BHcIkszeh0xhlnyPjx461bHK7317BhQ2nTtq3nsT777DMr69LOnTslzgQRaXalXr3c5eHamXJadY2POufUNFvVxx9/LPq90nu+bTI6BQcnnWyy7mhmo7y0u03mrOA2b95cefSRR2XdunXWJc00NWjQIIkuViwwtEbNmpKYmBgoQdbpTO/35NFHHpGfzffTbvr9HPPTT64MSN3Md/WD/8rH6ffzySeedAUAtT6htT3d9emXSWqoyUZFQwABBBBAAAEEEEAAAQQQQAABBBBAAAEEEEAAAQQQQAABBBAofAJFCtsjxcTFyImPtM4xSCg9JV3mD18okx+dKstGLJfty7ZnGyQUykkDi3SurqFr6Zq6dnZNA5h0j7rXwtxq1PBmRVm/fr3nkfv06SN//PGHvGUyq1x91VVyUtuTrGAOz8AC7NAsLY+YYAwNEtK2bds2eeaZZ6wMPMG3zalMmY63g4T0WDOzPPjgg+KXGUeDpjRISJveu3///rJkyRLr3P5PqdKlpZQJ4gm3acBRcNuWkuIKEtLrTz31lGhw1McffSS333abnGwCu+wgIb1+uN6fBkoFtzmzZ8vLL70kGiSkLdVk5HneBFvNnTs3eKjccKN3fvCggSZj0bBhwwLfq0WLFsmNN94YPEyaNW3q6Quno3Pnzq7gH52z25QA631T70CQkPZppp77779fD13tAkd5uYoVK7qu6ckK8/10Nv1+avDQL7+Mkxeef14uvOACuTgoqG3y5MnOKVbQkGYPCm7BZcc089GcOXOCh3GOAAIIIIAAAggggAACCCCAAAIIIIAAAggggAACCCCAAAIIIFAIBApVRiHNJNTq7uMlro5/CSN9X1lpWbJy1CpZNW617MvI34w++/ftl3UT1smGKRuk9tm1JPGC2iHLnsWbPbY0e53+7IxCm1lIy1wFt8uvuEJKm8CXN012l+3/lWLauHGj3OOTjSV4bkGe9+3b13f520wWm99++82VGamRyUaTXdNyY34ZbpaZrDctW7Y8ONUEmWmAVHD71wRpNGjQwNVd3pTP2h2qJJprpIiWqDJRb64963qayUZLfDn3psFRodrhen9W5iLnJsze77jjDmdP4PhO0x/8PtqZLEDZNrPep59+6hmiDsnJSa7sS5UrV/aMC6cjOAuUzunXr18gMMm5xqRJk6wSYhrs8+eff1o/moHKbitXrZLmLVrYp9bn0KFD5b333pNPPvkkEPClDpaFa+TBk3dMVqDTTYYoZ7vKBOLpPe3mV3ZsrCNzkT2OTwQQQAABBBBAAAEEEEAAAQQQQAABBBBAAAEEEEAAAQQQQACBwiFQqAKFtNxYdkFCO9ftklmvzXaVDyuI16gBSCtGrbRKmrW863iJrV7a9zYaLKR7njtknu/1SO+cMWOGZGVlucojRUdHS/cePawfzVyiwTMzpk+XESNGyObNm4/II2v5Lyu4xufumslGA3Q0q4/dYopnnwlqS9IWe6jrc8+eNPe5CSjSbEPBLcVk/znUtnbtWtGSVs6mZbr0Z09amqxavcpkjflXfvzhB5k3z//7d7jeX8lSJZ3blO2p22WXycbj1/R97Nixw1UyrHTpWL+hgT4NyPFz1gFbtrgDhbRsW15a5UqVPNOc2ZmCL95zzz3BXYHzsaak2EUXXRQ414PYMmXkLhNMd+edd1rf1UWLF8mUyVPk+++/F2eQkXPSYpM1aZuW0XNkmGrVqpVziFx55ZWucz0Z8s47nj46EEAAAQQQQAABBBBAAAEEEEAAAQQQQAABBBBAAAEEEEAAAQQKh0Defit+FD57nQsSsy03ljQ7Sab1m1bgQUJOmrQtadY99d6hmpYh070XxpaRkSFa8ilUi4uPFw1cuKl3bxk9ZoyMGj1K2pryV4e7aSBJdm3zFnfgT9Gi0ZJdQMm+vd7gH10/yvzvcLV7771X9vsEIen9S5QsKQ0bNpJevXrJBx9+KBMmTpBrr7vOs7XD8f40cEw9nU0zTGXXgq/rGtm9D7t8md+aGsiWHy0+Id61TKb57qtfXtrUqVNlypQpvlOjTCBTRROU1L59B3nAlLPT7EQfmndYySdQSRf48ccfXetEFysmp59+eqAvOHBotclmlNOfh8BkDhBAAAEEEEAAAQQQQAABBBBAAAEEEEAAAQQQQAABBBBAAAEEIk6gUAQKVWxZQer3qBcSf+WYVSaT0BzJ2rM35JiCuqD31HvrHkI13bs+Q2Fsn3/+udx/332SFkbZrMqVq8jgwYPlOp+glYK02bs3++9Fpsk4FGlNy2r16NlTNqxfn+PWNSOPlvp66+23PWML+v3FxHizM+1JO1iGy7Mh07HHZGIKbtkFCgWPLYjzokWKupbN6TvlGuxzcsftt8vw998PGewVmBIVJU2aNpUffvxBmprP4Pa+WcMqQ+e4cNnll1tnfmXH9H3TEEAAAQQQQAABBBBAAAEEEEAAAQQQQAABBBBAAAEEEEAAAQQKr0DEBwoViy0mzfqYX5CHSNaiATpLvlxqfle+/4i9Rb237iFksJDZuz5DTBlv0MQR23Q+3lhLMHXo0EFu6dtXJphjq8xXNu/jtttuC5khJadtxcZmX4bKb345R2kmv+tVKld2dWumnlClrFwDj/CJZofRElbdu3eX77/7TtauWWOVggu1rTZt2nhKXunYgnx/WtYtOJClevXqobZo9VerVtV1Xd9HfmUGci2ci5PgrEWatelQg5feeOMNOclk2Hrm6adl5syZssOUXQvVNCvTwIEDPZe1VNvSZctc/c2bN7fOu3Xv5urfuzdLvv76a1cfJwgggAACCCCAAAIIIIAAAggggAACCCCAAAIIIIAAAggggAAChUsg4gOF6nWtI9El3aWL7FekJb+WfuX+Jbl97Uh86l5ClSHTZ6jbJfFIbOuw3XPatGlyn8kudO4558iJJ54ot956q8yeNcsTKKLllc4xY+y2Lyjjj14vXbq0fdn1GVxKyXUxxElM8eLil9lGh2uwR5kyZVwzIy3DkAYMPfPMM3LxxRfLySbwpGePHvLz2LG+wTVdunZ1PavzJK/vz7mG33FwhqCEsmX9hgX64uMTAsd6kO6TYcg14DCcJG9N9tylYcOGnj67Q7NmaQBX2RyeVQPSvv/+e+l9003SsWNHOaVdO/Mun7aCvuy17M+yJuAtIcFto9c++fhje4j1WaJECWnQoIGc0OoEV/8/M/6JiAA416Y5QQABBBBAAAEEEEAAAQQQQAABBBBAAAEEEEAAAQQQQAABBBDIlUBEBwqVrFRSanSs4fvAO9ftkn/fnntEMwkFb0wzC+medG9+TZ9Fn6mwNM3u07lzZ3n00Ufl408+kUceecT1aH//9ZfceOON8vU33iwmxzmCLBYsWOCapye9evXy9JUqVUqOMwEQeWnPP/+877SnnnrKZKtyp6tabTLzHM0tOjpa2pqAIC0nNmTIELHKTzk2vHLlSuud9L35ZkfvgUNntp78en+emwR1LF261NWj+7/rrrtcffbJffffL3rd2RYtWuQ8LbBjDSYLlbFq0h+TPPd94sknPX3aUaFCBbndvJtH/+//ZNwvv8jkyZOld+/egbFVqlQxZeN6yIABA6wMP+eff37gWkZGhskO9b0V9KUBYMGtRYsWwV0yatQoyQoqn3fDDTdIXHy8a6x+V2gIIIAAAggggAACCCCAAAIIIIAAAggggAACCCCAAAIIIIAAAoVbwP0b9wh71gY96klUUXcQhz5CVlqWzHpttmTt2XvUPZHuSfd28lNtPZmQ9Fn0mea8Nfeo23deNjRixAgpV758YGqjRo3k199+Ew0QcrbtKdudp9bxhvXrA30TJ06Ua00GFmfre8stMt8EENlraZDQV19/JZodKC+tw2mnybnnnis//fRTYPopp5wi5zmCNOwLo03gxdHcnnv+OTnjjI6uLT78yMPy3LPPufq0LFVwS0lJCXTl1/sLLBji4LPPPpX+/Qe4rl599dUyevRoWbJkSaC/cePGcvlllwXO7YNPTBBaQbdBgwbJySefbGLGomTx4sWi5fG2bdsWuK3u4WYNvHIEldWvX180c9Dw4cMD4zTYKDhwS7+zdrCTfo9//PFH1zqPP/646J+B4PJmu9PSAuvaByt9goc0K9Hff/8tp5x6qj1MzjYBfM62c8cOq7yZs49jBBBAAAEEEEAAAQQQQAABBBBAAAEEEEAAAQQQQAABBBCILAH9nWq37j2sTTcyx4e7fWtiBL4d8c3hvi33y6VAxAYKxSXGSeW2lX0fd+WoVZK2xftLdN/BR6BT96Z7rN+znufu+kxxY1ZL6kpvEIdn8FHe8cEHH8g9997r2uXrr78us0y5sYkTJlhlkk5tf6o0bNjINUZPfv/990Df7NmzD5QncwRhaFaZwYMHy/btBwJbgstRBSbn4qBf//7yyKOPyKqVq6RWrVoSG1RyTJfSzCxffvllLlY9/ENfeeUVT6BQzx49pXnz5vLHxD9khwkK0cColi1bejY3dcrUQF9+vb/AgiEOxv40Vu4135Py5SscHGHe9Weffy5bNm+WpcuWSQMTdFOhYsWD1/87StqyRX4zwWcF2TSjTzsTNGY3zXZ1p8l49JQjY9Du3btl/ITxHnfNHHT9DdeLlm3bm7VXOnTo4Alm271rlxUIpOvrOjNmzJDWpjSf3aKLFZNRo0eJvpupU6dKkyZNrKClqtWq2UOsT/1u+mUZ0ovvvPOOK1DINdGcjBs3LriLcwQQQAABBBBAAAEEEEAAAQQQQAABBBBAAAEEEEAAAQQQiDCBR/7vf0d0x926dzeBSt3l2f79xK9y0BHdHDcPCERsoFDdLomBh3AepKeky6pxq51dR+S4XOOysn15quxN989qpHuseVYNKZ7gzYCjzzbr9TlHZN/5eVPNstK3b18pabKk2E0DfE40QRD6E6rNnTvX85eGlmdyZkSx5wYHCO0xWVZKlMxd+bb9JuNKVJEDVfhKl46VJk2b2st7Pl966SXZs2ePp/9o6li/br3MNsFYxzsDgUzgjQZk+QVl2XtXuzfffNM+lfx8f4FFQxzcesut8sUXX7gy6ejQipUqWT9+0/S96feroFuPHgcibp33Oe20Ds5T6/jhhx6WX0wpseAAM/1OBWd4Ckw25Qj79esXONWD/qbkmGZzcjZdo9NZZ1k/zn7n8Xvvvec8dR3PmzfPCqoL/vNiDxo6dKh9yCcCCCCAAAIIIIAAAggggAACCCCAAAIIIIAAAggggAACCESggJ1J6GjYuu5lgQkWoh2dAgeiI47OvYXcVdHiRaV8s4MlrZwDl323QvZl7HN2HfbjSq0rygn3tZJW97YU3atf0z3qXv2aPluoeX7jj+Y+LdGUut1bWizUnn8eO1ZuuP56z+U777xT5ptgh+yaBvA8/PDD2Q3xvTZv/nxZuXKl7zVn55cmkOXrr792dh21x/fdd58sXrQo7P2tXLFCLrzwQtEyVc6WX+/Puabf8TKTNUiDfjQrTjgtMyND+vTpE9Z7C2e97MZMMNmvgtu8ud7vYlZWlnQ30bGa5Sjc9uxzz8rPP//sGq5ZgV54/nnR9cJpGjD14gsvSE7BPmPGjPFdbu2aNbLZZG6iIYAAAggggAACCCCAAAIIIIAAAggggAACCCCAAAIIIIBA5ApoJh8aAuEIRGRGofLNy0uRYt4Yp92bdsv6P9aH89wFNkaDhFrc0lyiikZJ2eMSrGChma/M8s0spHtNPK+WlKp8MOOObkyfTZ9x8/TI/+X9nDlz5CyTCeXJJ5+Uzp07i5ZRCm5792bJ1uSt8rwJjhg/fnzw5cD5ddddJwOeHWCyEbWxypYFLpiDmTNnymP/+5/Excc7u63jDBNU4mz79rqDYfaagIyeJmvMc88/J53O7BTILmTP2ZqcLK+99pqMGjXK7nJ9etYLCraxB2dmuYNgNMDDr/kFiOzdezAzVXAwj66R5biu5ykpKXLFFVfIJZdcIrfffruUKl1au93NZLNJTU2Vb7/9VgYNGuS+9t9Zfrw/9XW2ffv9n3v69OlWsNKjjz5qZY/S7FPBTW0mTfpDBvQfIFu3bg2+bJ2H+z50cPDe9huT4Pbxxx9Lr169xC71tdOUbhs4cGDwMOtc96Slyu69717pclEXf3czUsvvPf300yFLhWl5Oy0H9rp5L8cd10CKFvVaaLDU6jWr5f777pc1Jtgnp/bu0Hflsssu9ww72kvpeTZMBwIIIIAAAggggAACCCCAAAIIIIAAAggggAACCCCAAAII5ChwzVVX5jgmPwd8+PEngeUaNW4cOObg6BOIqlEz0fub8aNvn64dNevTVKq2q+Lq05PlP6yQZSOWe/oPV4czSMh5z22LUyRUsFC97nWl7kV1nMOt4w1TNsrcId6sJZ6BEdZRypQha2lKYtWtW1d27dolU6ZMkY0bN+b6KUqUKCHNmjWTHSZoY8mSJZ5MOLle0DGhsflLq6kpP7Z79275999/wwrCcEw/Kg+LmNJq6qU/Gmj0jwmsyk3GIfuh8uv92euF+tQgoSZNmkj9+vUlLi7OCmhavHixzDfZn/wCpUKtk5/99erVE/3eaRmvcJvOadiwoVSoUEHS09NFy+otMpme/ILBsluzXLlyVrk+DVbSDEB//fWX7Ny5M7spXEMAAQQQQAABBBBAAAEEEEAAAQQQQAABBBBAAIEIFtDfMdz/wANSz/xOTX9Xor870d8v6O/GVq1eLa++8kqufmcRLkVsbKzceNNNJgHA2VKubDkpZpIA6D+01t9zbNy0Sb4dMUK+MFU4wv1dR9myZeV6U02kY8eOUr58eWu9qKgoa/5O87vCf2bMkA8++CDHZ+nRs4dcfdXV4T5GYJz+XumGG26w/pF9oNNxoL9D038Efulll0ntWrWkeIni1j/g1udLT98jixcvka/MP/AOrhBhL9GqVSt54okn7NM8fb719lsy9qexeZrLJAScAs5AHe0/koFCR+L+TguOsxeIuEChqCJRcvqg06RYKW+Gjb/7TZfty8Ivc5U9Te6uhgoSslfZPGOLzH5jjn0a+IyvFy9t/3di4Nw+yNydJRPumCj790VcHJf9CHwigAACCCCAAAIIIIAAAggggAACCCCAAAIIIIAAAggggEAuBPQfLb837D3zD5Eb5Thr5cqVcqMJgtm+PX9+P6r/mH7ou+9a/3A6u5snJyfJ5aaKQajqD/bc9u3by0svveRbccQeY39+aYKPXnjhBfvU8/nSyy/JGWd09PSH09HdlGNavWqVZ6g+76A33vBUMvEMNB2bNm2UO++4U5YtW+a6rAFMjzzyqKsvtycff/RRyGoWuV2L8ce2AIFCx/b7z83Te+t35Wb2ERhbtlFZ3yChjB2Zkro89QjsSCSnIKHMnZmy7Dv/TEe6Z917cNNAKH1WGgIIIIAAAggggAACCCCAAAIIIIAAAggggAACCCCAAAIIFH4BzRw0cuTIsIKEVCMxMVFG/jBSKlWqdMg4F1xwgXz44Yc5BgnpjcqXryA//vijaKBNqHbf/ffLwNdeCytISNe45NJL5XMTLFS6dGnfJfWe+dm0Coc+b0JCQljLVq5cRT797FNp0KBBWOMZhAACCBzNAhEXKBSXWMbXM/nfJCvtne/FAuwMJ0ho+vP/yM61/mWCNFWf7t2vhXpWv7H0IYAAAggggAACCCCAAAIIIIAAAggggAACCCCAAAIIIIBA5Ap8/PHHUs6U58pNK106Vj77/LPcTPGMPffcc+Wpp5+WKFOGK9wWU7y4FWhTvXp1z5RrrrlGLr/8ck9/Th3169c32ZSG+Q4rG2ZAj+/koM6YmBgZMmRIrp5XlyhaNFqGhdhf0C04RQABBI5qAW/9rqN6uyLF44v77jBlaf6k1PNdPETnoQYJ2cvq3queUtU+DXyGetbAAA4QQAABBBBAAAEEEEAAAQQQQAABBBBAAAEEEEAAAQQQQCDiBbp16ybVfIJu9MEWL1oki5csNhmE6ohmwglu8fEJcvPNN8s777wTfCms83vuvcd3XEZ6uqxZu0YqV6ossWW8yRw0sKj/gAFy3bXXuubfdNNNrnP7ZM7s2fLNN9/Itm3bpGPHjqLPLFFR9mXrU4OFGjZsKIvMMztbmTjv/deuWeMc4nusSRtSg0qz3WDKtWmgU3Dbk5YmkydPluXLl0vz5s2lbdu2nmCikqVKyZVXXimffPKJNX35suUSzj50cCkz1y8QLDMrK3grnCOAAAIFKhB5gUIJMb4gGdszfPv9OqOKRsn+vfv9LoXdl19BQnrDUHsvHuJZw94kAxFAAAEEEEAAAQQQQAABBBBAAAEEEEAAAQQQQAABBBBA4KgXuOce/2Cdhx96SH755ZfA/tu0aSNvvfWWJ8DmehP8MnToUNm3b19gbDgHnTp1skqJBY+dYgJm7rrrrsB6NWvWNJmLPveUJmvWtKkUMQFD9n01W08pn/Jh48f/Lvffd3/gNhqQ89tvv8mgN94I9NkHp512midQqFTJUvZl6zPLBNdcfPHFrr5wT7p27eoZuiM11QpcSklJCVxr0aKFDDGm0dHuX6mfd/75gUChmTNnhr2PwYMHS9vgjFEmkOkTk0mKhgACCBxOgfDzxx3OXWVzr5gEb3SnDk9PDS9QqMYZ1eWkJ9pKsdhi2dwl+0v5GSSU3d5DPWv2u+MqAggggAACCCCAAAIIIIAAAggggAACCCCAAAIIIIAAAghEikDjxo19g2tGjxrlChLS55k2bZp89NFHnkfTYJYzzjjD059Txz333usZsnvXLleQkA5YY7L3DOjf3zNWMwK1a9cu0K8BRX7t9dcHebqnTJkiO3fs8PRXr+EtZ1asmPt3u2m7d3vmhdsRHx/vGarBV84gIR0wZ84cmTp1imdspYoVPX05dVSrVs3KUBQ87vfx4z33DR7DOQIIIJDfAu7wx/xevQDWKx6f94xCGiTU+NpG1q5OfOgEmf78P5K5MzNXu8zvICG9eciMQiGeNVcbZjACCCCAAAIIIIAAAggggAACCCCAAAIIIIAAAggggAACCBy1Aj169vDuzWSaeeWVV7z9pkeDWq666ipPWawLL7zQytLjO8mns1r1alKlShXPlcceeyyQIch5cfTo0bJhwwYpWbKks1umT58eOF+1alXg2HkQXbSo8zRwrNmIgtvKFStdXVqyK7hEWeqOVNeY3JxkZGRYWZCcc8aNG+c8DRzPnzdf2rfvEDjP68HjTzzheYb9JvtT/3798rok8xBAAIE8C0ReoFCIjEIZOWQUcgYJqVZsjVjJbbBQQQQJ6V5C7b14iGfVOTQEEEAAAQQQQAABBBBAAAEEEEAAAQQQQAABBBBAAAEEEIh8gbZt2noeYuvWrSEzzWigy7p166RGUPae5s2be9bJrqNZ02aey3vS0mTChAlWf+fOnaWDKQNWr25dq+TY5i1bZJYptTVs2DDRPfg1LQmmZbzKxMW5Lt9x551yz913u/pOP/1030xKEydOdI0Lfk69uDV5q8SZe1x22WXS6oQTpG7dOpKZkSlLli6Vf2bMkK+++kr27NnjWsc+yU3mpSZNm9jTAp8rVqwIHIdzoAFZJ7Zu7RmqpdeCsxh5BtGBAAIIFIBAxAUK5cUgOEjIXiM3wUIFFSRk74VPBBBAAAEEEEAAAQQQQAABBBBAAAEEEEAAAQQQQAABBBA49gQ04CW4JScnB3e5zjdu2uQJFIqNjXWNyemkXr16niEaoNSyZUt59tlnpWKlSq7rtWrXlhNPPFFuvPFG6/qIESNc1+2Tga8NlMcee9w+tT47dOgg77//vnz+xeeybVuKnNWpk3Tv3t01Rk/+NeW+li9f7uqvFRQQpRfLli0rY8eOlWIx7mo0VapWFb3XzX37ykMPPih//vmna63cnFQyz+8sq2bPnWmCpXLTnnjcP5vQgAEDcrMMYxFAAIF8E/Dmcsu3pQtmofSUdN+FY+Lc/yfgHBSTTQkvO1ioWKy7rqVzflhBQi/8IzvX7nROC/s41N5DPWvYCzMQAQQQQAABBBBAAAEEEEAAAQQQQAABBBBAAAEEEEAAAQSOaoHixYt79rdx40ZPn7NjvckoFNyio3OXIyIxMTF4CcnMypShQ4d6goScA6NMubBHH31Uzj33XGd34Pj7776X77/7LnBuHzRv0UL69x8ggwcPlu49TLm1qCj7kvWZlJQkd9xxh6tPT6pVq+bp0yxDwUFCzkElSpSQ115/Xfr06ePsDvtYS6K9++67UrSo2zQjPd3KqBTuQjXNPlub4Krg9suvv8r27duDuzlHAAEEDotA5AUKbfdPY5ddMNDy71eI/oRq2QULhR0ktCZvQUK6p1B7Tw/xrKGeg34EEEAAAQQQQAABBBBAAAEEEEAAAQQQQAABBBBAAAEEEIgsgWLFvAkNVq1ale1D+JW/0gAeDXAJt1WvUcMztHbtRNF1cmwmyKdfv36i5cP82jPPPCMPP/RQyPJfrjn798tbJnjo/PPOk507vb9zreoTKOSan81J7969fQONspliXRo+fLhUq17dM+ypp58KWXbNM9h0PP6EySYU1Pbv2yfPkk0oSIVTBBA4nAJh/C1/OLeT870yQmQUKp5NRiFdddl3y3MdLHQ4goR0b6H2HupZdQ4NAQQQQAABBBBAAAEEEEAAAQQQQAABBBBAAAEEEEAAAQQKp0BaWlq2D7Y7bbfv9ZigUly+g/7rLF+uXOjLJnhn0qQ/5I1Bg+SXX8bJrl3eAB7NCPT0M0/7rnHDDTfIk089JZrZJ8dm1ultMv8899xzvoFO5UyZMb+WnJwk33z9tSmDNkDGjRsnabu9Jhr09OrAV/2mh+wbNmyYNGna1HNdy6KN/Wmspz9Uh5Zqa9Wqleey7jU1NdXTTwcCCCBwuATcudIO110P4T7pKbnPKGTfToOFtNXtWsfucn3amYWmP/+PlG2YIC1uaS5RRd0p7+wJmTszZbqWGzuETEL2WiEzCoV4VnsenwgggAACCCCAAAIIIIAAAggggAACCCCAAAIIIIAAAgggENkCWXv3SnDZMC2tlV2rXau297IJ7tmzZ4+3P0TPXnNfv7Z3b5Zcc/U1smjRosBlDUD69rtvpXLlKoE+PShdOlZONKW1pk+fHui/9NJL5dbbbguch3Ogz39mp04y7P335bprr3VNechkJjquYUNp26aNNG/eXOrVry/z582Txx9/PDDum6+/kfj4ePnOlDwrExcX6NeDenXruc5DnWg2pk8++UQaHHecZ8imTRtFsxPlpj3h2J89T7MJDSCbkM3BJwIIHCGByAsU2p7uS5VQP17W/u6txRk8OJxgoZMeayMlypc4LEFCuj/du19LD/GsfmPpQwABBBBAAAEEEEAAAQQQQAABBBBAAAEEEEAAAQQQQACByBPIzMjwBgr5lL1yPlnNWrWcp9axBhzlpu3ctct3+ODBb7mChHRQhtljr569ZOLEiaKZhJytXbt2gUAhDRp64IEHnJetYw0+em3gazJ69GirvNgpp5wij/7f/0mFChVcY5s1a2YyET0pTz7xpKt/sQla0p/s2vbt2+Xa666TESNGuIeZ/TZp0kTmz5/v7necaSDUl19+KX4BWikpKXLpJZdKVlaWY0b2h4mJiXJ8y5aeQT+NHetbXs0zkA4EEECgAAUirvRY6sodvhzlm1cw/5/k/j8l34GmM6cyZCUrlTxsQUK6Z927Xwv1rH5j6UMAAQQQQAABBBBAAAEEEEAAAQQQQAABBBBAAAEEEEAAgcgT8CsjVrFixWwfpGrVqp7rGen+CRc8A//r2LnTp5yYufbZp5/6TtltSntt2bLFc62mI/uRBuoEBxJpFp0rLr9CPjXratCNBtxowFGXiy4SzdQT3Dqf3Tm4K+zz1atWiZ9Dm7ZtQ64RGxsrI3/4wTdIKCkpSbp26ZLr4J4nnnzScz91eN6UV6MhgAACR1og4gKFti3cJpm7vdGaMWWKSVxddxq57HBzChbym5uf5cbs9XXPuvfgps+oz0pDAAEEEEAAAQQQQAABBBBAAAEEEEAAAQQQQAABBBBAAIHCK7B0yVLPwwVn2gkeUM0nUGj1mjXBw7I9X7hwgfe6KV+WXeactLQ0z5woU7LLbk2aNLYPA59Lly6VZcuWBc7tA81S9Plnn9ungc+Y4sXFGXwUuBDmgV/5tVIlS/rOLleunIwcOdKT2UgHb9y4US7u2lV2hci85Lug6axbt65VIi34+pgxY3IdcBS8BucIIIBAfggc/Fs7P1Y7DGvs37dfkmYn+d6pwvHlfftDdeYmWKgggoR0X6H2rM+oz0pDAAEEEEAAAQQQQAABBBBAAAEEEEAAAQQQQAABBBBAAIHCK6DluIJbdLFi0q1bt+Bu67x9+/ZSqnRpz7Vfxo3z9GXX8fPYn72XTTWU0047zdv/X081n5Joq1auDIyPj4sPHNsH27aFTo6wfv16e5jrU5/RbpP+/FOmTZvm+tHSZX5NS4jFxXv3sHzFcs/watWryffff+87foPZV3fj7xd05FkoqOPxJ54I6hHR0mvPP/+8p58OBBBA4EgIRFygkCJt/seb0k77q7StLFFFwis/puO1hRMsVFBBQrpX3bNfC/WMfmPpQwABBBBAAAEEEEAAAQQQQAABBBBAAAEEEEAAAQQQQACByBQYO3asiMnkE9weeOABiYtzV1TRQJj+A/oHD7XOv/vuO09/YmKiPPLII3JC69aea3PmzJFMk9UnuD3y6CNSokSJ4G557LHHJDo62tM/c+bMQF9mZmbg2D5o1qyZFHFkHbL79fNCU37Mr61evfpgt7HRrEXOnz4333zwuuOoX79+jrODh7NnzT54Yo7q1asnX3/1tZQsVcrVryfr1q2VHj16iGY8ym3TdfV5g9vo0WNynZkoeA3OEUAAgfwS8P5Nnl8rF+A6yf8my77MfVKkmDvOqVTlUlKtQzVZN2Fdru6uwULa6nat45lXUEFCeiPdq+45uOmz6TPSEEAAAQQQQAABBBBAAAEEEEAAAQQQQAABBBBAAAEEEECgcAtoqa/fx4+Xjh07uh5US3BptqFBgwbJ9OnTpVnzZnLP3fdI6dKxrnF6MmvWLElJSXH1D3xtoLRv38Hq69GzpxUA07VLV9eYH374QbqboBhnK1++gnz77bfy8ssvy2+//SYNGjSQm3r39uxP5+w2Zbn+NBl/7LZhwwapVbu2fWp9avYjDWK6/PLLXcEyjz76qHTocGB/rgkmMMgZfLTUlC0LDr7R8w8+/ECefuppq6xZ48aN5ea+Nwee17ne+nXrrDJidl+LFi1kyNChvkFPmvlnxIhvpVevXvZwz+d+s78vv/zSt0TbEyGyCb34wguedehAAAEEjpRARAYK7U3fK8lzk6Viq4oet3oX15ENUzbIvox9nmvZdfgFCxVkkFCRmCKie/Vr+mz6jDQEEEAAAQQQQAABBBBAAAEEEEAAAQQQQAABBBBAAAEEECj8Ak88/rh0MEE5WnLM2UqULCkPPPigs8tzvH/fPnn4oYdc/WXLlpX2px4s36UXq1evYQJp2sukSZMCY1977TW58MILRYOSnK1ipUryXBilsoYPH+6cZs0ZPHiwq09PtGTZhIkTZUdqquw1+403mZI0Q5Bfm2jG7d69O3BpwIAB8umnnwbO7YOmTZvJFyZgx8rGZEqmhWr6jM6mAVB+mZF0TNGi0XLHHXc4h/seazm01atWua4d17ChNGna1NWnJ6NHjXY9j2cAHQgggMBhFvD/2/cwbyIvt1s+cqXvtOIJxaX22bV8r+XU6SxDVpBBQroP3aPu1a+Feja/sfQhgAACCCCAAAIIIIAAAggggAACCCCAAAIIIIAAAggggEBkC2hgzOMmWMivBFlOT6aBL0lJSa5hZ3Y6U8QneOb88893jdtlMgLdddddebqvZv0ZNmyYa72///pLNEtRqFbGBAglJCSEDBJKTk6ySpw55y9etEgGvvpq6D36PKc9/4eRI+XXX3+1T63PIkUL5lfk1vtz3UlEMxS9+OKLQb2cIoAAAkdWoGD+FjwMz5S6MlU2/b3J906JF9SWkhVL+l7LqVODhZZ8uVSmv/CP7FyzM6fhebque9M9+jV9Jn02GgIIIIAAAggggAACCCCAAAIIIIAAAggggAACCCCAAAIIHDsCP//8s9x9992iGYLCaqYE1lNPPimff/65Z/ioH0f5ruM3dtq0aVZZsC2bN3vWCdUxfvzvcnOfPr6XdU8fffSR7/19J/zXuXDhQtHSaBq8FNw+/vhj6du3r2RlZgZfCnn+1VdfyVNPPRXyen5eaGiyCTVq1Miz5I8//Eg2IY8KHQggcKQFIjZQSOGWfLNM9u/d7zGMLhktLe86XqJLFPVcC6dj5ZhVBRYkpHuy9mb2GNz0WfSZaAgggAACCCCAAAIIIIAAAggggAACCCCAAAIIIIAAAgggcOwJaFmws88+W8aMGSNZWVm+ABpINGH8eNHsQKGy9+zZs0e+NGW5nEFHGhA0Z84c3zWXLFki5513ngx//33Z7ROoY00ygUlLFi+Wu00Govvvu1/2ZRPQ9NrAgdZ6f5gyYmmOMmLBN9eMO4sWLZQ7br9drrryStF9h2rTp0+XLl26yOxZs6xMPX7j9HnnzJ4t1117rTz/3HN+Q2Tf3jADsXxnH+jMynIHLN1z772e0fr+yCbkYaEDAQSOAoGoGjUTvZE2R8HGwt1CoyuPk5pn1fQdnjQ7SWa9Nsdk6Ds6HjHKpL1reVcLqXB8Bd/9rvlljSz8ZLHvNToRQAABBBBAAAEEEEAAAQQQQMPQfX0AACU3SURBVAABBBBAAAEEEEAAAQQQQODYEqhSpYo0adJEypUrJ6mpqTJv3jxZt25d2AgxMTFyxhlniAYJbdu2Lex5RYoUkWbNmkn9+vVNUM5eWbFihWjGn4yMjLDXcA6sVq2a1K1bV6pXry5ZJjhoR+oOWbVqlQkSWuQcFvax7k8z+NSqVUviTDkzzUK0fLmpHGMCnkIFWIW9OAMRiFCBDz/+xLXza6660nVe0CdH+v4F/XyFaX1vWpsIe7pl36+QqqdWFc0iFNw0IKd+r3pWKbHga0fiXPcSKkgoKy1Llo9ceSS2xT0RQAABBBBAAAEEEEAAAQQQQAABBBBAAAEEEEAAAQQQQOAoFNi4caPoT16bBvZoSbPcNs0WpNmHQmUgyu1669evF/3Jr6b7mz9/vvWTX2uyDgIIIHCsCER06TF9SZk7M2XukHkiIZIGJZ5XWxpcUl80m8+Ranpv3YPuxbeZveszZOzIWwSu75p0IoAAAggggAACCCCAAAIIIIAAAggggAACCCCAAAIIIIAAAggggAACCCDgEPCm4XFcjJTDLbOSZOk3y6R+z3q+W9YAndhqpeXft+dK1p69vmMKqjO6RFFp3rdZyExCel/duz4DDQEEEEAAAQQQQAABBBBAAAEEEEAAAQQQQAABBBBAAAEEEEAAAQQQyK3AwgULpFHjxoFpwaXAAhc4OOYFIj6jkP0GV4xaKRumhE67pyW/2vyvjZSsWNKeUuCfei+9Z6hyY7oB3bPunYYAAggggAACCCCAAAIIIIAAAggggAACCCCAAAIIIIAAAggggAACCES6wLcjRkT6IxTq/ReNi094srA8YdKcZKnQrLwUL1vc95Fi4mKkWvuqEmX+l7oqVfbvDVGvzHd2+J1FYopI4rm1pVmfplKiXImQE7evSJXZg+bI/n0Fs4+QN+YCAggggAACCCCAAAIIIIAAAggggAACCCCAAAIIIIAAAggggAACCBQagaSkLdLhtNOOiud5tn+/o2IfbMJfIKpGzcRCFaWiwUAt7z5e4uvE+T/xf73pKemy7LsVsv6P9fkWqBNVJEqqdagm9S6uI8UT/IOV7E1pkNCsgbMlIzXD7uITAQQQQAABBBBAAAEEEEAAAQQQQAABBBBAAAEEEEAAAQQQQAABBBDIs0C37j2kW/fueZ6f14la+kzbtyO+kQX/Hed1LeYVrEChCxRSriLFikiT6xtL1XZVctTbvWm3bPx7kyTNTpbU5SbL0P7cxU1FRUVJXN04U16svFRpW1lKVS6V4z213Nj89xfIvsx9OY4tTAMSypaVTmd1lsQ6daVU6VKidmm7d0tycrJMHP+7LF2yuDA9ru+zREdHy2133mOeXeSn0aNk4YL5vuOOlc5WrU+UZs2aS/UaNSWmeIykbEuRlSuXy+RJf0jSli3ZMhzK3GwX5iICCCCAAAIIIIAAAggggAACCCCAAAIIIIAAAggggAACCCCAAAKFVKBQBgrZ76rOBYlSv0c9MZXGwmoZOzIl+d8kSVm6XTK2Z0i6yfajn3bWH81WFBMfI8X/+0yoHy/lm1eQmDLFwlpfTAzSkq+XysrRq8IbX4hGndX5HDm1Q/ZpzrZs3izvvzfUCh4qRI/uepSYmBh55LEnrL6xY0bL1Ml/uq7n5aRMXJwVgKVzf//1F9m+PSUvyxz2Od169JIWLVv63nffvn0y/L13Zc1q/z8rhzLX94Z0IoAAAggggAACCCCAAAIIIIAAAggggAACCCCAAAIIIIAAAgggcAwIRBfmZ1wxaqXsXLdTmvVpKtElc35UDfipekpV6ye/XbLSsmTukHmyZVZSfi991K/Xvdcl0rzF8YF9ZmVlyepVq2TL5k1SsVJlqVO3rpVdqGKlSnLzLbfJoIGvyN69ewPjOcheoKzJ1HR8q1bWoNmzZkZEoNCFXS4OBAlpVqnZs2ZJSso2qWOyTTVs3FiKFCki19/UW15/5WWr3ylwKHOd63CMAAIIIIAAAggggAACCCCAAAIIIIAAAggggAACCCCAAAIIIIDAsSaQc/RMhItoYM6kBydLva51pEbHGhJVNMz0Qvn03Pv37pe1v6+V5SNXSsaOjHxaNXKWOa5hI1eQ0FdffCbz5851PUCp0qXluhtuMkFDlSQ+IUEu7tFTvvnyC9cYTgqXgB04tnPHTnnjtVckPT3desC/pkyWxk2byiWXXWEFj2nGIS1L52yHMte5DscIIIAAAggggAACCCCAAAIIIIAAAggggAACCCCAAAIIIIAAAggcawKFPlBIX2jmzkxZ+MliWTVujTQwpcgqt618WN7zpr83yZJvlkna5rTDcr+j8SYXd+8R2NZPo0Z5goT04u5du2TIW2/KvQ88JCVLlZLGTZpKlMkos9+UnwpuxYoVk5atTpDKVapKTPEY2ZqcLPPm/muyE20OHmqd106sI7Vq15adO3fKzBnTpWatWlbgUvnyFWTjxg1WEIodpJJgMvNoEErNWrVlx45UWbxooflZ5NmH7u3U9h2sQJY5s2dJamqq1KtXX+rWqyexZcpYe5n5zwzZuWOH757C6dQ9NziuoZQtW062bdsma9eulkULF4rsN/Xr/mvFS5SQtiedLDVq1rK75BSzrxo1a8qePXtk2l9TA/32QUJCWSuTT/kKFWRP2h5Zv36dLJw/LxCoY48ryE/dg747bZMn/eG594J588ze0qREyZLSqHETV6DQocy1n0nfX40aNUS/G5UrV5Hk5CRT4my1LFu21OVrjw/ns0LFiqJBcZVMhiwtdZi0ZYv5vs2QXbt2Zjs9Li5eWrVuLfo+dpjv0Yrly2Xp0iVSrlw5adqsuXnd+2XSxAn+a0RFmT8rTaRWrUQpY753WnJu+bJlsszMpyGAAAIIIIAAAggggAACCCCAAAIIIIAAAggggAACCCCAAAIIIOAncEwECtkPrgE7c96aK3FjVkvdLolSvll5KVKsiH05Xz73Ze6T5LnJVgah1JWp+bJmpC5SpWpVK/BH97/YBLn8NXVyyEfRcmR/mqCRszqfI0WLFpXjTJDMooULXOObNW8h3Xr2sspSOS+c3vFMExyxVD7+4H1nt3Xc9uSTpUnTZlYwUrly5aX9aacFxtStX19ObHuSvDCgnwnWOFHOv/AiK/jHHnCC6dMAkvffG+oKFioWHS2dzu5sDUszAS0arKPZkJztzLPOll/H/Rw6yMM52HEcbQKh+vS91bOeDtHsO1998alVtk3PNZhE7+Ns9Rs0EP3R0m3BgUJdTdCWBlkFt71dL5afRo+S6X//FXypQM71/c6eOdNae/48d3Yp+4YavKWBQsWLF7e7rM9DmasLaGDODb37WJmrXAubk5RtKTJ82FDZnpISfCnkeenSsdLrsstN0FGiZ4x+R6ZO/lPGjhntuaYdHTudJaed0dF1TQO9Nm/aZEqxzQy820l/TPQEMOl3+eZbbw8EXNmL6PwdqTvk7cGDrO+83c8nAggggAACCCCAAAIIIIAAAggggAACCCCAAAIIIIAAAggggAACKlA0Lj7hyWONIj0lXTb+tUlW/7xGUlftEC0PVqJ8CSmax6ChzN1Zsnn6ZhMctEIWDF8oGyZvFL3Hsd7an3a6ld1GHSaY8lGbN23MlmTNmtUyxQQLaQaVLSYjizN7jgZiXH7V1YEgIQ0s0iCdmJgDmWk0aKZixUoSHHiiWVk0iEcDcHSNfSZLkWYhKmmCUKJMRhYNPClr5upe9XyXyW6k2Ww0W4+2+Ph4KRMXZwU62ZvXOR1OP8M6rVO3rnVdTzQzklnEWlPPNcPQpo0bJSnJPMt/zTlXM7+sXbPGvmR93tD7ZtEAK22aTUaDVzRYRvemWXg00GfWzH8k3WQMii4abQUF6V6LmCw52vT5kpOSZNvWraJZjex2xpmd5OR2p9inVjBJlEl9UzS6qDX3uIYNrTmbcnhHgQUO4SAtbbcsXDDf+klP3+NZSYNvNIhGn3n58mWud3ooc/Xd3PfQw6Kl7rRlZGTIxg0brO+CvpcSJUuYLD4tZMrkSZ49hero3fcWqVa9unVZ7dVdv5ca5KT712xPmrlp3Vr3e27RspWce/4FgWV1L/pOi5nvc+nYWEmsUyfwTif8/ltgnB5o1q3b7rjbfEcPBFHp90SzEdnfWf2+NDdBdRr4pXuiIYAAAggggAACCCCAAAIIIIAAAggggAACCCCAAAIIIIAAAgggYAscUxmF7Ie2P/em77UCfDTIJ6pIlJRtVFbiEstI8fjiUjwhRmISzGd8jDk+8At5Df5J354hGfqZYn6xvz1dUlfukG0Lt5mMMwdLQtnrH+ufZU3WE7utXLHcPgz9aQIeNGAiuGmgzjXX32gFXmhQxCcffhAor6QZYjSASINrmjZvbpUT8yvVpEEbGnTz1puvS4bJVqOBIVdde70VkKHlxrR9+/VXoqXEtMXHJ8itd95lBSI1aHCc1ef3Hy2Fphlchr4z2ArW0DEa5GHv95LLr5CBL71oypNt95vu6ruwy8VS3ZTE0qZlq0b98L2VGUgDXE46uZ0VWKLPccVV18hbb7wuKSnb5M3XB1ql1a6/qY817+MPhpvyVcusY/s/DRs3Fs26pE1LYg0b+o4VzKLner8b+/S1bC+6uJssMuXWNGAl3KZBK/tM9iK7fFu487Ibpxl69Dm1Tfnzz+yGeq5lN1ffo74vbTOmTZMfR34XmH/u+RfKSe3amaCvMtKwUWNPNqvAQMeBZqGyM0mtX7dOPhw+LGCnwWe33nGXRJvsU63btHFl09IyZXZJPg3kGTZ0SCCQSL/PfW69TUr/F8zkuF3gsE/f2wJBQr/9Ms4q36YZpGJMgNDZJiOXZsmKMwFu+h3Ud01DAAEEEEAAAQQQQAABBBBAAAEEEEAAAQQQQAABBBBAAAEEEEDAFjimA4VsBP3UQJ+t87daP85+jvMuEGcCfLRpEINmPMlra9q0eSC7ipbI0kw8dtMAHA3QuPeBhw4EZZzYNmS5r88//cgKEtK5uictCXWzCcrQpuWe7CAhPd++PUX+mT5dTj7lFCtjkGbs8cvOooFLHwx71/V8K1eskDE//iDnX9TFCnjRQJ3gMmB6j+DWomVLq0uzDI38bsTBy+Yef02ZLHXq1BVdq1LlylZWmbTduw+Oyebo5JMPZBLKSM+Qd4e8HQhm0Snr1q6VH77/TrqYICENatEybTNnTM9mtYOX2piAFH1GNfj6y89l/lz/MmIHZ+R8pJma7DJeixctCgTQ5DxTrCxP2c2tZ0rN2W3a31PtQ+vzpzGjTBarzbJi2TLZujXZdS3UiTpt2rhBNNDsVxOwk5WZGRiqmYUWzp8vzVq0kHLlDwbM6QDNcmUHQo0wwWnObEP6fR5uSt1pkJE9JrCoOYhPSJCEsglWl5bb+2PC+MBlDYAb9cNI41fHCmCqWauWFDEBcRrIRUMAAQQQQAABBBBAAAEEEEAAAQQQQAABBBBAAAEEEEAAAQQQQEAFDtQrwgKBAhDQrD3aNCjnUJpm6NGm2Yb+njrFs5QGzMyY9rfVH58Qb5X/Ch6kQT5aBszZNm5YbwW5aF9wCTDtcwaM2GWdtN/ZNJNMcnKSs8s6nmbKPtnPbQeveAY5OjQzj53tJlTpK13TbtWqHSh3ZZ9n92mXMlu4cL4rSMie4yxRVq1aNbs7x8+TTznVGqMBLSe3O3Cc46RsBjQz5bLOPOtsa4SWfxvx9ZfZjHZfCmfuJhMMZjfNytSocRP71Cpzp98h5zs/eDH0kb5/DThzBgnp975mrdomW1NNa6Ke26XhtKNW7USrP31Pusz7d4517PyPZn0K/q7a1+vWOxjs9KMJ8PJro38cGeiuaUqf0RBAAAEEEEAAAQQQQAABBBBAAAEEEEAAAQQQQAABBBBAAAEEELAFyChkS/CZ7wI7duywMpvExJjybaYsUl7LU1WrfqAcV8q2bSH3qJlxtGnQSlVThmzD+vWusVlZWa7z4JOsrIPZYALXTKacnNqmTe7gI+f47SnbTTaZclKt2oH9O68FH9epWzfQ1fOSy2Rfz32Bc/vAGWxSrXp1V2Yle0zwpwYflShZ0upucXxLK5tN8BjneeUqVZ2n2R7Pm/uvlcVHB/37X8m2bCdkc1EDYLr3usQaoQFW77z1pm9Qk98S4c6dPfMfOevszlLKlPXS0lyXXnGlFcyl2aQWzJ8n002gULhZmpz70EA2Lfel7zkuPs4qa+e8HnxcpUoVq8svwMweq98rO8DL7tNP+3uiWZy09Jxf0+Alu9WtV09WrVxhn/KJAAIIIIAAAggggAACCCCAAAIIIIAAAggggAACCCCAAAIIIHCMCxAodIx/AQry8bV8l900i8qSxYvs01x9lipdyhqfun17yHnbtm0NXKtYsZInUChwMZ8PsiuptmvXTitQqLQJTMmp6Z7tpsFOdjYmuy/4Mza2THCX73lw2auc1g1nr/aNfjPltv6dM9vKyqRZcPLaNOjpymuutYK8DpRye0+yCwpz3ic3czWr1OuvvizdevSS4xo1su6nHlVNFiX96djpLPl13M/y5x8TnbcIeaxzb+h9s+gegpveS3+0nFtwizFBc9r27NkTfClwnrY7LXDsPChX7kAZMy0jF6pp5i111O9R+QoVQg2jHwEEEEAAAQQQQAABBBBAAAEEEEAAAQQQQAABBBBAAAEEEEDgGBTw/hb7GETgkQtGYNGCBdLqhNbW4vXq188xUOi4ho3koq7drPHfjfg6kDHHzsxTrnzooIfKlQ9kadHJa9asttY4HP+pVLlyyNuULVvOuhZOOSs7I5JO+GnUKPMMq0KuqxdSUg4GYWU3cMvmzYHLy5culV9/+Tlw7neQZkp+5aY518/NPHusBjJpsI2dLenLzz6VNauzf/ZDmatZrT7/9GMpYoJ86tdvIPqda9SkiWiAlAbWnNX5HCvIbPmypfZtQn52Pvf8QJCQBu78ZcrirVi+TDQb0O5du6T9aadLJ5PBKLht27rVyrRVsWLF4EuBczvrUKDjv4MN69eZkmY1pHgJE2xk9msigoKHWBmT9Fm0ObMLeQbSgQACCCCAAAIIIIAAAggggAACCCCAAAIIIIAAAggggAACCCBwzAkQKHTMvfLD98CLFi20Sjtp5pW2J7cz2WfmyLq1a0Ju4MyzzpbYMrHW9bWOYB8NmtESXgllE6wAj32mNFVwS6xzoHSXlq3SQIzD1apUqeZ7q2hT8qt07IFMQs4gIN/BptNZHiqmeEy+BXhoVhvNelQmLk6KmRJwR1PgSGyZMnLzrbcHsid9N+IbWbhgfigiV/+hzNWF9Du02Hw/9efHkd/Jye1OlXPOP9+6R6vWrSWcQKH6DRpY4zMzM+WFZ/tZ33Wr47//hAoiW7N6tRUopM+gPztNiT5n0yAmu9yes1+Ply9bZpU50+PqpiSf35+nOnXr6WWrLVu6xD7kEwEEEEAAAQQQQAABBBBAAAEEEEAAAQQQQAABBBBAAAEEEEAAASmCAQIFJmCynUyeNMlaXjOcXHfjTRKfkOB7u/MuuEgqVzmQFUgDazTzi91WLF9uHWrWma7dutvdgU8tG9WsRQvrPDkpKdB/OA7Klisrx7c6wXOrHj0vsTLU6IVVq1Z6rgd3aLBJ2u7dVvep7U+zssIEjznhxDby4CP/Jz0vvUzi4uIDl51JZUr5lDmzA5Vq1KwptRPrBObZB1rO6uH/e1yuuf5GSazjvW6Py8/PEiVKyC233SExJnhJ20+jR8nsmf+EdYu8zr3o4m5y/8OPSl9z3+D2999TA112dqNAR4iDYsUO7F0DsTRAzdm0vFjDho2dXYHj5SbrkDb9M3Fj774SZb7XznbJZVeIBov5Nc1YZLdLLrvcM7eYCVDr8l9WLi0/tmnjRns4nwgggAACCCCAAAIIIIAAAggggAACCCCAAAIIIIAAAggggAACCAgZhfgSFKjAb7+Ok+YtjreyAUVHR8ud99xnSkutlvnz5poghg2iGXlOad9e4uIPBL5owMXXX3zu2tO8uf9KJ5NtSLPitDi+pWRmZMo0E9ix3ZTfOr7lCdKx01mB8T//NCZwfLgOupgAlFIlS8ns2TOtElaanUbLWWnTElQL588Layu/jPvZlF672Cordcttd8qoH76XpSYjjGYFOqH1iXLeBRdaJboaNmosI7/7NrBmcvLB4KhTTm0vmo3JziSkg37/7Vc5rlEja+41198go3/8wexpvuzatdMKDNLAFC1lVaduXRn/2y+BdQvqQLMt3XzrHYFgKP0+aBYoLQMW3DTYRQ32GwNthzJX35GWGNMfLXE3cfzvsmNHqnnueq7v0Kx/wgtYWr58qfn+tTLZrspbGYmmTp1sBf/UNAFZPS+5LGSwz7x/50jbk06SWrUTrT8Xj/zvcVm5YoVkZmZYgVy6v1Btz549smDePGnctKn1Z+b6G3tbz7FyxXLrHZ/RsVPgvlP+PBCkF2ot+hFAAAEEEEAAAQQQQAABBBBAAAEEEEAAAQQQQAABBBBAAAEEjj0BAoWOvXd+eJ/YBHq8/ebrcmOfvla5Jc3WUjsx0foJ3ogGCQ1/b6ikpGxzXcoy2XbeGfymFWSkmVZat2lj/bgGmRMNnjncpZY0WEmzJHU+7zzrx7knfZ6h77xlAkAynd0hj/+ZPs1kCoqT0zueaZVgu/SKK33HaqBPhiPjkgYjpWxLsYJOqlWvLnff94A1r9+Tj1uZbjZv2igffzBcrr7ueitY6MIuXUV/gpsGZK1etSq4O9/PW53Q2tqrvXDNWrXk8quutk89ny8+N8AKuNILhzJ37JjR0rBxYyuY54QTTxT9CW6akUoDk8Jpf0+dYgWuaWYgLVtmly6z5+r717J7fu2DYe9ZmY0qVqokmgWowXHHBYZlZWWJvgsNQvJrX37xmfS++RZTnqy6qN2V11zrGbbABKeNG/uTp58OBBBAAAEEEEAAAQQQQAABBBBAAAEEEEAAAQQQQAABBBBAAIFjW8Bd8+bYtuDpC0hAy4gNfuN1GTt6tMlis8tzFw2o+Gf6dHnh2f4mG84az3Xt0Ow3Q956U7Zs3uy5npGRIWNG/SgzZ0z3XNOMNOE0v3H7HHPtjDbBa02dMtnK6BI8X5/zo+HDTACPO+jJOc55bK873mT/0R8NFgluO1J3yLCh7/g+5wfvvytJW7a4pmgQid20ZNUXn34iO3fstLsCnxrI9OPI7z2ZnAID8vvA4RrO0i77Q5irAWivv/qy73fI+g6a788brw8MZC/KaW/r162Td00gWPqeg2Xy7DmaMevXn3+2Tz2fmvHp7cFvyKcffWhKrs20smNt3LBBZkybJgNfelGyLaFnDN5/d4gsWbzYs65+p2bPmilffv6Z5xodCCCAAAIIIIAAAggggAACCCCAAAIIIIAAAggggAACCCCAAAIIRNWomRheJAVWCOSTQEzx4lKxYkUru40G/mg5pdy02DJlpHLlKtZ8Df7YogEyuQwgyc39gsfGxMTII489YXVrlpqpk/+UIiZzTG1TSqpEiRKyedMmcZYDC54fznmUybxUoUIFSUgoKxoItX7d2rAyE+netBTW7l27JTV1u++tdM0Kxl+DSjZsWB/I1uM7uJB2ahm8KlWrSklTjkwNdu7YcUhPWjo2VmqYkmMZ6RmyzrwrZ8anvCx8kSlnp+Xm9B09/fj/Qi6hf5b0z0Kp0qWsZ9hkvnuagYuGAAIIIIAAAggggAACCCCAAAIIIIAAAggggAACCCDw/+3dMWtTURgG4JOWTsFidwUXrYJWl6KDuqvVvyKIv0XEf6DgrriJrioarNVN69o6NIKDiTmZ2pIGe2MD8X3u1Nzk5uZ9vtPt5VwCBAgQIDBKwKPHRqk4d6QCtUTxfXOz8T1qqWPSYkfjmx9wYW+wK1LdtedfHXUXnVqiGrWD0rh71FJR3Zlm3FHLVfsf7zbu8//je3XHpoN2r2qSt7uzUzbW1//60tXLV8rVa9fLo4cPSr1291Efz7d89tzw1P5donZ/rv5d/5e+fT36x8Xtv6/XBAgQIECAAAECBAgQIECAAAECBAgQIECAAAECBAgQIDCbAopCszk3v5oAgRkVOH1mudxcuz389Xfv3R8+Nu/L543SarXKysVLg52EVku73R6+/+kQ5aMZ5fCzCRAgQIAAAQIECBAgQIAAAQIECBAgQIAAAQIECBAgQGCKAopCU8R2KwIECNRSUOfD+3L+wkpZWFgodwaPGRt11J2hXr96Oeot5wgQIECAAAECBAgQIECAAAECBAgQIECAAAECBAgQIECAQCMBRaFGbC5KFuj1++X34FFj9fg1ePSTg8BhBZ4+eVw+djrlxq21cmxxcc/lP7vd8u7tm/Li+bM9570gQIAAAQIECBAgQIAAAQIECBAgQIAAAQIECBAgQIAAAQKTCrROnDzVn/RLXE+AAAECzQWOLy2V+bn5srW9Vfq9XvMvciUBAgQIECBAgAABAgQIECBAgAABAgQIECBAgAABAgQIEBgjYEehMTjeIkCAwDQEfmxvT+M27kGAAAECBAgQIECAAAECBAgQIECAAAECBAgQIECAAAEC4QJz4fnFJ0CAAAECBAgQIECAAAECBAgQIECAAAECBAgQIECAAAECBAgQIBAhoCgUMWYhCRAgQIAAAQIECBAgQIAAAQIECBAgQIAAAQIECBAgQIAAAQIE0gUUhdJXgPwECBAgQIAAAQIECBAgQIAAAQIECBAgQIAAAQIECBAgQIAAAQIRAopCEWMWkgABAgQIECBAgAABAgQIECBAgAABAgQIECBAgAABAgQIECBAIF1AUSh9BchPgAABAgQIECBAgAABAgQIECBAgAABAgQIECBAgAABAgQIECAQIaAoFDFmIQkQIECAAAECBAgQIECAAAECBAgQIECAAAECBAgQIECAAAECBNIFFIXSV4D8BAgQIECAAAECBAgQIECAAAECBAgQIECAAAECBAgQIECAAAECEQKKQhFjFpIAAQIECBAgQIAAAQIECBAgQIAAAQIECBAgQIAAAQIECBAgQCBdQFEofQXIT4AAAQIECBAgQIAAAQIECBAgQIAAAQIECBAgQIAAAQIECBAgECGgKBQxZiEJECBAgAABAgQIECBAgAABAgQIECBAgAABAgQIECBAgAABAgTSBRSF0leA/AQIECBAgAABAgQIECBAgAABAgQIECBAgAABAgQIECBAgAABAhECikIRYxaSAAECBAgQIECAAAECBAgQIECAAAECBAgQIECAAAECBAgQIEAgXUBRKH0FyE+AAAECBAgQIECAAAECBAgQIECAAAECBAgQIECAAAECBAgQIBAhoCgUMWYhCRAgQIAAAQIECBAgQIAAAQIECBAgQIAAAQIECBAgQIAAAQIE0gUUhdJXgPwECBAgQIAAAQIECBAgQIAAAQIECBAgQIAAAQIECBAgQIAAAQIRAopCEWMWkgABAgQIECBAgAABAgQIECBAgAABAgQIECBAgAABAgQIECBAIF1AUSh9BchPgAABAgQIECBAgAABAgQIECBAgAABAgQIECBAgAABAgQIECAQIaAoFDFmIQkQIECAAAECBAgQIECAAAECBAgQIECAAAECBAgQIECAAAECBNIFFIXSV4D8BAgQIECAAAECBAgQIECAAAECBAgQIECAAAECBAgQIECAAAECEQKKQhFjFpIAAQIECBAgQIAAAQIECBAgQIAAAQIECBAgQIAAAQIECBAgQCBdQFEofQXIT4AAAQIECBAgQIAAAQIECBAgQIAAAQIECBAgQIAAAQIECBAgECGgKBQxZiEJECBAgAABAgQIECBAgAABAgQIECBAgAABAgQIECBAgAABAgTSBRSF0leA/AQIECBAgAABAgQIECBAgAABAgQIECBAgAABAgQIECBAgAABAhECikIRYxaSAAECBAgQIECAAAECBAgQIECAAAECBAgQIECAAAECBAgQIEAgXUBRKH0FyE+AAAECBAgQIECAAAECBAgQIECAAAECBAgQIECAAAECBAgQIBAhoCgUMWYhCRAgQIAAAQIECBAgQIAAAQIECBAgQIAAAQIECBAgQIAAAQIE0gUUhdJXgPwECBAgQIAAAQIECBAgQIAAAQIECBAgQIAAAQIECBAgQIAAAQIRAopCEWMWkgABAgQIECBAgAABAgQIECBAgAABAgQIECBAgAABAgQIECBAIF1AUSh9BchPgAABAgQIECBAgAABAgQIECBAgAABAgQIECBAgAABAgQIECAQIaAoFDFmIQkQIECAAAECBAgQIECAAAECBAgQIECAAAECBAgQIECAAAECBNIFFIXSV4D8BAgQIECAAAECBAgQIECAAAECBAgQIECAAAECBAgQIECAAAECEQKKQhFjFpIAAQIECBAgQIAAAQIECBAgQIAAAQIECBAgQIAAAQIECBAgQCBdQFEofQXIT4AAAQIECBAgQIAAAQIECBAgQIAAAQIECBAgQIAAAQIECBAgECGgKBQxZiEJECBAgAABAgQIECBAgAABAgQIECBAgAABAgQIECBAgAABAgTSBRSF0leA/AQIECBAgAABAgQIECBAgAABAgQIECBAgAABAgQIECBAgAABAhECikIRYxaSAAECBAgQIECAAAECBAgQIECAAAECBAgQIECAAAECBAgQIEAgXUBRKH0FyE+AAAECBAgQIECAAAECBAgQIECAAAECBAgQIECAAAECBAgQIBAh8Ad26n0urRvcJQAAAABJRU5ErkJggg==)"
      ]
    },
    {
      "cell_type": "code",
      "execution_count": null,
      "metadata": {
        "id": "a9V9AYYWGznP"
      },
      "outputs": [],
      "source": []
    }
  ],
  "metadata": {
    "accelerator": "GPU",
    "colab": {
      "gpuType": "T4",
      "provenance": [],
      "include_colab_link": true
    },
    "kernelspec": {
      "display_name": "Python 3",
      "name": "python3"
    },
    "language_info": {
      "codemirror_mode": {
        "name": "ipython",
        "version": 3
      },
      "file_extension": ".py",
      "mimetype": "text/x-python",
      "name": "python",
      "nbconvert_exporter": "python",
      "pygments_lexer": "ipython3",
      "version": "3.9.7"
    },
    "widgets": {
      "application/vnd.jupyter.widget-state+json": {
        "41d7bedea67640a2be4a0b91e52d802f": {
          "model_module": "@jupyter-widgets/controls",
          "model_name": "HBoxModel",
          "model_module_version": "1.5.0",
          "state": {
            "_dom_classes": [],
            "_model_module": "@jupyter-widgets/controls",
            "_model_module_version": "1.5.0",
            "_model_name": "HBoxModel",
            "_view_count": null,
            "_view_module": "@jupyter-widgets/controls",
            "_view_module_version": "1.5.0",
            "_view_name": "HBoxView",
            "box_style": "",
            "children": [
              "IPY_MODEL_b3914dfa3f364dffbbcb2ac84a9248cd",
              "IPY_MODEL_a51fea1ed74340449b579474f4278cda",
              "IPY_MODEL_d945ebab38d4404e86b37cfce5d763d8"
            ],
            "layout": "IPY_MODEL_4e17774cf865462389eec9aac42a50b6"
          }
        },
        "b3914dfa3f364dffbbcb2ac84a9248cd": {
          "model_module": "@jupyter-widgets/controls",
          "model_name": "HTMLModel",
          "model_module_version": "1.5.0",
          "state": {
            "_dom_classes": [],
            "_model_module": "@jupyter-widgets/controls",
            "_model_module_version": "1.5.0",
            "_model_name": "HTMLModel",
            "_view_count": null,
            "_view_module": "@jupyter-widgets/controls",
            "_view_module_version": "1.5.0",
            "_view_name": "HTMLView",
            "description": "",
            "description_tooltip": null,
            "layout": "IPY_MODEL_a395c9882ffb4fa488eaf5d472f46b0e",
            "placeholder": "​",
            "style": "IPY_MODEL_7a97804f69f74e258df40d9d01f7a46b",
            "value": "Map: 100%"
          }
        },
        "a51fea1ed74340449b579474f4278cda": {
          "model_module": "@jupyter-widgets/controls",
          "model_name": "FloatProgressModel",
          "model_module_version": "1.5.0",
          "state": {
            "_dom_classes": [],
            "_model_module": "@jupyter-widgets/controls",
            "_model_module_version": "1.5.0",
            "_model_name": "FloatProgressModel",
            "_view_count": null,
            "_view_module": "@jupyter-widgets/controls",
            "_view_module_version": "1.5.0",
            "_view_name": "ProgressView",
            "bar_style": "success",
            "description": "",
            "description_tooltip": null,
            "layout": "IPY_MODEL_e727ae462dae4a94a2ef8c08ad4b34f3",
            "max": 3338,
            "min": 0,
            "orientation": "horizontal",
            "style": "IPY_MODEL_69425b4e591e4c5c9996f0e5d15b4718",
            "value": 3338
          }
        },
        "d945ebab38d4404e86b37cfce5d763d8": {
          "model_module": "@jupyter-widgets/controls",
          "model_name": "HTMLModel",
          "model_module_version": "1.5.0",
          "state": {
            "_dom_classes": [],
            "_model_module": "@jupyter-widgets/controls",
            "_model_module_version": "1.5.0",
            "_model_name": "HTMLModel",
            "_view_count": null,
            "_view_module": "@jupyter-widgets/controls",
            "_view_module_version": "1.5.0",
            "_view_name": "HTMLView",
            "description": "",
            "description_tooltip": null,
            "layout": "IPY_MODEL_9e33728e77294bb3833336c53e940467",
            "placeholder": "​",
            "style": "IPY_MODEL_0728307b191549e195657c59596b2d2e",
            "value": " 3338/3338 [00:01&lt;00:00, 2103.54 examples/s]"
          }
        },
        "4e17774cf865462389eec9aac42a50b6": {
          "model_module": "@jupyter-widgets/base",
          "model_name": "LayoutModel",
          "model_module_version": "1.2.0",
          "state": {
            "_model_module": "@jupyter-widgets/base",
            "_model_module_version": "1.2.0",
            "_model_name": "LayoutModel",
            "_view_count": null,
            "_view_module": "@jupyter-widgets/base",
            "_view_module_version": "1.2.0",
            "_view_name": "LayoutView",
            "align_content": null,
            "align_items": null,
            "align_self": null,
            "border": null,
            "bottom": null,
            "display": null,
            "flex": null,
            "flex_flow": null,
            "grid_area": null,
            "grid_auto_columns": null,
            "grid_auto_flow": null,
            "grid_auto_rows": null,
            "grid_column": null,
            "grid_gap": null,
            "grid_row": null,
            "grid_template_areas": null,
            "grid_template_columns": null,
            "grid_template_rows": null,
            "height": null,
            "justify_content": null,
            "justify_items": null,
            "left": null,
            "margin": null,
            "max_height": null,
            "max_width": null,
            "min_height": null,
            "min_width": null,
            "object_fit": null,
            "object_position": null,
            "order": null,
            "overflow": null,
            "overflow_x": null,
            "overflow_y": null,
            "padding": null,
            "right": null,
            "top": null,
            "visibility": null,
            "width": null
          }
        },
        "a395c9882ffb4fa488eaf5d472f46b0e": {
          "model_module": "@jupyter-widgets/base",
          "model_name": "LayoutModel",
          "model_module_version": "1.2.0",
          "state": {
            "_model_module": "@jupyter-widgets/base",
            "_model_module_version": "1.2.0",
            "_model_name": "LayoutModel",
            "_view_count": null,
            "_view_module": "@jupyter-widgets/base",
            "_view_module_version": "1.2.0",
            "_view_name": "LayoutView",
            "align_content": null,
            "align_items": null,
            "align_self": null,
            "border": null,
            "bottom": null,
            "display": null,
            "flex": null,
            "flex_flow": null,
            "grid_area": null,
            "grid_auto_columns": null,
            "grid_auto_flow": null,
            "grid_auto_rows": null,
            "grid_column": null,
            "grid_gap": null,
            "grid_row": null,
            "grid_template_areas": null,
            "grid_template_columns": null,
            "grid_template_rows": null,
            "height": null,
            "justify_content": null,
            "justify_items": null,
            "left": null,
            "margin": null,
            "max_height": null,
            "max_width": null,
            "min_height": null,
            "min_width": null,
            "object_fit": null,
            "object_position": null,
            "order": null,
            "overflow": null,
            "overflow_x": null,
            "overflow_y": null,
            "padding": null,
            "right": null,
            "top": null,
            "visibility": null,
            "width": null
          }
        },
        "7a97804f69f74e258df40d9d01f7a46b": {
          "model_module": "@jupyter-widgets/controls",
          "model_name": "DescriptionStyleModel",
          "model_module_version": "1.5.0",
          "state": {
            "_model_module": "@jupyter-widgets/controls",
            "_model_module_version": "1.5.0",
            "_model_name": "DescriptionStyleModel",
            "_view_count": null,
            "_view_module": "@jupyter-widgets/base",
            "_view_module_version": "1.2.0",
            "_view_name": "StyleView",
            "description_width": ""
          }
        },
        "e727ae462dae4a94a2ef8c08ad4b34f3": {
          "model_module": "@jupyter-widgets/base",
          "model_name": "LayoutModel",
          "model_module_version": "1.2.0",
          "state": {
            "_model_module": "@jupyter-widgets/base",
            "_model_module_version": "1.2.0",
            "_model_name": "LayoutModel",
            "_view_count": null,
            "_view_module": "@jupyter-widgets/base",
            "_view_module_version": "1.2.0",
            "_view_name": "LayoutView",
            "align_content": null,
            "align_items": null,
            "align_self": null,
            "border": null,
            "bottom": null,
            "display": null,
            "flex": null,
            "flex_flow": null,
            "grid_area": null,
            "grid_auto_columns": null,
            "grid_auto_flow": null,
            "grid_auto_rows": null,
            "grid_column": null,
            "grid_gap": null,
            "grid_row": null,
            "grid_template_areas": null,
            "grid_template_columns": null,
            "grid_template_rows": null,
            "height": null,
            "justify_content": null,
            "justify_items": null,
            "left": null,
            "margin": null,
            "max_height": null,
            "max_width": null,
            "min_height": null,
            "min_width": null,
            "object_fit": null,
            "object_position": null,
            "order": null,
            "overflow": null,
            "overflow_x": null,
            "overflow_y": null,
            "padding": null,
            "right": null,
            "top": null,
            "visibility": null,
            "width": null
          }
        },
        "69425b4e591e4c5c9996f0e5d15b4718": {
          "model_module": "@jupyter-widgets/controls",
          "model_name": "ProgressStyleModel",
          "model_module_version": "1.5.0",
          "state": {
            "_model_module": "@jupyter-widgets/controls",
            "_model_module_version": "1.5.0",
            "_model_name": "ProgressStyleModel",
            "_view_count": null,
            "_view_module": "@jupyter-widgets/base",
            "_view_module_version": "1.2.0",
            "_view_name": "StyleView",
            "bar_color": null,
            "description_width": ""
          }
        },
        "9e33728e77294bb3833336c53e940467": {
          "model_module": "@jupyter-widgets/base",
          "model_name": "LayoutModel",
          "model_module_version": "1.2.0",
          "state": {
            "_model_module": "@jupyter-widgets/base",
            "_model_module_version": "1.2.0",
            "_model_name": "LayoutModel",
            "_view_count": null,
            "_view_module": "@jupyter-widgets/base",
            "_view_module_version": "1.2.0",
            "_view_name": "LayoutView",
            "align_content": null,
            "align_items": null,
            "align_self": null,
            "border": null,
            "bottom": null,
            "display": null,
            "flex": null,
            "flex_flow": null,
            "grid_area": null,
            "grid_auto_columns": null,
            "grid_auto_flow": null,
            "grid_auto_rows": null,
            "grid_column": null,
            "grid_gap": null,
            "grid_row": null,
            "grid_template_areas": null,
            "grid_template_columns": null,
            "grid_template_rows": null,
            "height": null,
            "justify_content": null,
            "justify_items": null,
            "left": null,
            "margin": null,
            "max_height": null,
            "max_width": null,
            "min_height": null,
            "min_width": null,
            "object_fit": null,
            "object_position": null,
            "order": null,
            "overflow": null,
            "overflow_x": null,
            "overflow_y": null,
            "padding": null,
            "right": null,
            "top": null,
            "visibility": null,
            "width": null
          }
        },
        "0728307b191549e195657c59596b2d2e": {
          "model_module": "@jupyter-widgets/controls",
          "model_name": "DescriptionStyleModel",
          "model_module_version": "1.5.0",
          "state": {
            "_model_module": "@jupyter-widgets/controls",
            "_model_module_version": "1.5.0",
            "_model_name": "DescriptionStyleModel",
            "_view_count": null,
            "_view_module": "@jupyter-widgets/base",
            "_view_module_version": "1.2.0",
            "_view_name": "StyleView",
            "description_width": ""
          }
        },
        "ee959c7a0d014b96b6586dd9a59ce787": {
          "model_module": "@jupyter-widgets/controls",
          "model_name": "HBoxModel",
          "model_module_version": "1.5.0",
          "state": {
            "_dom_classes": [],
            "_model_module": "@jupyter-widgets/controls",
            "_model_module_version": "1.5.0",
            "_model_name": "HBoxModel",
            "_view_count": null,
            "_view_module": "@jupyter-widgets/controls",
            "_view_module_version": "1.5.0",
            "_view_name": "HBoxView",
            "box_style": "",
            "children": [
              "IPY_MODEL_40a17431d1364fd988e720b59de8b23e",
              "IPY_MODEL_49ba21c9604b46e08ed2a9660986b5a0",
              "IPY_MODEL_f0e3d757f8c244f187a6b72e76535185"
            ],
            "layout": "IPY_MODEL_863e01007d8b4b93a7d4d1a644fd2f27"
          }
        },
        "40a17431d1364fd988e720b59de8b23e": {
          "model_module": "@jupyter-widgets/controls",
          "model_name": "HTMLModel",
          "model_module_version": "1.5.0",
          "state": {
            "_dom_classes": [],
            "_model_module": "@jupyter-widgets/controls",
            "_model_module_version": "1.5.0",
            "_model_name": "HTMLModel",
            "_view_count": null,
            "_view_module": "@jupyter-widgets/controls",
            "_view_module_version": "1.5.0",
            "_view_name": "HTMLView",
            "description": "",
            "description_tooltip": null,
            "layout": "IPY_MODEL_2eac9168ea3243319175838fdedef907",
            "placeholder": "​",
            "style": "IPY_MODEL_68c92e7661f84b38ada48b1a7808f1c2",
            "value": "Map: 100%"
          }
        },
        "49ba21c9604b46e08ed2a9660986b5a0": {
          "model_module": "@jupyter-widgets/controls",
          "model_name": "FloatProgressModel",
          "model_module_version": "1.5.0",
          "state": {
            "_dom_classes": [],
            "_model_module": "@jupyter-widgets/controls",
            "_model_module_version": "1.5.0",
            "_model_name": "FloatProgressModel",
            "_view_count": null,
            "_view_module": "@jupyter-widgets/controls",
            "_view_module_version": "1.5.0",
            "_view_name": "ProgressView",
            "bar_style": "success",
            "description": "",
            "description_tooltip": null,
            "layout": "IPY_MODEL_6b7535e0ca92418abd83deed43af271e",
            "max": 928,
            "min": 0,
            "orientation": "horizontal",
            "style": "IPY_MODEL_58ac77aa1ac94eabab01066615aa9bd7",
            "value": 928
          }
        },
        "f0e3d757f8c244f187a6b72e76535185": {
          "model_module": "@jupyter-widgets/controls",
          "model_name": "HTMLModel",
          "model_module_version": "1.5.0",
          "state": {
            "_dom_classes": [],
            "_model_module": "@jupyter-widgets/controls",
            "_model_module_version": "1.5.0",
            "_model_name": "HTMLModel",
            "_view_count": null,
            "_view_module": "@jupyter-widgets/controls",
            "_view_module_version": "1.5.0",
            "_view_name": "HTMLView",
            "description": "",
            "description_tooltip": null,
            "layout": "IPY_MODEL_c593fc6aefab4ada9dbeb36bc299fc40",
            "placeholder": "​",
            "style": "IPY_MODEL_462498b68aef4fc293ea580e05b2efe1",
            "value": " 928/928 [00:00&lt;00:00, 2334.40 examples/s]"
          }
        },
        "863e01007d8b4b93a7d4d1a644fd2f27": {
          "model_module": "@jupyter-widgets/base",
          "model_name": "LayoutModel",
          "model_module_version": "1.2.0",
          "state": {
            "_model_module": "@jupyter-widgets/base",
            "_model_module_version": "1.2.0",
            "_model_name": "LayoutModel",
            "_view_count": null,
            "_view_module": "@jupyter-widgets/base",
            "_view_module_version": "1.2.0",
            "_view_name": "LayoutView",
            "align_content": null,
            "align_items": null,
            "align_self": null,
            "border": null,
            "bottom": null,
            "display": null,
            "flex": null,
            "flex_flow": null,
            "grid_area": null,
            "grid_auto_columns": null,
            "grid_auto_flow": null,
            "grid_auto_rows": null,
            "grid_column": null,
            "grid_gap": null,
            "grid_row": null,
            "grid_template_areas": null,
            "grid_template_columns": null,
            "grid_template_rows": null,
            "height": null,
            "justify_content": null,
            "justify_items": null,
            "left": null,
            "margin": null,
            "max_height": null,
            "max_width": null,
            "min_height": null,
            "min_width": null,
            "object_fit": null,
            "object_position": null,
            "order": null,
            "overflow": null,
            "overflow_x": null,
            "overflow_y": null,
            "padding": null,
            "right": null,
            "top": null,
            "visibility": null,
            "width": null
          }
        },
        "2eac9168ea3243319175838fdedef907": {
          "model_module": "@jupyter-widgets/base",
          "model_name": "LayoutModel",
          "model_module_version": "1.2.0",
          "state": {
            "_model_module": "@jupyter-widgets/base",
            "_model_module_version": "1.2.0",
            "_model_name": "LayoutModel",
            "_view_count": null,
            "_view_module": "@jupyter-widgets/base",
            "_view_module_version": "1.2.0",
            "_view_name": "LayoutView",
            "align_content": null,
            "align_items": null,
            "align_self": null,
            "border": null,
            "bottom": null,
            "display": null,
            "flex": null,
            "flex_flow": null,
            "grid_area": null,
            "grid_auto_columns": null,
            "grid_auto_flow": null,
            "grid_auto_rows": null,
            "grid_column": null,
            "grid_gap": null,
            "grid_row": null,
            "grid_template_areas": null,
            "grid_template_columns": null,
            "grid_template_rows": null,
            "height": null,
            "justify_content": null,
            "justify_items": null,
            "left": null,
            "margin": null,
            "max_height": null,
            "max_width": null,
            "min_height": null,
            "min_width": null,
            "object_fit": null,
            "object_position": null,
            "order": null,
            "overflow": null,
            "overflow_x": null,
            "overflow_y": null,
            "padding": null,
            "right": null,
            "top": null,
            "visibility": null,
            "width": null
          }
        },
        "68c92e7661f84b38ada48b1a7808f1c2": {
          "model_module": "@jupyter-widgets/controls",
          "model_name": "DescriptionStyleModel",
          "model_module_version": "1.5.0",
          "state": {
            "_model_module": "@jupyter-widgets/controls",
            "_model_module_version": "1.5.0",
            "_model_name": "DescriptionStyleModel",
            "_view_count": null,
            "_view_module": "@jupyter-widgets/base",
            "_view_module_version": "1.2.0",
            "_view_name": "StyleView",
            "description_width": ""
          }
        },
        "6b7535e0ca92418abd83deed43af271e": {
          "model_module": "@jupyter-widgets/base",
          "model_name": "LayoutModel",
          "model_module_version": "1.2.0",
          "state": {
            "_model_module": "@jupyter-widgets/base",
            "_model_module_version": "1.2.0",
            "_model_name": "LayoutModel",
            "_view_count": null,
            "_view_module": "@jupyter-widgets/base",
            "_view_module_version": "1.2.0",
            "_view_name": "LayoutView",
            "align_content": null,
            "align_items": null,
            "align_self": null,
            "border": null,
            "bottom": null,
            "display": null,
            "flex": null,
            "flex_flow": null,
            "grid_area": null,
            "grid_auto_columns": null,
            "grid_auto_flow": null,
            "grid_auto_rows": null,
            "grid_column": null,
            "grid_gap": null,
            "grid_row": null,
            "grid_template_areas": null,
            "grid_template_columns": null,
            "grid_template_rows": null,
            "height": null,
            "justify_content": null,
            "justify_items": null,
            "left": null,
            "margin": null,
            "max_height": null,
            "max_width": null,
            "min_height": null,
            "min_width": null,
            "object_fit": null,
            "object_position": null,
            "order": null,
            "overflow": null,
            "overflow_x": null,
            "overflow_y": null,
            "padding": null,
            "right": null,
            "top": null,
            "visibility": null,
            "width": null
          }
        },
        "58ac77aa1ac94eabab01066615aa9bd7": {
          "model_module": "@jupyter-widgets/controls",
          "model_name": "ProgressStyleModel",
          "model_module_version": "1.5.0",
          "state": {
            "_model_module": "@jupyter-widgets/controls",
            "_model_module_version": "1.5.0",
            "_model_name": "ProgressStyleModel",
            "_view_count": null,
            "_view_module": "@jupyter-widgets/base",
            "_view_module_version": "1.2.0",
            "_view_name": "StyleView",
            "bar_color": null,
            "description_width": ""
          }
        },
        "c593fc6aefab4ada9dbeb36bc299fc40": {
          "model_module": "@jupyter-widgets/base",
          "model_name": "LayoutModel",
          "model_module_version": "1.2.0",
          "state": {
            "_model_module": "@jupyter-widgets/base",
            "_model_module_version": "1.2.0",
            "_model_name": "LayoutModel",
            "_view_count": null,
            "_view_module": "@jupyter-widgets/base",
            "_view_module_version": "1.2.0",
            "_view_name": "LayoutView",
            "align_content": null,
            "align_items": null,
            "align_self": null,
            "border": null,
            "bottom": null,
            "display": null,
            "flex": null,
            "flex_flow": null,
            "grid_area": null,
            "grid_auto_columns": null,
            "grid_auto_flow": null,
            "grid_auto_rows": null,
            "grid_column": null,
            "grid_gap": null,
            "grid_row": null,
            "grid_template_areas": null,
            "grid_template_columns": null,
            "grid_template_rows": null,
            "height": null,
            "justify_content": null,
            "justify_items": null,
            "left": null,
            "margin": null,
            "max_height": null,
            "max_width": null,
            "min_height": null,
            "min_width": null,
            "object_fit": null,
            "object_position": null,
            "order": null,
            "overflow": null,
            "overflow_x": null,
            "overflow_y": null,
            "padding": null,
            "right": null,
            "top": null,
            "visibility": null,
            "width": null
          }
        },
        "462498b68aef4fc293ea580e05b2efe1": {
          "model_module": "@jupyter-widgets/controls",
          "model_name": "DescriptionStyleModel",
          "model_module_version": "1.5.0",
          "state": {
            "_model_module": "@jupyter-widgets/controls",
            "_model_module_version": "1.5.0",
            "_model_name": "DescriptionStyleModel",
            "_view_count": null,
            "_view_module": "@jupyter-widgets/base",
            "_view_module_version": "1.2.0",
            "_view_name": "StyleView",
            "description_width": ""
          }
        },
        "beee8966857b46a58b0daeeccdaef9c6": {
          "model_module": "@jupyter-widgets/controls",
          "model_name": "HBoxModel",
          "model_module_version": "1.5.0",
          "state": {
            "_dom_classes": [],
            "_model_module": "@jupyter-widgets/controls",
            "_model_module_version": "1.5.0",
            "_model_name": "HBoxModel",
            "_view_count": null,
            "_view_module": "@jupyter-widgets/controls",
            "_view_module_version": "1.5.0",
            "_view_name": "HBoxView",
            "box_style": "",
            "children": [
              "IPY_MODEL_62c5a184a9c64e25b3b8756423df7aa7",
              "IPY_MODEL_8d165a35921842ffaf58c8f73584cabd",
              "IPY_MODEL_42a562fe81874a9691860b98991c2986"
            ],
            "layout": "IPY_MODEL_a6d336fe26a141bdb670a278cee7a089"
          }
        },
        "62c5a184a9c64e25b3b8756423df7aa7": {
          "model_module": "@jupyter-widgets/controls",
          "model_name": "HTMLModel",
          "model_module_version": "1.5.0",
          "state": {
            "_dom_classes": [],
            "_model_module": "@jupyter-widgets/controls",
            "_model_module_version": "1.5.0",
            "_model_name": "HTMLModel",
            "_view_count": null,
            "_view_module": "@jupyter-widgets/controls",
            "_view_module_version": "1.5.0",
            "_view_name": "HTMLView",
            "description": "",
            "description_tooltip": null,
            "layout": "IPY_MODEL_860e7103ace94d50be41ef331c8aeadf",
            "placeholder": "​",
            "style": "IPY_MODEL_66520c0284324c81837c1e4fe2103611",
            "value": "Map: 100%"
          }
        },
        "8d165a35921842ffaf58c8f73584cabd": {
          "model_module": "@jupyter-widgets/controls",
          "model_name": "FloatProgressModel",
          "model_module_version": "1.5.0",
          "state": {
            "_dom_classes": [],
            "_model_module": "@jupyter-widgets/controls",
            "_model_module_version": "1.5.0",
            "_model_name": "FloatProgressModel",
            "_view_count": null,
            "_view_module": "@jupyter-widgets/controls",
            "_view_module_version": "1.5.0",
            "_view_name": "ProgressView",
            "bar_style": "success",
            "description": "",
            "description_tooltip": null,
            "layout": "IPY_MODEL_428edf6076b843a6acbc9d95c1d558da",
            "max": 9028,
            "min": 0,
            "orientation": "horizontal",
            "style": "IPY_MODEL_fc8c501d3c964fe09bbb66877fcc48b4",
            "value": 9028
          }
        },
        "42a562fe81874a9691860b98991c2986": {
          "model_module": "@jupyter-widgets/controls",
          "model_name": "HTMLModel",
          "model_module_version": "1.5.0",
          "state": {
            "_dom_classes": [],
            "_model_module": "@jupyter-widgets/controls",
            "_model_module_version": "1.5.0",
            "_model_name": "HTMLModel",
            "_view_count": null,
            "_view_module": "@jupyter-widgets/controls",
            "_view_module_version": "1.5.0",
            "_view_name": "HTMLView",
            "description": "",
            "description_tooltip": null,
            "layout": "IPY_MODEL_a19d685ecdef44e293d5d0118bc2b2a9",
            "placeholder": "​",
            "style": "IPY_MODEL_2f57bd9a3418428582858ecf07e51ebe",
            "value": " 9028/9028 [00:02&lt;00:00, 3922.61 examples/s]"
          }
        },
        "a6d336fe26a141bdb670a278cee7a089": {
          "model_module": "@jupyter-widgets/base",
          "model_name": "LayoutModel",
          "model_module_version": "1.2.0",
          "state": {
            "_model_module": "@jupyter-widgets/base",
            "_model_module_version": "1.2.0",
            "_model_name": "LayoutModel",
            "_view_count": null,
            "_view_module": "@jupyter-widgets/base",
            "_view_module_version": "1.2.0",
            "_view_name": "LayoutView",
            "align_content": null,
            "align_items": null,
            "align_self": null,
            "border": null,
            "bottom": null,
            "display": null,
            "flex": null,
            "flex_flow": null,
            "grid_area": null,
            "grid_auto_columns": null,
            "grid_auto_flow": null,
            "grid_auto_rows": null,
            "grid_column": null,
            "grid_gap": null,
            "grid_row": null,
            "grid_template_areas": null,
            "grid_template_columns": null,
            "grid_template_rows": null,
            "height": null,
            "justify_content": null,
            "justify_items": null,
            "left": null,
            "margin": null,
            "max_height": null,
            "max_width": null,
            "min_height": null,
            "min_width": null,
            "object_fit": null,
            "object_position": null,
            "order": null,
            "overflow": null,
            "overflow_x": null,
            "overflow_y": null,
            "padding": null,
            "right": null,
            "top": null,
            "visibility": null,
            "width": null
          }
        },
        "860e7103ace94d50be41ef331c8aeadf": {
          "model_module": "@jupyter-widgets/base",
          "model_name": "LayoutModel",
          "model_module_version": "1.2.0",
          "state": {
            "_model_module": "@jupyter-widgets/base",
            "_model_module_version": "1.2.0",
            "_model_name": "LayoutModel",
            "_view_count": null,
            "_view_module": "@jupyter-widgets/base",
            "_view_module_version": "1.2.0",
            "_view_name": "LayoutView",
            "align_content": null,
            "align_items": null,
            "align_self": null,
            "border": null,
            "bottom": null,
            "display": null,
            "flex": null,
            "flex_flow": null,
            "grid_area": null,
            "grid_auto_columns": null,
            "grid_auto_flow": null,
            "grid_auto_rows": null,
            "grid_column": null,
            "grid_gap": null,
            "grid_row": null,
            "grid_template_areas": null,
            "grid_template_columns": null,
            "grid_template_rows": null,
            "height": null,
            "justify_content": null,
            "justify_items": null,
            "left": null,
            "margin": null,
            "max_height": null,
            "max_width": null,
            "min_height": null,
            "min_width": null,
            "object_fit": null,
            "object_position": null,
            "order": null,
            "overflow": null,
            "overflow_x": null,
            "overflow_y": null,
            "padding": null,
            "right": null,
            "top": null,
            "visibility": null,
            "width": null
          }
        },
        "66520c0284324c81837c1e4fe2103611": {
          "model_module": "@jupyter-widgets/controls",
          "model_name": "DescriptionStyleModel",
          "model_module_version": "1.5.0",
          "state": {
            "_model_module": "@jupyter-widgets/controls",
            "_model_module_version": "1.5.0",
            "_model_name": "DescriptionStyleModel",
            "_view_count": null,
            "_view_module": "@jupyter-widgets/base",
            "_view_module_version": "1.2.0",
            "_view_name": "StyleView",
            "description_width": ""
          }
        },
        "428edf6076b843a6acbc9d95c1d558da": {
          "model_module": "@jupyter-widgets/base",
          "model_name": "LayoutModel",
          "model_module_version": "1.2.0",
          "state": {
            "_model_module": "@jupyter-widgets/base",
            "_model_module_version": "1.2.0",
            "_model_name": "LayoutModel",
            "_view_count": null,
            "_view_module": "@jupyter-widgets/base",
            "_view_module_version": "1.2.0",
            "_view_name": "LayoutView",
            "align_content": null,
            "align_items": null,
            "align_self": null,
            "border": null,
            "bottom": null,
            "display": null,
            "flex": null,
            "flex_flow": null,
            "grid_area": null,
            "grid_auto_columns": null,
            "grid_auto_flow": null,
            "grid_auto_rows": null,
            "grid_column": null,
            "grid_gap": null,
            "grid_row": null,
            "grid_template_areas": null,
            "grid_template_columns": null,
            "grid_template_rows": null,
            "height": null,
            "justify_content": null,
            "justify_items": null,
            "left": null,
            "margin": null,
            "max_height": null,
            "max_width": null,
            "min_height": null,
            "min_width": null,
            "object_fit": null,
            "object_position": null,
            "order": null,
            "overflow": null,
            "overflow_x": null,
            "overflow_y": null,
            "padding": null,
            "right": null,
            "top": null,
            "visibility": null,
            "width": null
          }
        },
        "fc8c501d3c964fe09bbb66877fcc48b4": {
          "model_module": "@jupyter-widgets/controls",
          "model_name": "ProgressStyleModel",
          "model_module_version": "1.5.0",
          "state": {
            "_model_module": "@jupyter-widgets/controls",
            "_model_module_version": "1.5.0",
            "_model_name": "ProgressStyleModel",
            "_view_count": null,
            "_view_module": "@jupyter-widgets/base",
            "_view_module_version": "1.2.0",
            "_view_name": "StyleView",
            "bar_color": null,
            "description_width": ""
          }
        },
        "a19d685ecdef44e293d5d0118bc2b2a9": {
          "model_module": "@jupyter-widgets/base",
          "model_name": "LayoutModel",
          "model_module_version": "1.2.0",
          "state": {
            "_model_module": "@jupyter-widgets/base",
            "_model_module_version": "1.2.0",
            "_model_name": "LayoutModel",
            "_view_count": null,
            "_view_module": "@jupyter-widgets/base",
            "_view_module_version": "1.2.0",
            "_view_name": "LayoutView",
            "align_content": null,
            "align_items": null,
            "align_self": null,
            "border": null,
            "bottom": null,
            "display": null,
            "flex": null,
            "flex_flow": null,
            "grid_area": null,
            "grid_auto_columns": null,
            "grid_auto_flow": null,
            "grid_auto_rows": null,
            "grid_column": null,
            "grid_gap": null,
            "grid_row": null,
            "grid_template_areas": null,
            "grid_template_columns": null,
            "grid_template_rows": null,
            "height": null,
            "justify_content": null,
            "justify_items": null,
            "left": null,
            "margin": null,
            "max_height": null,
            "max_width": null,
            "min_height": null,
            "min_width": null,
            "object_fit": null,
            "object_position": null,
            "order": null,
            "overflow": null,
            "overflow_x": null,
            "overflow_y": null,
            "padding": null,
            "right": null,
            "top": null,
            "visibility": null,
            "width": null
          }
        },
        "2f57bd9a3418428582858ecf07e51ebe": {
          "model_module": "@jupyter-widgets/controls",
          "model_name": "DescriptionStyleModel",
          "model_module_version": "1.5.0",
          "state": {
            "_model_module": "@jupyter-widgets/controls",
            "_model_module_version": "1.5.0",
            "_model_name": "DescriptionStyleModel",
            "_view_count": null,
            "_view_module": "@jupyter-widgets/base",
            "_view_module_version": "1.2.0",
            "_view_name": "StyleView",
            "description_width": ""
          }
        },
        "730a20028b0e48b980c2bcc771803e44": {
          "model_module": "@jupyter-widgets/controls",
          "model_name": "HBoxModel",
          "model_module_version": "1.5.0",
          "state": {
            "_dom_classes": [],
            "_model_module": "@jupyter-widgets/controls",
            "_model_module_version": "1.5.0",
            "_model_name": "HBoxModel",
            "_view_count": null,
            "_view_module": "@jupyter-widgets/controls",
            "_view_module_version": "1.5.0",
            "_view_name": "HBoxView",
            "box_style": "",
            "children": [
              "IPY_MODEL_e845555a12e14f67afc57389463aa659",
              "IPY_MODEL_8e013df3af714fc08b1f46a23bd7184e",
              "IPY_MODEL_1c2ae1feb8bc4a088406253669930d30"
            ],
            "layout": "IPY_MODEL_a3bf195078e743d1b923d2b94d7d348d"
          }
        },
        "e845555a12e14f67afc57389463aa659": {
          "model_module": "@jupyter-widgets/controls",
          "model_name": "HTMLModel",
          "model_module_version": "1.5.0",
          "state": {
            "_dom_classes": [],
            "_model_module": "@jupyter-widgets/controls",
            "_model_module_version": "1.5.0",
            "_model_name": "HTMLModel",
            "_view_count": null,
            "_view_module": "@jupyter-widgets/controls",
            "_view_module_version": "1.5.0",
            "_view_name": "HTMLView",
            "description": "",
            "description_tooltip": null,
            "layout": "IPY_MODEL_3db7d644f65a445280c80022050bedbc",
            "placeholder": "​",
            "style": "IPY_MODEL_395122439a2445dd9538e4b56f0fe90a",
            "value": "Map: 100%"
          }
        },
        "8e013df3af714fc08b1f46a23bd7184e": {
          "model_module": "@jupyter-widgets/controls",
          "model_name": "FloatProgressModel",
          "model_module_version": "1.5.0",
          "state": {
            "_dom_classes": [],
            "_model_module": "@jupyter-widgets/controls",
            "_model_module_version": "1.5.0",
            "_model_name": "FloatProgressModel",
            "_view_count": null,
            "_view_module": "@jupyter-widgets/controls",
            "_view_module_version": "1.5.0",
            "_view_name": "ProgressView",
            "bar_style": "success",
            "description": "",
            "description_tooltip": null,
            "layout": "IPY_MODEL_c645ac473d8c46f7bd3c055df5d41fc3",
            "max": 928,
            "min": 0,
            "orientation": "horizontal",
            "style": "IPY_MODEL_9374f105c694408b9fda24eb7bcc8cd6",
            "value": 928
          }
        },
        "1c2ae1feb8bc4a088406253669930d30": {
          "model_module": "@jupyter-widgets/controls",
          "model_name": "HTMLModel",
          "model_module_version": "1.5.0",
          "state": {
            "_dom_classes": [],
            "_model_module": "@jupyter-widgets/controls",
            "_model_module_version": "1.5.0",
            "_model_name": "HTMLModel",
            "_view_count": null,
            "_view_module": "@jupyter-widgets/controls",
            "_view_module_version": "1.5.0",
            "_view_name": "HTMLView",
            "description": "",
            "description_tooltip": null,
            "layout": "IPY_MODEL_283a0c1f30fd441ea2e7258886fe1b9a",
            "placeholder": "​",
            "style": "IPY_MODEL_4f97825cd16b469daea8b3b4d6a2ed4f",
            "value": " 928/928 [00:00&lt;00:00, 3860.61 examples/s]"
          }
        },
        "a3bf195078e743d1b923d2b94d7d348d": {
          "model_module": "@jupyter-widgets/base",
          "model_name": "LayoutModel",
          "model_module_version": "1.2.0",
          "state": {
            "_model_module": "@jupyter-widgets/base",
            "_model_module_version": "1.2.0",
            "_model_name": "LayoutModel",
            "_view_count": null,
            "_view_module": "@jupyter-widgets/base",
            "_view_module_version": "1.2.0",
            "_view_name": "LayoutView",
            "align_content": null,
            "align_items": null,
            "align_self": null,
            "border": null,
            "bottom": null,
            "display": null,
            "flex": null,
            "flex_flow": null,
            "grid_area": null,
            "grid_auto_columns": null,
            "grid_auto_flow": null,
            "grid_auto_rows": null,
            "grid_column": null,
            "grid_gap": null,
            "grid_row": null,
            "grid_template_areas": null,
            "grid_template_columns": null,
            "grid_template_rows": null,
            "height": null,
            "justify_content": null,
            "justify_items": null,
            "left": null,
            "margin": null,
            "max_height": null,
            "max_width": null,
            "min_height": null,
            "min_width": null,
            "object_fit": null,
            "object_position": null,
            "order": null,
            "overflow": null,
            "overflow_x": null,
            "overflow_y": null,
            "padding": null,
            "right": null,
            "top": null,
            "visibility": null,
            "width": null
          }
        },
        "3db7d644f65a445280c80022050bedbc": {
          "model_module": "@jupyter-widgets/base",
          "model_name": "LayoutModel",
          "model_module_version": "1.2.0",
          "state": {
            "_model_module": "@jupyter-widgets/base",
            "_model_module_version": "1.2.0",
            "_model_name": "LayoutModel",
            "_view_count": null,
            "_view_module": "@jupyter-widgets/base",
            "_view_module_version": "1.2.0",
            "_view_name": "LayoutView",
            "align_content": null,
            "align_items": null,
            "align_self": null,
            "border": null,
            "bottom": null,
            "display": null,
            "flex": null,
            "flex_flow": null,
            "grid_area": null,
            "grid_auto_columns": null,
            "grid_auto_flow": null,
            "grid_auto_rows": null,
            "grid_column": null,
            "grid_gap": null,
            "grid_row": null,
            "grid_template_areas": null,
            "grid_template_columns": null,
            "grid_template_rows": null,
            "height": null,
            "justify_content": null,
            "justify_items": null,
            "left": null,
            "margin": null,
            "max_height": null,
            "max_width": null,
            "min_height": null,
            "min_width": null,
            "object_fit": null,
            "object_position": null,
            "order": null,
            "overflow": null,
            "overflow_x": null,
            "overflow_y": null,
            "padding": null,
            "right": null,
            "top": null,
            "visibility": null,
            "width": null
          }
        },
        "395122439a2445dd9538e4b56f0fe90a": {
          "model_module": "@jupyter-widgets/controls",
          "model_name": "DescriptionStyleModel",
          "model_module_version": "1.5.0",
          "state": {
            "_model_module": "@jupyter-widgets/controls",
            "_model_module_version": "1.5.0",
            "_model_name": "DescriptionStyleModel",
            "_view_count": null,
            "_view_module": "@jupyter-widgets/base",
            "_view_module_version": "1.2.0",
            "_view_name": "StyleView",
            "description_width": ""
          }
        },
        "c645ac473d8c46f7bd3c055df5d41fc3": {
          "model_module": "@jupyter-widgets/base",
          "model_name": "LayoutModel",
          "model_module_version": "1.2.0",
          "state": {
            "_model_module": "@jupyter-widgets/base",
            "_model_module_version": "1.2.0",
            "_model_name": "LayoutModel",
            "_view_count": null,
            "_view_module": "@jupyter-widgets/base",
            "_view_module_version": "1.2.0",
            "_view_name": "LayoutView",
            "align_content": null,
            "align_items": null,
            "align_self": null,
            "border": null,
            "bottom": null,
            "display": null,
            "flex": null,
            "flex_flow": null,
            "grid_area": null,
            "grid_auto_columns": null,
            "grid_auto_flow": null,
            "grid_auto_rows": null,
            "grid_column": null,
            "grid_gap": null,
            "grid_row": null,
            "grid_template_areas": null,
            "grid_template_columns": null,
            "grid_template_rows": null,
            "height": null,
            "justify_content": null,
            "justify_items": null,
            "left": null,
            "margin": null,
            "max_height": null,
            "max_width": null,
            "min_height": null,
            "min_width": null,
            "object_fit": null,
            "object_position": null,
            "order": null,
            "overflow": null,
            "overflow_x": null,
            "overflow_y": null,
            "padding": null,
            "right": null,
            "top": null,
            "visibility": null,
            "width": null
          }
        },
        "9374f105c694408b9fda24eb7bcc8cd6": {
          "model_module": "@jupyter-widgets/controls",
          "model_name": "ProgressStyleModel",
          "model_module_version": "1.5.0",
          "state": {
            "_model_module": "@jupyter-widgets/controls",
            "_model_module_version": "1.5.0",
            "_model_name": "ProgressStyleModel",
            "_view_count": null,
            "_view_module": "@jupyter-widgets/base",
            "_view_module_version": "1.2.0",
            "_view_name": "StyleView",
            "bar_color": null,
            "description_width": ""
          }
        },
        "283a0c1f30fd441ea2e7258886fe1b9a": {
          "model_module": "@jupyter-widgets/base",
          "model_name": "LayoutModel",
          "model_module_version": "1.2.0",
          "state": {
            "_model_module": "@jupyter-widgets/base",
            "_model_module_version": "1.2.0",
            "_model_name": "LayoutModel",
            "_view_count": null,
            "_view_module": "@jupyter-widgets/base",
            "_view_module_version": "1.2.0",
            "_view_name": "LayoutView",
            "align_content": null,
            "align_items": null,
            "align_self": null,
            "border": null,
            "bottom": null,
            "display": null,
            "flex": null,
            "flex_flow": null,
            "grid_area": null,
            "grid_auto_columns": null,
            "grid_auto_flow": null,
            "grid_auto_rows": null,
            "grid_column": null,
            "grid_gap": null,
            "grid_row": null,
            "grid_template_areas": null,
            "grid_template_columns": null,
            "grid_template_rows": null,
            "height": null,
            "justify_content": null,
            "justify_items": null,
            "left": null,
            "margin": null,
            "max_height": null,
            "max_width": null,
            "min_height": null,
            "min_width": null,
            "object_fit": null,
            "object_position": null,
            "order": null,
            "overflow": null,
            "overflow_x": null,
            "overflow_y": null,
            "padding": null,
            "right": null,
            "top": null,
            "visibility": null,
            "width": null
          }
        },
        "4f97825cd16b469daea8b3b4d6a2ed4f": {
          "model_module": "@jupyter-widgets/controls",
          "model_name": "DescriptionStyleModel",
          "model_module_version": "1.5.0",
          "state": {
            "_model_module": "@jupyter-widgets/controls",
            "_model_module_version": "1.5.0",
            "_model_name": "DescriptionStyleModel",
            "_view_count": null,
            "_view_module": "@jupyter-widgets/base",
            "_view_module_version": "1.2.0",
            "_view_name": "StyleView",
            "description_width": ""
          }
        }
      }
    }
  },
  "nbformat": 4,
  "nbformat_minor": 0
}